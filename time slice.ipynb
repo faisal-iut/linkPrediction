{
 "cells": [
  {
   "cell_type": "code",
   "execution_count": 1,
   "metadata": {},
   "outputs": [],
   "source": [
    "import pandas as pd\n",
    "import numpy as np\n",
    "import networkx as nx\n",
    "import operator as op\n",
    "import itertools\n",
    "import matplotlib.pyplot as plt\n",
    "import numpy.linalg\n",
    "import cmath\n",
    "import multiprocessing\n",
    "import itertools\n",
    "import scipy.optimize as optimize\n",
    "import csv\n",
    "%matplotlib inline"
   ]
  },
  {
   "cell_type": "code",
   "execution_count": 7,
   "metadata": {},
   "outputs": [],
   "source": [
    "#Dummy Data set\n",
    "dummy=pd.DataFrame([['a', 'c', 1988],\n",
    "                    ['c', 'g', 1989],\n",
    "                    ['a', 'k', 1989],\n",
    "                    ['g', 'a', 1990],\n",
    "                    ['a', 't', 1991],\n",
    "                    ['t', 'l', 1992],\n",
    "                    ['a', 'b', 1993],\n",
    "                    ['c', 'b', 1993],\n",
    "                    ['g', 'k', 1994],\n",
    "                    ['p', 'k', 1994],\n",
    "                    ['a', 'c', 1995],\n",
    "                    ['p', 'c', 1995],\n",
    "                    ['g', 'c', 1995],\n",
    "                    ['l', 'n', 1995],\n",
    "                    ['c', 't', 1995],\n",
    "                    ['p', 'r', 1996],\n",
    "                    ['p', 'k', 1996],\n",
    "                    ['t', 'a', 1996],\n",
    "                    ['r', 'l', 1997],\n",
    "                    ['g', 'w', 1997],\n",
    "                    ['r', 'c', 1998],\n",
    "                    ['p', 'q', 1998],\n",
    "                    ['r', 'g', 1998]],columns = [\"source_id\", \"target_id\", \"timestamp\"])    \n",
    "\n",
    "dummy.source_id = dummy.source_id.astype(str)\n",
    "dummy.target_id = dummy.target_id.astype(str)\n",
    "t_min=dummy.timestamp.min()\n",
    "t_max=dummy.timestamp.max()\n",
    "N=10\n",
    "dataset = dummy"
   ]
  },
  {
   "cell_type": "code",
   "execution_count": 8,
   "metadata": {},
   "outputs": [],
   "source": [
    "def create_intervals(dataset,N):\n",
    "\n",
    "\n",
    "    t_min=dataset.timestamp.min()\n",
    "    t_max=dataset.timestamp.max()\n",
    "\n",
    "\n",
    "    dt=(t_max-t_min)/N\n",
    "    \n",
    "    intervals=[]\n",
    "    for j in range(0,N):\n",
    "\n",
    "        #Start of time interval\n",
    "        tj=t_min + j*dt\n",
    "        \n",
    "        #End of time interval\n",
    "        tj1=t_min +(j+1)*dt\n",
    "\n",
    "        intervals.append([int(tj),int(tj1)])\n",
    "\n",
    "    return(intervals)"
   ]
  },
  {
   "cell_type": "code",
   "execution_count": 9,
   "metadata": {},
   "outputs": [
    {
     "name": "stdout",
     "output_type": "stream",
     "text": [
      "[[1988, 1990], [1990, 1993], [1993, 1995], [1995, 1998]]\n"
     ]
    }
   ],
   "source": [
    "print(create_intervals(dataset,4))"
   ]
  },
  {
   "cell_type": "code",
   "execution_count": 10,
   "metadata": {},
   "outputs": [],
   "source": [
    "class graph(object):\n",
    "    def __init__(self,dataset, t0,t1):\n",
    "        self.t0 = t0\n",
    "        self.t1 = t1\n",
    "        self.dataset = dataset\n",
    "        self.create_graph()\n",
    "        self.interval=[t0,t1]\n",
    "        \n",
    "    def create_graph(self):\n",
    "        self.batch = self.create_batch()\n",
    "        self.graph = nx.from_pandas_edgelist(self.batch, 'source_id', 'target_id')\n",
    "        \n",
    "\n",
    "    def create_batch(self):\n",
    "        \n",
    "        df_indexes=[]\n",
    "        index = 0\n",
    "        self.dataset = self.dataset.reset_index(drop=True)\n",
    "            \n",
    "        if self.t1 == self.dataset.timestamp.max():\n",
    "            while index < len(self.dataset)and self.dataset.timestamp[index]<=self.t1 :\n",
    "                if self.dataset.timestamp[index]>=self.t0:\n",
    "                    df_indexes.append(index)\n",
    "                    \n",
    "                index = index +1\n",
    "\n",
    "            batch = self.dataset.iloc[df_indexes]\n",
    "\n",
    "            return(batch)\n",
    "\n",
    "        else:\n",
    "            while index < len(self.dataset)and self.dataset.timestamp[index]<self.t1 :\n",
    "                if self.dataset.timestamp[index]>=self.t0:\n",
    "                    df_indexes.append(index)\n",
    "                    \n",
    "                index = index +1\n",
    "\n",
    "            batch = self.dataset.iloc[df_indexes]\n",
    "            \n",
    "            return(batch)"
   ]
  },
  {
   "cell_type": "code",
   "execution_count": 11,
   "metadata": {},
   "outputs": [],
   "source": [
    "#returns the number of nodes in each time slice\n",
    "def graph_vertices_volume(dataset,N):\n",
    "    \n",
    "    time_intervals = create_intervals(dataset,N)\n",
    "    nodes_count_list=[]\n",
    "\n",
    "    for time_interval in time_intervals:\n",
    "        G=graph(dataset, time_interval[0], time_interval[1])\n",
    "        nodes_count_list.append(len(G.graph.nodes()))\n",
    "        \n",
    "    return(nodes_count_list)\n",
    "\n",
    "#draw graph of vertice frequency for each time slice\n",
    "def vertices_graph(dataset,N):\n",
    "    T=[]\n",
    "\n",
    "    time_intervals = create_intervals(dataset,N)\n",
    "    for time_interval in time_intervals:\n",
    "        T.append(time_interval[0])\n",
    "\n",
    "    x = T  \n",
    "    #print(x)\n",
    "    y = graph_vertices_volume(dataset,N)\n",
    "\n",
    "    N = len(y)\n",
    "    #x = range(N)\n",
    "    #print(x)\n",
    "    width = 1.5\n",
    "    \n",
    "    plt.subplot(1, 2, 1)\n",
    "    plt.title('Vertices Histogram')\n",
    "    plt.xlabel('Time Intervals Bins')\n",
    "    plt.ylabel('Number of Vertices')\n",
    "    plt.bar(x, y, align='edge',color=\"blue\")"
   ]
  },
  {
   "cell_type": "code",
   "execution_count": 12,
   "metadata": {},
   "outputs": [
    {
     "data": {
      "image/png": "[encoded data removed]",
      "text/plain": [
       "<Figure size 432x288 with 1 Axes>"
      ]
     },
     "metadata": {
      "needs_background": "light"
     },
     "output_type": "display_data"
    }
   ],
   "source": [
    "vertices_graph(dataset,4)"
   ]
  },
  {
   "cell_type": "code",
   "execution_count": 13,
   "metadata": {},
   "outputs": [],
   "source": [
    "#returns number of edges in each time slice\n",
    "def graph_edges_volume(dataset,N):\n",
    "    \n",
    "    time_intervals = create_intervals(dataset,N)\n",
    "    edges_count_list=[]\n",
    "\n",
    "    for time_interval in time_intervals:\n",
    "        G=graph(dataset, time_interval[0], time_interval[1])\n",
    "        edges_count_list.append(len(G.graph.edges()))\n",
    "        #print(G.graph.edges())\n",
    "        #print(time_interval)\n",
    "        \n",
    "    return(edges_count_list)\n",
    "\n",
    "#draw graph of edge frequency for each time slice\n",
    "def edges_graph(dataset,N):\n",
    "    T=[]\n",
    "\n",
    "    time_intervals = create_intervals(dataset,N)\n",
    "    for time_interval in time_intervals:\n",
    "        T.append(time_interval[0])\n",
    "\n",
    "    x = T  \n",
    "    y = graph_edges_volume(dataset,N)\n",
    "\n",
    "    N = len(y)\n",
    "   # x = range(N)\n",
    "    width = 1/1.5\n",
    "    \n",
    "    plt.subplot(1, 2, 2)\n",
    "    plt.title('Edges Histogram')\n",
    "    plt.xlabel('Time Intervals Bins')\n",
    "    plt.ylabel('Number of Edges')\n",
    "    plt.bar(x, y, align='edge',color=\"magenta\")"
   ]
  },
  {
   "cell_type": "code",
   "execution_count": 14,
   "metadata": {},
   "outputs": [],
   "source": [
    "def graph_creator(dataset, n, N):\n",
    "    data_rows = len(dataset)\n",
    "    step = round(data_rows/n)+1\n",
    "    print(step)\n",
    "    start=0\n",
    "    stop=step\n",
    "    for pointer in range(0,data_rows,step):\n",
    "        \n",
    "        vertices_graph(dataset.iloc[start:stop],N)\n",
    "        edges_graph(dataset.iloc[start:stop],N)\n",
    "        print(start,stop,pointer)\n",
    "        \n",
    "        plt.tight_layout()\n",
    "        plt.show()\n",
    "        plt.clf()\n",
    "        \n",
    "        start = start + step\n",
    "        stop = start + step"
   ]
  },
  {
   "cell_type": "code",
   "execution_count": 15,
   "metadata": {},
   "outputs": [
    {
     "ename": "NameError",
     "evalue": "name 'G' is not defined",
     "output_type": "error",
     "traceback": [
      "\u001b[1;31m---------------------------------------------------------------------------\u001b[0m",
      "\u001b[1;31mNameError\u001b[0m                                 Traceback (most recent call last)",
      "\u001b[1;32m<ipython-input-15-9dda9325dd75>\u001b[0m in \u001b[0;36m<module>\u001b[1;34m()\u001b[0m\n\u001b[1;32m----> 1\u001b[1;33m \u001b[0mdc\u001b[0m \u001b[1;33m=\u001b[0m \u001b[0mnx\u001b[0m\u001b[1;33m.\u001b[0m\u001b[0mdegree_centrality\u001b[0m\u001b[1;33m(\u001b[0m\u001b[0mG\u001b[0m\u001b[1;33m.\u001b[0m\u001b[0mgraph\u001b[0m\u001b[1;33m)\u001b[0m\u001b[1;33m\u001b[0m\u001b[0m\n\u001b[0m\u001b[0;32m      2\u001b[0m \u001b[0mcc\u001b[0m \u001b[1;33m=\u001b[0m \u001b[0mnx\u001b[0m\u001b[1;33m.\u001b[0m\u001b[0mcloseness_centrality\u001b[0m\u001b[1;33m(\u001b[0m\u001b[0mG\u001b[0m\u001b[1;33m.\u001b[0m\u001b[0mgraph\u001b[0m\u001b[1;33m)\u001b[0m\u001b[1;33m\u001b[0m\u001b[0m\n\u001b[0;32m      3\u001b[0m \u001b[0mbc\u001b[0m \u001b[1;33m=\u001b[0m \u001b[0mnx\u001b[0m\u001b[1;33m.\u001b[0m\u001b[0mbetweenness_centrality\u001b[0m\u001b[1;33m(\u001b[0m\u001b[0mG\u001b[0m\u001b[1;33m.\u001b[0m\u001b[0mgraph\u001b[0m\u001b[1;33m)\u001b[0m\u001b[1;33m\u001b[0m\u001b[0m\n\u001b[0;32m      4\u001b[0m \u001b[0mec\u001b[0m \u001b[1;33m=\u001b[0m \u001b[0mnx\u001b[0m\u001b[1;33m.\u001b[0m\u001b[0meigenvector_centrality_numpy\u001b[0m\u001b[1;33m(\u001b[0m\u001b[0mG\u001b[0m\u001b[1;33m.\u001b[0m\u001b[0mgraph\u001b[0m\u001b[1;33m)\u001b[0m\u001b[1;33m\u001b[0m\u001b[0m\n\u001b[0;32m      5\u001b[0m \u001b[0mprint\u001b[0m\u001b[1;33m(\u001b[0m\u001b[0mdc\u001b[0m\u001b[1;33m,\u001b[0m\u001b[0mcc\u001b[0m\u001b[1;33m,\u001b[0m\u001b[0mbc\u001b[0m\u001b[1;33m,\u001b[0m\u001b[0mec\u001b[0m\u001b[1;33m,\u001b[0m\u001b[0mG\u001b[0m\u001b[1;33m.\u001b[0m\u001b[0mgraph\u001b[0m\u001b[1;33m.\u001b[0m\u001b[0mnodes\u001b[0m\u001b[1;33m(\u001b[0m\u001b[1;33m)\u001b[0m\u001b[1;33m)\u001b[0m\u001b[1;33m\u001b[0m\u001b[0m\n",
      "\u001b[1;31mNameError\u001b[0m: name 'G' is not defined"
     ]
    }
   ],
   "source": [
    "dc = nx.degree_centrality(G.graph)\n",
    "cc = nx.closeness_centrality(G.graph)\n",
    "bc = nx.betweenness_centrality(G.graph)\n",
    "ec = nx.eigenvector_centrality_numpy(G.graph)\n",
    "print(dc,cc,bc,ec,G.graph.nodes())"
   ]
  },
  {
   "cell_type": "code",
   "execution_count": 16,
   "metadata": {},
   "outputs": [],
   "source": [
    "time_intervals = create_intervals(dataset,1)\n",
    "for time_interval in time_intervals:\n",
    "    G=graph(dataset, time_interval[0], time_interval[1])\n"
   ]
  },
  {
   "cell_type": "code",
   "execution_count": 17,
   "metadata": {},
   "outputs": [
    {
     "name": "stdout",
     "output_type": "stream",
     "text": [
      "{'a': 0.4545454545454546, 'c': 0.5454545454545454, 'g': 0.4545454545454546, 'k': 0.2727272727272727, 't': 0.2727272727272727, 'l': 0.2727272727272727, 'b': 0.18181818181818182, 'p': 0.36363636363636365, 'n': 0.09090909090909091, 'r': 0.36363636363636365, 'w': 0.09090909090909091, 'q': 0.09090909090909091} {'a': 0.5789473684210527, 'c': 0.6470588235294118, 'g': 0.5789473684210527, 'k': 0.5, 't': 0.5238095238095238, 'l': 0.4782608695652174, 'b': 0.44, 'p': 0.55, 'n': 0.3333333333333333, 'r': 0.6111111111111112, 'w': 0.3793103448275862, 'q': 0.36666666666666664} {'a': 0.11212121212121211, 'c': 0.22121212121212122, 'g': 0.21818181818181817, 'k': 0.04242424242424242, 't': 0.09090909090909091, 'l': 0.1909090909090909, 'b': 0.0, 'p': 0.20909090909090908, 'n': 0.0, 'r': 0.22424242424242424, 'w': 0.0, 'q': 0.0} {'a': 0.41249491554527357, 'c': 0.4823797284548243, 'g': 0.4018910134877855, 'k': 0.27675524149366376, 't': 0.26381819905068926, 'l': 0.1596002675376104, 'b': 0.22388794116681054, 'p': 0.2917980258333617, 'n': 0.0399302578838784, 'r': 0.33416992245964866, 'w': 0.10054877762657155, 'q': 0.0730047048247395} ['a', 'c', 'g', 'k', 't', 'l', 'b', 'p', 'n', 'r', 'w', 'q']\n"
     ]
    }
   ],
   "source": [
    "dc = nx.degree_centrality(G.graph)\n",
    "cc = nx.closeness_centrality(G.graph)\n",
    "bc = nx.betweenness_centrality(G.graph)\n",
    "ec = nx.eigenvector_centrality_numpy(G.graph)\n",
    "print(dc,cc,bc,ec,G.graph.nodes())"
   ]
  },
  {
   "cell_type": "code",
   "execution_count": 18,
   "metadata": {},
   "outputs": [],
   "source": [
    "def vertices_intersection(dataset,t0,t1,t2):\n",
    "    \n",
    "    #Create two graphs\n",
    "    G1 = graph(dataset,t0,t1) #for t-1,t\n",
    "    G2 = graph(dataset,t1,t2) #for t, t+1\n",
    "    \n",
    "    S1=set(G1.graph.nodes())\n",
    "    S2=set(G2.graph.nodes())\n",
    "    #print(S1,S2)\n",
    "    return set.intersection(S1,S2) #Return the common nodes"
   ]
  },
  {
   "cell_type": "code",
   "execution_count": 19,
   "metadata": {},
   "outputs": [
    {
     "data": {
      "text/plain": [
       "{'a', 'c', 'g', 'k', 'l', 't'}"
      ]
     },
     "execution_count": 19,
     "metadata": {},
     "output_type": "execute_result"
    }
   ],
   "source": [
    "#time_intervals = create_intervals(dataset,2)\n",
    "t0=1988\n",
    "t1=1993\n",
    "t2=1996\n",
    "vertices_intersection(dataset,t0,t1,t2)"
   ]
  },
  {
   "cell_type": "code",
   "execution_count": 20,
   "metadata": {},
   "outputs": [],
   "source": [
    "def E_prev_set(dataset,t0,t1,t2):\n",
    "    \n",
    "    #Calculate the intersection\n",
    "    G1 = graph(dataset,t0,t1) #for t-1,t\n",
    "    G2 = graph(dataset,t1,t2) #for t, t+1\n",
    "    \n",
    "    S1 = set(G1.graph.nodes())\n",
    "    S2 = set(G1.graph.nodes())\n",
    "    \n",
    "    intersection = set.intersection(S1,S2)\n",
    "    #Calculate the the intersection vertices in [t-1, t)\n",
    "    df = pd.DataFrame(columns = [\"source_id\", \"target_id\", \"timestamp\"])\n",
    "    for row in G1.batch.itertuples():\n",
    "        if (row.source_id in intersection and row.target_id in intersection) and (t0<=row.timestamp<t1):\n",
    "            #print(row.target_id,row.source_id)\n",
    "            df = pd.concat([df,pd.DataFrame([row])],axis = 0)\n",
    "\n",
    "    if not df.empty:\n",
    "        del df['Index']\n",
    "        df=df.reset_index(drop=True)\n",
    "\n",
    "        #Calculate the intersection edges in [t-1, t)\n",
    "        G= graph(df,t0,t1)\n",
    "\n",
    "        return set(G.graph.edges())"
   ]
  },
  {
   "cell_type": "code",
   "execution_count": 21,
   "metadata": {},
   "outputs": [
    {
     "name": "stdout",
     "output_type": "stream",
     "text": [
      "{('a', 'k'), ('c', 'g'), ('t', 'l'), ('a', 't'), ('a', 'g'), ('a', 'c')}\n"
     ]
    },
    {
     "name": "stderr",
     "output_type": "stream",
     "text": [
      "C:\\Users\\faisal\\Anaconda3\\lib\\site-packages\\ipykernel_launcher.py:16: FutureWarning: Sorting because non-concatenation axis is not aligned. A future version\n",
      "of pandas will change to not sort by default.\n",
      "\n",
      "To accept the future behavior, pass 'sort=False'.\n",
      "\n",
      "To retain the current behavior and silence the warning, pass 'sort=True'.\n",
      "\n",
      "  app.launch_new_instance()\n"
     ]
    }
   ],
   "source": [
    "t0=1988\n",
    "t1=1993\n",
    "t2=1996\n",
    "print(E_prev_set(dataset,t0,t1,t2))"
   ]
  },
  {
   "cell_type": "code",
   "execution_count": 22,
   "metadata": {},
   "outputs": [],
   "source": [
    "def E_next_set(dataset,t0,t1,t2):\n",
    "    \n",
    "    #Calculate the intersection\n",
    "    G1 = graph(dataset,t0,t1) #for t-1,t\n",
    "    G2 = graph(dataset,t1,t2) #for t, t+1\n",
    "    \n",
    "    S1 = set(G1.graph.nodes())\n",
    "    S2 = set(G2.graph.nodes())\n",
    "    \n",
    "    intersection = set.intersection(S1,S2)\n",
    "\n",
    "    #Calculate the the intersection vertices in [t, t+1)\n",
    "    df = pd.DataFrame(columns = [\"source_id\", \"target_id\", \"timestamp\"])\n",
    "    for row in G2.batch.itertuples():\n",
    "        if (row.source_id in intersection and row.target_id in intersection) and (t1<=row.timestamp<t2):\n",
    "            df = pd.concat([df,pd.DataFrame([row])],axis = 0)\n",
    "    \n",
    "    if not df.empty:\n",
    "        del df['Index']\n",
    "        df=df.reset_index(drop=True)\n",
    "\n",
    "        #Calculate the intersection edges in [t, t+1)\n",
    "        G= graph(df,t1,t2)\n",
    "\n",
    "        return set(G.graph.edges())\n"
   ]
  },
  {
   "cell_type": "code",
   "execution_count": 23,
   "metadata": {},
   "outputs": [
    {
     "name": "stderr",
     "output_type": "stream",
     "text": [
      "C:\\Users\\faisal\\Anaconda3\\lib\\site-packages\\ipykernel_launcher.py:16: FutureWarning: Sorting because non-concatenation axis is not aligned. A future version\n",
      "of pandas will change to not sort by default.\n",
      "\n",
      "To accept the future behavior, pass 'sort=False'.\n",
      "\n",
      "To retain the current behavior and silence the warning, pass 'sort=True'.\n",
      "\n",
      "  app.launch_new_instance()\n"
     ]
    },
    {
     "data": {
      "text/plain": [
       "{('a', 'c'), ('a', 't'), ('c', 't'), ('g', 'c'), ('g', 'k')}"
      ]
     },
     "execution_count": 23,
     "metadata": {},
     "output_type": "execute_result"
    }
   ],
   "source": [
    "t0=1988\n",
    "t1=1994\n",
    "t2=1998\n",
    "E_next_set(dataset,t0,t1,t2)"
   ]
  },
  {
   "cell_type": "code",
   "execution_count": 24,
   "metadata": {
    "scrolled": true
   },
   "outputs": [
    {
     "data": {
      "text/html": [
       "<div>\n",
       "<style scoped>\n",
       "    .dataframe tbody tr th:only-of-type {\n",
       "        vertical-align: middle;\n",
       "    }\n",
       "\n",
       "    .dataframe tbody tr th {\n",
       "        vertical-align: top;\n",
       "    }\n",
       "\n",
       "    .dataframe thead th {\n",
       "        text-align: right;\n",
       "    }\n",
       "</style>\n",
       "<table border=\"1\" class=\"dataframe\">\n",
       "  <thead>\n",
       "    <tr style=\"text-align: right;\">\n",
       "      <th></th>\n",
       "      <th>source_id</th>\n",
       "      <th>target_id</th>\n",
       "      <th>timestamp</th>\n",
       "    </tr>\n",
       "  </thead>\n",
       "  <tbody>\n",
       "    <tr>\n",
       "      <th>0</th>\n",
       "      <td>a</td>\n",
       "      <td>c</td>\n",
       "      <td>1988</td>\n",
       "    </tr>\n",
       "    <tr>\n",
       "      <th>1</th>\n",
       "      <td>c</td>\n",
       "      <td>g</td>\n",
       "      <td>1989</td>\n",
       "    </tr>\n",
       "    <tr>\n",
       "      <th>2</th>\n",
       "      <td>a</td>\n",
       "      <td>k</td>\n",
       "      <td>1989</td>\n",
       "    </tr>\n",
       "    <tr>\n",
       "      <th>3</th>\n",
       "      <td>g</td>\n",
       "      <td>a</td>\n",
       "      <td>1990</td>\n",
       "    </tr>\n",
       "    <tr>\n",
       "      <th>4</th>\n",
       "      <td>a</td>\n",
       "      <td>t</td>\n",
       "      <td>1991</td>\n",
       "    </tr>\n",
       "    <tr>\n",
       "      <th>5</th>\n",
       "      <td>t</td>\n",
       "      <td>l</td>\n",
       "      <td>1992</td>\n",
       "    </tr>\n",
       "    <tr>\n",
       "      <th>6</th>\n",
       "      <td>a</td>\n",
       "      <td>b</td>\n",
       "      <td>1993</td>\n",
       "    </tr>\n",
       "    <tr>\n",
       "      <th>7</th>\n",
       "      <td>c</td>\n",
       "      <td>b</td>\n",
       "      <td>1993</td>\n",
       "    </tr>\n",
       "    <tr>\n",
       "      <th>8</th>\n",
       "      <td>g</td>\n",
       "      <td>k</td>\n",
       "      <td>1994</td>\n",
       "    </tr>\n",
       "    <tr>\n",
       "      <th>9</th>\n",
       "      <td>p</td>\n",
       "      <td>k</td>\n",
       "      <td>1994</td>\n",
       "    </tr>\n",
       "    <tr>\n",
       "      <th>10</th>\n",
       "      <td>a</td>\n",
       "      <td>c</td>\n",
       "      <td>1995</td>\n",
       "    </tr>\n",
       "    <tr>\n",
       "      <th>11</th>\n",
       "      <td>p</td>\n",
       "      <td>c</td>\n",
       "      <td>1995</td>\n",
       "    </tr>\n",
       "    <tr>\n",
       "      <th>12</th>\n",
       "      <td>g</td>\n",
       "      <td>c</td>\n",
       "      <td>1995</td>\n",
       "    </tr>\n",
       "    <tr>\n",
       "      <th>13</th>\n",
       "      <td>l</td>\n",
       "      <td>n</td>\n",
       "      <td>1995</td>\n",
       "    </tr>\n",
       "    <tr>\n",
       "      <th>14</th>\n",
       "      <td>c</td>\n",
       "      <td>t</td>\n",
       "      <td>1995</td>\n",
       "    </tr>\n",
       "    <tr>\n",
       "      <th>15</th>\n",
       "      <td>p</td>\n",
       "      <td>r</td>\n",
       "      <td>1996</td>\n",
       "    </tr>\n",
       "    <tr>\n",
       "      <th>16</th>\n",
       "      <td>p</td>\n",
       "      <td>k</td>\n",
       "      <td>1996</td>\n",
       "    </tr>\n",
       "    <tr>\n",
       "      <th>17</th>\n",
       "      <td>t</td>\n",
       "      <td>a</td>\n",
       "      <td>1996</td>\n",
       "    </tr>\n",
       "    <tr>\n",
       "      <th>18</th>\n",
       "      <td>r</td>\n",
       "      <td>l</td>\n",
       "      <td>1997</td>\n",
       "    </tr>\n",
       "    <tr>\n",
       "      <th>19</th>\n",
       "      <td>g</td>\n",
       "      <td>w</td>\n",
       "      <td>1997</td>\n",
       "    </tr>\n",
       "    <tr>\n",
       "      <th>20</th>\n",
       "      <td>r</td>\n",
       "      <td>c</td>\n",
       "      <td>1998</td>\n",
       "    </tr>\n",
       "    <tr>\n",
       "      <th>21</th>\n",
       "      <td>p</td>\n",
       "      <td>q</td>\n",
       "      <td>1998</td>\n",
       "    </tr>\n",
       "    <tr>\n",
       "      <th>22</th>\n",
       "      <td>r</td>\n",
       "      <td>g</td>\n",
       "      <td>1998</td>\n",
       "    </tr>\n",
       "  </tbody>\n",
       "</table>\n",
       "</div>"
      ],
      "text/plain": [
       "   source_id target_id  timestamp\n",
       "0          a         c       1988\n",
       "1          c         g       1989\n",
       "2          a         k       1989\n",
       "3          g         a       1990\n",
       "4          a         t       1991\n",
       "5          t         l       1992\n",
       "6          a         b       1993\n",
       "7          c         b       1993\n",
       "8          g         k       1994\n",
       "9          p         k       1994\n",
       "10         a         c       1995\n",
       "11         p         c       1995\n",
       "12         g         c       1995\n",
       "13         l         n       1995\n",
       "14         c         t       1995\n",
       "15         p         r       1996\n",
       "16         p         k       1996\n",
       "17         t         a       1996\n",
       "18         r         l       1997\n",
       "19         g         w       1997\n",
       "20         r         c       1998\n",
       "21         p         q       1998\n",
       "22         r         g       1998"
      ]
     },
     "execution_count": 24,
     "metadata": {},
     "output_type": "execute_result"
    }
   ],
   "source": [
    "dataset"
   ]
  },
  {
   "cell_type": "code",
   "execution_count": 25,
   "metadata": {},
   "outputs": [],
   "source": [
    "def vertices_volume(dataset,N):\n",
    "    \n",
    "    time_intervals = create_intervals(dataset,N)\n",
    "    #print(time_intervals)\n",
    "    intersection_list=[]\n",
    "    i = 0\n",
    "    for time_interval in time_intervals:\n",
    "        if i < (len(time_intervals)-1):\n",
    "            dt = time_interval[1] - time_interval[0]\n",
    "            intersection_list.append(len(vertices_intersection(dataset, time_interval[0], time_interval[1], time_interval[1] + dt)))\n",
    "    #print(vertices_intersection(dataset, 1994, 1996, 1998))\n",
    "        \n",
    "    return(intersection_list)"
   ]
  },
  {
   "cell_type": "code",
   "execution_count": 26,
   "metadata": {
    "scrolled": true
   },
   "outputs": [
    {
     "data": {
      "text/plain": [
       "[6, 5]"
      ]
     },
     "execution_count": 26,
     "metadata": {},
     "output_type": "execute_result"
    }
   ],
   "source": [
    "vertices_volume(dataset,2)"
   ]
  },
  {
   "cell_type": "code",
   "execution_count": 27,
   "metadata": {},
   "outputs": [],
   "source": [
    "def jaccard_distance(dataset,t0,t1,t2):\n",
    "    \n",
    "    vertices_list = sorted(vertices_intersection(dataset,t0,t1,t2))\n",
    "    edges_set = E_prev_set(dataset,t0,t1,t2)\n",
    "\n",
    "    #Create the graph Object\n",
    "    Gprev=nx.Graph()\n",
    "    \n",
    "    #Add the common vertices for the [t-1, t+1]\n",
    "    Gprev.add_nodes_from(vertices_list)\n",
    "    #Take the edges of the [t-1, t) interval\n",
    "    if edges_set is not None:\n",
    "        Gprev.add_edges_from(edges_set)\n",
    "    \n",
    "    jacc = list(nx.jaccard_coefficient(Gprev))\n",
    "\n",
    "    df=pd.DataFrame(0,index=vertices_list, columns=vertices_list)\n",
    "    for i in range(0,len(jacc)):\n",
    "        df.loc[jacc[i][0],jacc[i][1]] = jacc[i][2]\n",
    "        df.loc[jacc[i][1],jacc[i][0]] = jacc[i][2]\n",
    "        \n",
    "    return(df)"
   ]
  },
  {
   "cell_type": "code",
   "execution_count": 28,
   "metadata": {},
   "outputs": [
    {
     "name": "stderr",
     "output_type": "stream",
     "text": [
      "C:\\Users\\faisal\\Anaconda3\\lib\\site-packages\\ipykernel_launcher.py:16: FutureWarning: Sorting because non-concatenation axis is not aligned. A future version\n",
      "of pandas will change to not sort by default.\n",
      "\n",
      "To accept the future behavior, pass 'sort=False'.\n",
      "\n",
      "To retain the current behavior and silence the warning, pass 'sort=True'.\n",
      "\n",
      "  app.launch_new_instance()\n"
     ]
    },
    {
     "data": {
      "text/html": [
       "<div>\n",
       "<style scoped>\n",
       "    .dataframe tbody tr th:only-of-type {\n",
       "        vertical-align: middle;\n",
       "    }\n",
       "\n",
       "    .dataframe tbody tr th {\n",
       "        vertical-align: top;\n",
       "    }\n",
       "\n",
       "    .dataframe thead th {\n",
       "        text-align: right;\n",
       "    }\n",
       "</style>\n",
       "<table border=\"1\" class=\"dataframe\">\n",
       "  <thead>\n",
       "    <tr style=\"text-align: right;\">\n",
       "      <th></th>\n",
       "      <th>a</th>\n",
       "      <th>c</th>\n",
       "      <th>g</th>\n",
       "      <th>k</th>\n",
       "      <th>l</th>\n",
       "      <th>t</th>\n",
       "    </tr>\n",
       "  </thead>\n",
       "  <tbody>\n",
       "    <tr>\n",
       "      <th>a</th>\n",
       "      <td>0.00</td>\n",
       "      <td>0.000000</td>\n",
       "      <td>0.000000</td>\n",
       "      <td>0.0</td>\n",
       "      <td>0.25</td>\n",
       "      <td>0.000000</td>\n",
       "    </tr>\n",
       "    <tr>\n",
       "      <th>c</th>\n",
       "      <td>0.00</td>\n",
       "      <td>0.000000</td>\n",
       "      <td>0.000000</td>\n",
       "      <td>0.5</td>\n",
       "      <td>0.00</td>\n",
       "      <td>0.333333</td>\n",
       "    </tr>\n",
       "    <tr>\n",
       "      <th>g</th>\n",
       "      <td>0.00</td>\n",
       "      <td>0.000000</td>\n",
       "      <td>0.000000</td>\n",
       "      <td>0.5</td>\n",
       "      <td>0.00</td>\n",
       "      <td>0.333333</td>\n",
       "    </tr>\n",
       "    <tr>\n",
       "      <th>k</th>\n",
       "      <td>0.00</td>\n",
       "      <td>0.500000</td>\n",
       "      <td>0.500000</td>\n",
       "      <td>0.0</td>\n",
       "      <td>0.00</td>\n",
       "      <td>0.500000</td>\n",
       "    </tr>\n",
       "    <tr>\n",
       "      <th>l</th>\n",
       "      <td>0.25</td>\n",
       "      <td>0.000000</td>\n",
       "      <td>0.000000</td>\n",
       "      <td>0.0</td>\n",
       "      <td>0.00</td>\n",
       "      <td>0.000000</td>\n",
       "    </tr>\n",
       "    <tr>\n",
       "      <th>t</th>\n",
       "      <td>0.00</td>\n",
       "      <td>0.333333</td>\n",
       "      <td>0.333333</td>\n",
       "      <td>0.5</td>\n",
       "      <td>0.00</td>\n",
       "      <td>0.000000</td>\n",
       "    </tr>\n",
       "  </tbody>\n",
       "</table>\n",
       "</div>"
      ],
      "text/plain": [
       "      a         c         g    k     l         t\n",
       "a  0.00  0.000000  0.000000  0.0  0.25  0.000000\n",
       "c  0.00  0.000000  0.000000  0.5  0.00  0.333333\n",
       "g  0.00  0.000000  0.000000  0.5  0.00  0.333333\n",
       "k  0.00  0.500000  0.500000  0.0  0.00  0.500000\n",
       "l  0.25  0.000000  0.000000  0.0  0.00  0.000000\n",
       "t  0.00  0.333333  0.333333  0.5  0.00  0.000000"
      ]
     },
     "execution_count": 28,
     "metadata": {},
     "output_type": "execute_result"
    }
   ],
   "source": [
    "t0=1988\n",
    "t1=1993\n",
    "t2=1996\n",
    "jaccard_distance(dataset,t0,t1,t2)"
   ]
  },
  {
   "cell_type": "code",
   "execution_count": 29,
   "metadata": {},
   "outputs": [
    {
     "name": "stderr",
     "output_type": "stream",
     "text": [
      "C:\\Users\\faisal\\Anaconda3\\lib\\site-packages\\ipykernel_launcher.py:16: FutureWarning: Sorting because non-concatenation axis is not aligned. A future version\n",
      "of pandas will change to not sort by default.\n",
      "\n",
      "To accept the future behavior, pass 'sort=False'.\n",
      "\n",
      "To retain the current behavior and silence the warning, pass 'sort=True'.\n",
      "\n",
      "  app.launch_new_instance()\n"
     ]
    },
    {
     "ename": "TypeError",
     "evalue": "'set' object does not support indexing",
     "output_type": "error",
     "traceback": [
      "\u001b[1;31m---------------------------------------------------------------------------\u001b[0m",
      "\u001b[1;31mTypeError\u001b[0m                                 Traceback (most recent call last)",
      "\u001b[1;32m<ipython-input-29-23fa216abb28>\u001b[0m in \u001b[0;36m<module>\u001b[1;34m()\u001b[0m\n\u001b[0;32m      7\u001b[0m \u001b[0mlabel\u001b[0m\u001b[1;33m=\u001b[0m\u001b[0mpd\u001b[0m\u001b[1;33m.\u001b[0m\u001b[0mDataFrame\u001b[0m\u001b[1;33m(\u001b[0m\u001b[1;34m'-'\u001b[0m\u001b[1;33m,\u001b[0m\u001b[0mindex\u001b[0m\u001b[1;33m=\u001b[0m\u001b[0mvertices_list\u001b[0m\u001b[1;33m,\u001b[0m \u001b[0mcolumns\u001b[0m\u001b[1;33m=\u001b[0m\u001b[0mvertices_list\u001b[0m\u001b[1;33m)\u001b[0m\u001b[1;33m\u001b[0m\u001b[0m\n\u001b[0;32m      8\u001b[0m \u001b[1;32mfor\u001b[0m \u001b[0mi\u001b[0m \u001b[1;32min\u001b[0m \u001b[0mrange\u001b[0m\u001b[1;33m(\u001b[0m\u001b[1;36m0\u001b[0m\u001b[1;33m,\u001b[0m\u001b[0mlen\u001b[0m\u001b[1;33m(\u001b[0m\u001b[0medges_set_next\u001b[0m\u001b[1;33m)\u001b[0m\u001b[1;33m)\u001b[0m\u001b[1;33m:\u001b[0m\u001b[1;33m\u001b[0m\u001b[0m\n\u001b[1;32m----> 9\u001b[1;33m     \u001b[0mlabel\u001b[0m\u001b[1;33m.\u001b[0m\u001b[0mloc\u001b[0m\u001b[1;33m[\u001b[0m\u001b[0medges_set_next\u001b[0m\u001b[1;33m[\u001b[0m\u001b[0mi\u001b[0m\u001b[1;33m]\u001b[0m\u001b[1;33m[\u001b[0m\u001b[1;36m0\u001b[0m\u001b[1;33m]\u001b[0m\u001b[1;33m,\u001b[0m\u001b[0medges_set_next\u001b[0m\u001b[1;33m[\u001b[0m\u001b[0mi\u001b[0m\u001b[1;33m]\u001b[0m\u001b[1;33m[\u001b[0m\u001b[1;36m1\u001b[0m\u001b[1;33m]\u001b[0m\u001b[1;33m]\u001b[0m \u001b[1;33m=\u001b[0m \u001b[1;34m'+'\u001b[0m\u001b[1;33m\u001b[0m\u001b[0m\n\u001b[0m\u001b[0;32m     10\u001b[0m     \u001b[0mlabel\u001b[0m\u001b[1;33m.\u001b[0m\u001b[0mloc\u001b[0m\u001b[1;33m[\u001b[0m\u001b[0medges_set_next\u001b[0m\u001b[1;33m[\u001b[0m\u001b[0mi\u001b[0m\u001b[1;33m]\u001b[0m\u001b[1;33m[\u001b[0m\u001b[1;36m1\u001b[0m\u001b[1;33m]\u001b[0m\u001b[1;33m,\u001b[0m\u001b[0medges_set_next\u001b[0m\u001b[1;33m[\u001b[0m\u001b[0mi\u001b[0m\u001b[1;33m]\u001b[0m\u001b[1;33m[\u001b[0m\u001b[1;36m0\u001b[0m\u001b[1;33m]\u001b[0m\u001b[1;33m]\u001b[0m \u001b[1;33m=\u001b[0m \u001b[1;34m'+'\u001b[0m\u001b[1;33m\u001b[0m\u001b[0m\n\u001b[0;32m     11\u001b[0m \u001b[1;32mfor\u001b[0m \u001b[0mi\u001b[0m \u001b[1;32min\u001b[0m \u001b[0mrange\u001b[0m\u001b[1;33m(\u001b[0m\u001b[1;36m0\u001b[0m\u001b[1;33m,\u001b[0m\u001b[0mlen\u001b[0m\u001b[1;33m(\u001b[0m\u001b[0medges_set_prev\u001b[0m\u001b[1;33m)\u001b[0m\u001b[1;33m)\u001b[0m\u001b[1;33m:\u001b[0m\u001b[1;33m\u001b[0m\u001b[0m\n",
      "\u001b[1;31mTypeError\u001b[0m: 'set' object does not support indexing"
     ]
    }
   ],
   "source": [
    "t0=1988\n",
    "t1=1993\n",
    "t2=1996\n",
    "edges_set_next = E_next_set(dataset,t0,t1,t2)\n",
    "edges_set_prev = E_prev_set(dataset,t0,t1,t2)\n",
    "vertices_list = sorted(vertices_intersection(dataset,t0,t1,t2))\n",
    "label=pd.DataFrame('-',index=vertices_list, columns=vertices_list)\n",
    "for i in range(0,len(edges_set_next)):\n",
    "    label.loc[edges_set_next[i][0],edges_set_next[i][1]] = '+'\n",
    "    label.loc[edges_set_next[i][1],edges_set_next[i][0]] = '+'\n",
    "for i in range(0,len(edges_set_prev)):\n",
    "    label.loc[edges_set_prev[i][0],edges_set_prev[i][1]] = 0\n",
    "    label.loc[edges_set_prev[i][1],edges_set_prev[i][0]] = 0\n",
    "for i in range(0,len(vertices_list)):\n",
    "    label.loc[vertices_list[i],vertices_list[i]] = 0\n",
    "print(label)"
   ]
  },
  {
   "cell_type": "code",
   "execution_count": 30,
   "metadata": {},
   "outputs": [],
   "source": [
    "def calculate_label(dataset,t0,t1,t2):\n",
    "    edges_set_next = list(E_next_set(dataset,t0,t1,t2))\n",
    "    edges_set_prev = list(E_prev_set(dataset,t0,t1,t2))\n",
    "    vertices_list = sorted(vertices_intersection(dataset,t0,t1,t2))\n",
    "    label=pd.DataFrame('-',index=vertices_list, columns=vertices_list)\n",
    "    for i in range(0,len(edges_set_next)):\n",
    "        label.loc[edges_set_next[i][0],edges_set_next[i][1]] = '+'\n",
    "        label.loc[edges_set_next[i][1],edges_set_next[i][0]] = '+'\n",
    "    for i in range(0,len(edges_set_prev)):\n",
    "        label.loc[edges_set_prev[i][0],edges_set_prev[i][1]] = 0\n",
    "        label.loc[edges_set_prev[i][1],edges_set_prev[i][0]] = 0\n",
    "    for i in range(0,len(vertices_list)):\n",
    "        label.loc[vertices_list[i],vertices_list[i]] = 0\n",
    "    return(label)"
   ]
  },
  {
   "cell_type": "code",
   "execution_count": 31,
   "metadata": {},
   "outputs": [],
   "source": [
    "def calculate_jaccard_distance(dataset, N):\n",
    "    \n",
    "    time_intervals = create_intervals(dataset,N)\n",
    "    for time_interval in time_intervals:\n",
    "\n",
    "        dt = time_interval[1] - time_interval[0]\n",
    "\n",
    "        #Common Neighbors Distance Calculation\n",
    "        matrix=jaccard_distance(dataset, time_interval[0], time_interval[1], time_interval[1] + dt)\n",
    "        label=calculate_label(dataset, time_interval[0], time_interval[1], time_interval[1] + dt)\n",
    "        if (matrix is not None) and (not matrix.empty):\n",
    "            print(matrix)\n",
    "            print(label)"
   ]
  },
  {
   "cell_type": "code",
   "execution_count": 32,
   "metadata": {},
   "outputs": [],
   "source": [
    "def calculate_jaccard_distance_for_all_pairs(dataset, n, N):\n",
    "    data_rows = len(dataset)\n",
    "    step = round(data_rows/n)\n",
    "    start=0\n",
    "    stop=step\n",
    "    for pointer in range(0,data_rows,step):\n",
    "        calculate_jaccard_distance(dataset.iloc[start:stop], N)\n",
    "        \n",
    "        start = start + step\n",
    "        stop = start + step"
   ]
  },
  {
   "cell_type": "code",
   "execution_count": 33,
   "metadata": {},
   "outputs": [
    {
     "name": "stdout",
     "output_type": "stream",
     "text": [
      "     a    g    k    c\n",
      "a  0.0  0.5  NaN  NaN\n",
      "g  0.5  0.0  0.0  NaN\n",
      "c  NaN  NaN  0.5  NaN\n",
      "k  NaN  0.0  NaN  0.5\n",
      "   a    g    k    c\n",
      "a  0    +  0.0  0.0\n",
      "g  +    0  NaN  0.0\n",
      "k  0  NaN  NaN  NaN\n",
      "c  0    0  NaN  NaN\n"
     ]
    },
    {
     "name": "stderr",
     "output_type": "stream",
     "text": [
      "C:\\Users\\faisal\\Anaconda3\\lib\\site-packages\\ipykernel_launcher.py:16: FutureWarning: Sorting because non-concatenation axis is not aligned. A future version\n",
      "of pandas will change to not sort by default.\n",
      "\n",
      "To accept the future behavior, pass 'sort=False'.\n",
      "\n",
      "To retain the current behavior and silence the warning, pass 'sort=True'.\n",
      "\n",
      "  app.launch_new_instance()\n"
     ]
    },
    {
     "ename": "TypeError",
     "evalue": "'NoneType' object is not iterable",
     "output_type": "error",
     "traceback": [
      "\u001b[1;31m---------------------------------------------------------------------------\u001b[0m",
      "\u001b[1;31mTypeError\u001b[0m                                 Traceback (most recent call last)",
      "\u001b[1;32m<ipython-input-33-ab1cd16cb958>\u001b[0m in \u001b[0;36m<module>\u001b[1;34m()\u001b[0m\n\u001b[1;32m----> 1\u001b[1;33m \u001b[0mcalculate_jaccard_distance\u001b[0m\u001b[1;33m(\u001b[0m\u001b[0mdataset\u001b[0m\u001b[1;33m,\u001b[0m \u001b[1;36m5\u001b[0m\u001b[1;33m)\u001b[0m\u001b[1;33m\u001b[0m\u001b[0m\n\u001b[0m",
      "\u001b[1;32m<ipython-input-31-46e28126c0ec>\u001b[0m in \u001b[0;36mcalculate_jaccard_distance\u001b[1;34m(dataset, N)\u001b[0m\n\u001b[0;32m      8\u001b[0m         \u001b[1;31m#Common Neighbors Distance Calculation\u001b[0m\u001b[1;33m\u001b[0m\u001b[1;33m\u001b[0m\u001b[0m\n\u001b[0;32m      9\u001b[0m         \u001b[0mmatrix\u001b[0m\u001b[1;33m=\u001b[0m\u001b[0mjaccard_distance\u001b[0m\u001b[1;33m(\u001b[0m\u001b[0mdataset\u001b[0m\u001b[1;33m,\u001b[0m \u001b[0mtime_interval\u001b[0m\u001b[1;33m[\u001b[0m\u001b[1;36m0\u001b[0m\u001b[1;33m]\u001b[0m\u001b[1;33m,\u001b[0m \u001b[0mtime_interval\u001b[0m\u001b[1;33m[\u001b[0m\u001b[1;36m1\u001b[0m\u001b[1;33m]\u001b[0m\u001b[1;33m,\u001b[0m \u001b[0mtime_interval\u001b[0m\u001b[1;33m[\u001b[0m\u001b[1;36m1\u001b[0m\u001b[1;33m]\u001b[0m \u001b[1;33m+\u001b[0m \u001b[0mdt\u001b[0m\u001b[1;33m)\u001b[0m\u001b[1;33m\u001b[0m\u001b[0m\n\u001b[1;32m---> 10\u001b[1;33m         \u001b[0mlabel\u001b[0m\u001b[1;33m=\u001b[0m\u001b[0mcalculate_label\u001b[0m\u001b[1;33m(\u001b[0m\u001b[0mdataset\u001b[0m\u001b[1;33m,\u001b[0m \u001b[0mtime_interval\u001b[0m\u001b[1;33m[\u001b[0m\u001b[1;36m0\u001b[0m\u001b[1;33m]\u001b[0m\u001b[1;33m,\u001b[0m \u001b[0mtime_interval\u001b[0m\u001b[1;33m[\u001b[0m\u001b[1;36m1\u001b[0m\u001b[1;33m]\u001b[0m\u001b[1;33m,\u001b[0m \u001b[0mtime_interval\u001b[0m\u001b[1;33m[\u001b[0m\u001b[1;36m1\u001b[0m\u001b[1;33m]\u001b[0m \u001b[1;33m+\u001b[0m \u001b[0mdt\u001b[0m\u001b[1;33m)\u001b[0m\u001b[1;33m\u001b[0m\u001b[0m\n\u001b[0m\u001b[0;32m     11\u001b[0m         \u001b[1;32mif\u001b[0m \u001b[1;33m(\u001b[0m\u001b[0mmatrix\u001b[0m \u001b[1;32mis\u001b[0m \u001b[1;32mnot\u001b[0m \u001b[1;32mNone\u001b[0m\u001b[1;33m)\u001b[0m \u001b[1;32mand\u001b[0m \u001b[1;33m(\u001b[0m\u001b[1;32mnot\u001b[0m \u001b[0mmatrix\u001b[0m\u001b[1;33m.\u001b[0m\u001b[0mempty\u001b[0m\u001b[1;33m)\u001b[0m\u001b[1;33m:\u001b[0m\u001b[1;33m\u001b[0m\u001b[0m\n\u001b[0;32m     12\u001b[0m             \u001b[0mprint\u001b[0m\u001b[1;33m(\u001b[0m\u001b[0mmatrix\u001b[0m\u001b[1;33m)\u001b[0m\u001b[1;33m\u001b[0m\u001b[0m\n",
      "\u001b[1;32m<ipython-input-30-49c403a967af>\u001b[0m in \u001b[0;36mcalculate_label\u001b[1;34m(dataset, t0, t1, t2)\u001b[0m\n\u001b[0;32m      1\u001b[0m \u001b[1;32mdef\u001b[0m \u001b[0mcalculate_label\u001b[0m\u001b[1;33m(\u001b[0m\u001b[0mdataset\u001b[0m\u001b[1;33m,\u001b[0m\u001b[0mt0\u001b[0m\u001b[1;33m,\u001b[0m\u001b[0mt1\u001b[0m\u001b[1;33m,\u001b[0m\u001b[0mt2\u001b[0m\u001b[1;33m)\u001b[0m\u001b[1;33m:\u001b[0m\u001b[1;33m\u001b[0m\u001b[0m\n\u001b[1;32m----> 2\u001b[1;33m     \u001b[0medges_set_next\u001b[0m \u001b[1;33m=\u001b[0m \u001b[0mlist\u001b[0m\u001b[1;33m(\u001b[0m\u001b[0mE_next_set\u001b[0m\u001b[1;33m(\u001b[0m\u001b[0mdataset\u001b[0m\u001b[1;33m,\u001b[0m\u001b[0mt0\u001b[0m\u001b[1;33m,\u001b[0m\u001b[0mt1\u001b[0m\u001b[1;33m,\u001b[0m\u001b[0mt2\u001b[0m\u001b[1;33m)\u001b[0m\u001b[1;33m)\u001b[0m\u001b[1;33m\u001b[0m\u001b[0m\n\u001b[0m\u001b[0;32m      3\u001b[0m     \u001b[0medges_set_prev\u001b[0m \u001b[1;33m=\u001b[0m \u001b[0mlist\u001b[0m\u001b[1;33m(\u001b[0m\u001b[0mE_prev_set\u001b[0m\u001b[1;33m(\u001b[0m\u001b[0mdataset\u001b[0m\u001b[1;33m,\u001b[0m\u001b[0mt0\u001b[0m\u001b[1;33m,\u001b[0m\u001b[0mt1\u001b[0m\u001b[1;33m,\u001b[0m\u001b[0mt2\u001b[0m\u001b[1;33m)\u001b[0m\u001b[1;33m)\u001b[0m\u001b[1;33m\u001b[0m\u001b[0m\n\u001b[0;32m      4\u001b[0m     \u001b[0mvertices_list\u001b[0m \u001b[1;33m=\u001b[0m \u001b[0msorted\u001b[0m\u001b[1;33m(\u001b[0m\u001b[0mvertices_intersection\u001b[0m\u001b[1;33m(\u001b[0m\u001b[0mdataset\u001b[0m\u001b[1;33m,\u001b[0m\u001b[0mt0\u001b[0m\u001b[1;33m,\u001b[0m\u001b[0mt1\u001b[0m\u001b[1;33m,\u001b[0m\u001b[0mt2\u001b[0m\u001b[1;33m)\u001b[0m\u001b[1;33m)\u001b[0m\u001b[1;33m\u001b[0m\u001b[0m\n\u001b[0;32m      5\u001b[0m     \u001b[0mlabel\u001b[0m\u001b[1;33m=\u001b[0m\u001b[0mpd\u001b[0m\u001b[1;33m.\u001b[0m\u001b[0mDataFrame\u001b[0m\u001b[1;33m(\u001b[0m\u001b[1;34m'-'\u001b[0m\u001b[1;33m,\u001b[0m\u001b[0mindex\u001b[0m\u001b[1;33m=\u001b[0m\u001b[0mvertices_list\u001b[0m\u001b[1;33m,\u001b[0m \u001b[0mcolumns\u001b[0m\u001b[1;33m=\u001b[0m\u001b[0mvertices_list\u001b[0m\u001b[1;33m)\u001b[0m\u001b[1;33m\u001b[0m\u001b[0m\n",
      "\u001b[1;31mTypeError\u001b[0m: 'NoneType' object is not iterable"
     ]
    }
   ],
   "source": [
    "calculate_jaccard_distance(dataset, 5)"
   ]
  },
  {
   "cell_type": "code",
   "execution_count": null,
   "metadata": {},
   "outputs": [],
   "source": [
    "with open(\"select_TOP_500_keytable_art_id__keytable.csv\", \"r\") as f:\n",
    "    reader = csv.reader(f)\n",
    "    testing_set  = list(reader)"
   ]
  },
  {
   "cell_type": "raw",
   "metadata": {},
   "source": [
    "reader"
   ]
  },
  {
   "cell_type": "code",
   "execution_count": null,
   "metadata": {},
   "outputs": [],
   "source": [
    "testing_set"
   ]
  },
  {
   "cell_type": "code",
   "execution_count": null,
   "metadata": {},
   "outputs": [],
   "source": [
    "training_set  = list(reader)"
   ]
  },
  {
   "cell_type": "code",
   "execution_count": null,
   "metadata": {},
   "outputs": [],
   "source": [
    "df = pd.read_csv('select_TOP_500_keytable_art_id__keytable.csv')"
   ]
  },
  {
   "cell_type": "code",
   "execution_count": null,
   "metadata": {},
   "outputs": [],
   "source": [
    "df[\"keyword\"].head()"
   ]
  },
  {
   "cell_type": "code",
   "execution_count": null,
   "metadata": {},
   "outputs": [],
   "source": [
    "training_set"
   ]
  },
  {
   "cell_type": "code",
   "execution_count": null,
   "metadata": {},
   "outputs": [],
   "source": [
    "df=pd.DataFrame(training_set)"
   ]
  },
  {
   "cell_type": "code",
   "execution_count": null,
   "metadata": {},
   "outputs": [],
   "source": [
    "df.head()"
   ]
  },
  {
   "cell_type": "code",
   "execution_count": null,
   "metadata": {},
   "outputs": [],
   "source": [
    "df[1].head()"
   ]
  },
  {
   "cell_type": "code",
   "execution_count": null,
   "metadata": {},
   "outputs": [],
   "source": [
    "df[\"keyword\"]= df[\"keyword\"].str.split(\";\", n = 10, expand = False) "
   ]
  },
  {
   "cell_type": "code",
   "execution_count": null,
   "metadata": {},
   "outputs": [],
   "source": [
    "df.head()"
   ]
  },
  {
   "cell_type": "code",
   "execution_count": null,
   "metadata": {},
   "outputs": [],
   "source": [
    "dm=pd.DataFrame([['a;b;f', 'c', 1988],\n",
    "                    ['cl;g;h', 'g', 1989],\n",
    "                    ['aq;r', 'k', 1989],\n",
    "                    ['z;n;l', 'a', 1990],\n",
    "                    ['r;w;m', 't', 1991],\n",
    "                    ['m;a;cl;aq;z;r', 'g', 1998]],columns = [\"keyword\", \"target_id\", \"timestamp\"])"
   ]
  },
  {
   "cell_type": "code",
   "execution_count": null,
   "metadata": {},
   "outputs": [],
   "source": [
    "dm[\"keyword\"]= dm[\"keyword\"].str.split(\";\", n = 10, expand = False) "
   ]
  },
  {
   "cell_type": "code",
   "execution_count": 2,
   "metadata": {},
   "outputs": [
    {
     "ename": "NameError",
     "evalue": "name 'dm' is not defined",
     "output_type": "error",
     "traceback": [
      "\u001b[1;31m---------------------------------------------------------------------------\u001b[0m",
      "\u001b[1;31mNameError\u001b[0m                                 Traceback (most recent call last)",
      "\u001b[1;32m<ipython-input-2-fcc8cdd1ad24>\u001b[0m in \u001b[0;36m<module>\u001b[1;34m()\u001b[0m\n\u001b[0;32m      1\u001b[0m \u001b[0mgp\u001b[0m\u001b[1;33m=\u001b[0m\u001b[0mnx\u001b[0m\u001b[1;33m.\u001b[0m\u001b[0mMultiGraph\u001b[0m\u001b[1;33m(\u001b[0m\u001b[1;33m)\u001b[0m\u001b[1;33m\u001b[0m\u001b[0m\n\u001b[1;32m----> 2\u001b[1;33m \u001b[1;32mfor\u001b[0m \u001b[0mindex\u001b[0m\u001b[1;33m,\u001b[0m \u001b[0mrow\u001b[0m \u001b[1;32min\u001b[0m \u001b[0mdm\u001b[0m\u001b[1;33m.\u001b[0m\u001b[0miterrows\u001b[0m\u001b[1;33m(\u001b[0m\u001b[1;33m)\u001b[0m\u001b[1;33m:\u001b[0m\u001b[1;33m\u001b[0m\u001b[0m\n\u001b[0m\u001b[0;32m      3\u001b[0m    \u001b[0mgp\u001b[0m\u001b[1;33m.\u001b[0m\u001b[0madd_nodes_from\u001b[0m\u001b[1;33m(\u001b[0m\u001b[0mrow\u001b[0m\u001b[1;33m[\u001b[0m\u001b[1;34m\"keyword\"\u001b[0m\u001b[1;33m]\u001b[0m\u001b[1;33m)\u001b[0m\u001b[1;33m\u001b[0m\u001b[0m\n\u001b[0;32m      4\u001b[0m \u001b[0mpos\u001b[0m \u001b[1;33m=\u001b[0m \u001b[0mnx\u001b[0m\u001b[1;33m.\u001b[0m\u001b[0mspring_layout\u001b[0m\u001b[1;33m(\u001b[0m\u001b[0mgp\u001b[0m\u001b[1;33m)\u001b[0m\u001b[1;33m\u001b[0m\u001b[0m\n",
      "\u001b[1;31mNameError\u001b[0m: name 'dm' is not defined"
     ]
    }
   ],
   "source": [
    "gp=nx.Graph()\n",
    "for index, row in dm.iterrows():\n",
    "   gp.add_nodes_from(row[\"keyword\"])\n",
    "pos = nx.spring_layout(gp)"
   ]
  },
  {
   "cell_type": "code",
   "execution_count": null,
   "metadata": {},
   "outputs": [],
   "source": [
    "\n",
    "edge_list=[]\n",
    "for index, row in dm.iterrows():\n",
    "    edges=list(itertools.combinations(row[\"keyword\"], 2))\n",
    "    for edge in edges:\n",
    "        edge_list.append(edge)\n",
    "print(edge_list)\n",
    "gp.add_edges_from(edge_list)\n",
    "#edges= [(u, v) for (u, v) in gp.edges(data=True)]"
   ]
  },
  {
   "cell_type": "code",
   "execution_count": null,
   "metadata": {},
   "outputs": [],
   "source": [
    "nx.draw_networkx_nodes(gp, pos, node_size=500)\n",
    "nx.draw_networkx_edges(gp, pos, edgelist=edge_list,width=2)\n",
    "nx.draw_networkx_labels(gp, pos, font_size=20, font_family='sans-serif')"
   ]
  },
  {
   "cell_type": "code",
   "execution_count": 35,
   "metadata": {},
   "outputs": [
    {
     "ename": "NameError",
     "evalue": "name 'gp' is not defined",
     "output_type": "error",
     "traceback": [
      "\u001b[1;31m---------------------------------------------------------------------------\u001b[0m",
      "\u001b[1;31mNameError\u001b[0m                                 Traceback (most recent call last)",
      "\u001b[1;32m<ipython-input-35-0e51124aee96>\u001b[0m in \u001b[0;36m<module>\u001b[1;34m()\u001b[0m\n\u001b[1;32m----> 1\u001b[1;33m \u001b[0mpaths\u001b[0m \u001b[1;33m=\u001b[0m \u001b[0mnx\u001b[0m\u001b[1;33m.\u001b[0m\u001b[0mall_simple_paths\u001b[0m\u001b[1;33m(\u001b[0m\u001b[0mgp\u001b[0m\u001b[1;33m,\u001b[0m \u001b[0msource\u001b[0m\u001b[1;33m=\u001b[0m\u001b[1;34m'a'\u001b[0m\u001b[1;33m,\u001b[0m \u001b[0mtarget\u001b[0m\u001b[1;33m=\u001b[0m\u001b[1;34m'm'\u001b[0m\u001b[1;33m,\u001b[0m \u001b[0mcutoff\u001b[0m\u001b[1;33m=\u001b[0m\u001b[1;36m6\u001b[0m\u001b[1;33m)\u001b[0m\u001b[1;33m\u001b[0m\u001b[0m\n\u001b[0m\u001b[0;32m      2\u001b[0m \u001b[0mprint\u001b[0m\u001b[1;33m(\u001b[0m\u001b[0mlist\u001b[0m\u001b[1;33m(\u001b[0m\u001b[0mpaths\u001b[0m\u001b[1;33m)\u001b[0m\u001b[1;33m)\u001b[0m\u001b[1;33m\u001b[0m\u001b[0m\n",
      "\u001b[1;31mNameError\u001b[0m: name 'gp' is not defined"
     ]
    }
   ],
   "source": [
    "paths = nx.all_simple_paths(gp, source='a', target='m', cutoff=6)\n",
    "print(list(paths))"
   ]
  },
  {
   "cell_type": "code",
   "execution_count": 40,
   "metadata": {},
   "outputs": [],
   "source": [
    "df = pd.read_csv('select_distinct_keyword__from_article_ke.csv')"
   ]
  },
  {
   "cell_type": "code",
   "execution_count": 41,
   "metadata": {},
   "outputs": [
    {
     "data": {
      "text/html": [
       "<div>\n",
       "<style scoped>\n",
       "    .dataframe tbody tr th:only-of-type {\n",
       "        vertical-align: middle;\n",
       "    }\n",
       "\n",
       "    .dataframe tbody tr th {\n",
       "        vertical-align: top;\n",
       "    }\n",
       "\n",
       "    .dataframe thead th {\n",
       "        text-align: right;\n",
       "    }\n",
       "</style>\n",
       "<table border=\"1\" class=\"dataframe\">\n",
       "  <thead>\n",
       "    <tr style=\"text-align: right;\">\n",
       "      <th></th>\n",
       "      <th>keyword</th>\n",
       "      <th>modified</th>\n",
       "      <th>Unnamed: 2</th>\n",
       "    </tr>\n",
       "  </thead>\n",
       "  <tbody>\n",
       "    <tr>\n",
       "      <th>0</th>\n",
       "      <td>NaN</td>\n",
       "      <td>NaN</td>\n",
       "      <td>NaN</td>\n",
       "    </tr>\n",
       "    <tr>\n",
       "      <th>1</th>\n",
       "      <td>003 tacrolimus ointment</td>\n",
       "      <td>003 tacrolimus ointment</td>\n",
       "      <td>NaN</td>\n",
       "    </tr>\n",
       "    <tr>\n",
       "      <th>2</th>\n",
       "      <td>01 loss</td>\n",
       "      <td>01 loss</td>\n",
       "      <td>NaN</td>\n",
       "    </tr>\n",
       "    <tr>\n",
       "      <th>3</th>\n",
       "      <td>0602 allele</td>\n",
       "      <td>0602 allele</td>\n",
       "      <td>NaN</td>\n",
       "    </tr>\n",
       "    <tr>\n",
       "      <th>4</th>\n",
       "      <td>1</td>\n",
       "      <td>1</td>\n",
       "      <td>NaN</td>\n",
       "    </tr>\n",
       "  </tbody>\n",
       "</table>\n",
       "</div>"
      ],
      "text/plain": [
       "                   keyword                 modified Unnamed: 2\n",
       "0                      NaN                      NaN        NaN\n",
       "1  003 tacrolimus ointment  003 tacrolimus ointment        NaN\n",
       "2                  01 loss                  01 loss        NaN\n",
       "3              0602 allele              0602 allele        NaN\n",
       "4                        1                        1        NaN"
      ]
     },
     "execution_count": 41,
     "metadata": {},
     "output_type": "execute_result"
    }
   ],
   "source": [
    "df.head()"
   ]
  },
  {
   "cell_type": "code",
   "execution_count": 44,
   "metadata": {},
   "outputs": [
    {
     "data": {
      "text/plain": [
       "16466"
      ]
     },
     "execution_count": 44,
     "metadata": {},
     "output_type": "execute_result"
    }
   ],
   "source": [
    "df['modified'].nunique()"
   ]
  },
  {
   "cell_type": "code",
   "execution_count": null,
   "metadata": {},
   "outputs": [],
   "source": []
  }
 ],
 "metadata": {
  "kernelspec": {
   "display_name": "Python 3",
   "language": "python",
   "name": "python3"
  },
  "language_info": {
   "codemirror_mode": {
    "name": "ipython",
    "version": 3
   },
   "file_extension": ".py",
   "mimetype": "text/x-python",
   "name": "python",
   "nbconvert_exporter": "python",
   "pygments_lexer": "ipython3",
   "version": "3.7.0"
  }
 },
 "nbformat": 4,
 "nbformat_minor": 2
}
