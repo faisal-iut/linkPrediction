{
 "cells": [
  {
   "cell_type": "code",
   "execution_count": 1,
   "metadata": {},
   "outputs": [],
   "source": [
    "import pandas as pd\n",
    "import numpy as np\n",
    "import networkx as nx\n",
    "import operator as op\n",
    "import itertools\n",
    "import matplotlib.pyplot as plt\n",
    "import numpy.linalg\n",
    "import cmath\n",
    "import multiprocessing\n",
    "import itertools\n",
    "import scipy.optimize as optimize\n",
    "\n",
    "%matplotlib inline"
   ]
  },
  {
   "cell_type": "code",
   "execution_count": 305,
   "metadata": {},
   "outputs": [],
   "source": [
    "#Dummy Data set\n",
    "dummy=pd.DataFrame([['a', 'c', 1988],['c', 'g', 1989],['a', 'k', 1989],['g', 'a', 1990],['a', 't', 1991]\n",
    "                      ,['t', 'l', 1992],['a', 'b', 1993],['c', 'b', 1993],['g', 'k', 1994],['p', 'k', 1994]],columns = [\"source_id\", \"target_id\", \"timestamp\"])    \n",
    "\n",
    "dummy.source_id = dummy.source_id.astype(str)\n",
    "dummy.target_id = dummy.target_id.astype(str)\n",
    "t_min=dummy.timestamp.min()\n",
    "t_max=dummy.timestamp.max()\n",
    "N=10\n",
    "dataset = dummy"
   ]
  },
  {
   "cell_type": "code",
   "execution_count": 3,
   "metadata": {},
   "outputs": [],
   "source": [
    "def create_intervals(dataset,N):\n",
    "\n",
    "\n",
    "    t_min=dataset.timestamp.min()\n",
    "    t_max=dataset.timestamp.max()\n",
    "\n",
    "\n",
    "    dt=(t_max-t_min)/N\n",
    "    \n",
    "    intervals=[]\n",
    "    for j in range(0,N):\n",
    "\n",
    "        #Start of time interval\n",
    "        tj=t_min + j*dt\n",
    "        \n",
    "        #End of time interval\n",
    "        tj1=t_min +(j+1)*dt\n",
    "\n",
    "        intervals.append([int(tj),int(tj1)])\n",
    "\n",
    "    return(intervals)"
   ]
  },
  {
   "cell_type": "code",
   "execution_count": 17,
   "metadata": {},
   "outputs": [
    {
     "name": "stdout",
     "output_type": "stream",
     "text": [
      "[[1988, 1990], [1990, 1992], [1992, 1994], [1994, 1996]]\n"
     ]
    }
   ],
   "source": [
    "print(create_intervals(dataset,4))"
   ]
  },
  {
   "cell_type": "code",
   "execution_count": 12,
   "metadata": {},
   "outputs": [],
   "source": [
    "class graph(object):\n",
    "    def __init__(self,dataset, t0,t1):\n",
    "        self.t0 = t0\n",
    "        self.t1 = t1\n",
    "        self.dataset = dataset\n",
    "        self.create_graph()\n",
    "        self.interval=[t0,t1]\n",
    "        \n",
    "    def create_graph(self):\n",
    "        self.batch = self.create_batch()\n",
    "        self.graph = nx.from_pandas_edgelist(self.batch, 'source_id', 'target_id')\n",
    "        \n",
    "\n",
    "    def create_batch(self):\n",
    "        \n",
    "        df_indexes=[]\n",
    "        index = 0\n",
    "        self.dataset = self.dataset.reset_index(drop=True)\n",
    "            \n",
    "        if self.t1 == self.dataset.timestamp.max():\n",
    "            while index < len(self.dataset)and self.dataset.timestamp[index]<=self.t1 :\n",
    "                if self.dataset.timestamp[index]>=self.t0:\n",
    "                    df_indexes.append(index)\n",
    "                    \n",
    "                index = index +1\n",
    "\n",
    "            batch = self.dataset.iloc[df_indexes]\n",
    "\n",
    "            return(batch)\n",
    "\n",
    "        else:\n",
    "            while index < len(self.dataset)and self.dataset.timestamp[index]<self.t1 :\n",
    "                if self.dataset.timestamp[index]>=self.t0:\n",
    "                    df_indexes.append(index)\n",
    "                    \n",
    "                index = index +1\n",
    "\n",
    "            batch = self.dataset.iloc[df_indexes]\n",
    "            \n",
    "            return(batch)"
   ]
  },
  {
   "cell_type": "code",
   "execution_count": 86,
   "metadata": {},
   "outputs": [],
   "source": [
    "#returns the number of nodes in each time slice\n",
    "def graph_vertices_volume(dataset,N):\n",
    "    \n",
    "    time_intervals = create_intervals(dataset,N)\n",
    "    nodes_count_list=[]\n",
    "\n",
    "    for time_interval in time_intervals:\n",
    "        G=graph(dataset, time_interval[0], time_interval[1])\n",
    "        nodes_count_list.append(len(G.graph.nodes()))\n",
    "        \n",
    "    return(nodes_count_list)\n",
    "\n",
    "#draw graph of vertice frequency for each time slice\n",
    "def vertices_graph(dataset,N):\n",
    "    T=[]\n",
    "\n",
    "    time_intervals = create_intervals(dataset,N)\n",
    "    for time_interval in time_intervals:\n",
    "        T.append(time_interval[0])\n",
    "\n",
    "    x = T  \n",
    "    #print(x)\n",
    "    y = graph_vertices_volume(dataset,N)\n",
    "\n",
    "    N = len(y)\n",
    "    #x = range(N)\n",
    "    #print(x)\n",
    "    width = 1.5\n",
    "    \n",
    "    plt.subplot(1, 2, 1)\n",
    "    plt.title('Vertices Histogram')\n",
    "    plt.xlabel('Time Intervals Bins')\n",
    "    plt.ylabel('Number of Vertices')\n",
    "    plt.bar(x, y, align='edge',color=\"blue\")"
   ]
  },
  {
   "cell_type": "code",
   "execution_count": 87,
   "metadata": {},
   "outputs": [
    {
     "data": {
      "image/png": "[encoded data removed]",
      "text/plain": [
       "<Figure size 432x288 with 1 Axes>"
      ]
     },
     "metadata": {
      "needs_background": "light"
     },
     "output_type": "display_data"
    }
   ],
   "source": [
    "vertices_graph(dataset,4)"
   ]
  },
  {
   "cell_type": "code",
   "execution_count": 91,
   "metadata": {},
   "outputs": [],
   "source": [
    "#returns number of edges in each time slice\n",
    "def graph_edges_volume(dataset,N):\n",
    "    \n",
    "    time_intervals = create_intervals(dataset,N)\n",
    "    edges_count_list=[]\n",
    "\n",
    "    for time_interval in time_intervals:\n",
    "        G=graph(dataset, time_interval[0], time_interval[1])\n",
    "        edges_count_list.append(len(G.graph.edges()))\n",
    "        #print(G.graph.edges())\n",
    "        #print(time_interval)\n",
    "        \n",
    "    return(edges_count_list)\n",
    "\n",
    "#draw graph of edge frequency for each time slice\n",
    "def edges_graph(dataset,N):\n",
    "    T=[]\n",
    "\n",
    "    time_intervals = create_intervals(dataset,N)\n",
    "    for time_interval in time_intervals:\n",
    "        T.append(time_interval[0])\n",
    "\n",
    "    x = T  \n",
    "    y = graph_edges_volume(dataset,N)\n",
    "\n",
    "    N = len(y)\n",
    "   # x = range(N)\n",
    "    width = 1/1.5\n",
    "    \n",
    "    plt.subplot(1, 2, 2)\n",
    "    plt.title('Edges Histogram')\n",
    "    plt.xlabel('Time Intervals Bins')\n",
    "    plt.ylabel('Number of Edges')\n",
    "    plt.bar(x, y, align='edge',color=\"magenta\")"
   ]
  },
  {
   "cell_type": "code",
   "execution_count": 115,
   "metadata": {},
   "outputs": [],
   "source": [
    "def graph_creator(dataset, n, N):\n",
    "    data_rows = len(dataset)\n",
    "    step = round(data_rows/n)+1\n",
    "    print(step)\n",
    "    start=0\n",
    "    stop=step\n",
    "    for pointer in range(0,data_rows,step):\n",
    "        \n",
    "        vertices_graph(dataset.iloc[start:stop],N)\n",
    "        edges_graph(dataset.iloc[start:stop],N)\n",
    "        print(start,stop,pointer)\n",
    "        \n",
    "        plt.tight_layout()\n",
    "        plt.show()\n",
    "        plt.clf()\n",
    "        \n",
    "        start = start + step\n",
    "        stop = start + step"
   ]
  },
  {
   "cell_type": "code",
   "execution_count": 123,
   "metadata": {},
   "outputs": [
    {
     "name": "stdout",
     "output_type": "stream",
     "text": [
      "{'d': 0.2, 'f': 0.2, 'g': 0.2, 'i': 0.2, 'b': 0.2, 'j': 0.2} {'d': 0.2, 'f': 0.2, 'g': 0.2, 'i': 0.2, 'b': 0.2, 'j': 0.2} {'d': 0.0, 'f': 0.0, 'g': 0.0, 'i': 0.0, 'b': 0.0, 'j': 0.0} {'d': 0.4920802677238808, 'f': 0.4920802677238807, 'g': 0.3032504060809623, 'i': 0.30325040608096215, 'b': -0.4073035739206389, 'j': -0.4073035739206388} ['d', 'f', 'g', 'i', 'b', 'j']\n"
     ]
    }
   ],
   "source": [
    "dc = nx.degree_centrality(G.graph)\n",
    "cc = nx.closeness_centrality(G.graph)\n",
    "bc = nx.betweenness_centrality(G.graph)\n",
    "ec = nx.eigenvector_centrality_numpy(G.graph)\n",
    "print(dc,cc,bc,ec,G.graph.nodes())"
   ]
  },
  {
   "cell_type": "code",
   "execution_count": 136,
   "metadata": {},
   "outputs": [
    {
     "name": "stdout",
     "output_type": "stream",
     "text": [
      "['a', 'b', 'c', 'd', 'e', 'f', 'g', 'h', 'i', 'j']\n"
     ]
    }
   ],
   "source": [
    "time_intervals = create_intervals(dataset,1)\n",
    "for time_interval in time_intervals:\n",
    "    G=graph(dataset, time_interval[0], time_interval[1])\n"
   ]
  },
  {
   "cell_type": "code",
   "execution_count": 137,
   "metadata": {},
   "outputs": [
    {
     "name": "stdout",
     "output_type": "stream",
     "text": [
      "{'a': 0.3333333333333333, 'b': 0.2222222222222222, 'c': 0.1111111111111111, 'd': 0.3333333333333333, 'e': 0.1111111111111111, 'f': 0.2222222222222222, 'g': 0.3333333333333333, 'h': 0.1111111111111111, 'i': 0.1111111111111111, 'j': 0.1111111111111111} {'a': 0.45, 'b': 0.34615384615384615, 'c': 0.28125, 'd': 0.375, 'e': 0.32142857142857145, 'f': 0.45, 'g': 0.5, 'h': 0.28125, 'i': 0.34615384615384615, 'j': 0.2647058823529412} {'a': 0.5555555555555556, 'b': 0.2222222222222222, 'c': 0.0, 'd': 0.41666666666666663, 'e': 0.0, 'f': 0.5, 'g': 0.6666666666666666, 'h': 0.0, 'i': 0.0, 'j': 0.0} {'a': 0.476308352829466, 'b': 0.283619090969444, 'c': 0.15010712642946475, 'd': 0.3220531577236984, 'e': 0.22200458658108504, 'f': 0.39074718825920796, 'g': 0.5162905561549834, 'h': 0.15010712642946497, 'i': 0.24064006182974304, 'j': 0.13219322874171427} ['a', 'b', 'c', 'd', 'e', 'f', 'g', 'h', 'i', 'j']\n"
     ]
    }
   ],
   "source": [
    "dc = nx.degree_centrality(G.graph)\n",
    "cc = nx.closeness_centrality(G.graph)\n",
    "bc = nx.betweenness_centrality(G.graph)\n",
    "ec = nx.eigenvector_centrality_numpy(G.graph)\n",
    "print(dc,cc,bc,ec,G.graph.nodes())"
   ]
  },
  {
   "cell_type": "code",
   "execution_count": 296,
   "metadata": {},
   "outputs": [],
   "source": [
    "def vertices_intersection(dataset,t0,t1,t2):\n",
    "    \n",
    "    #Create two graphs\n",
    "    G1 = graph(dataset,t0,t1) #for t-1,t\n",
    "    G2 = graph(dataset,t1,t2) #for t, t+1\n",
    "    \n",
    "    S1=set(G1.graph.nodes())\n",
    "    S2=set(G2.graph.nodes())\n",
    "    #print(S1,S2)\n",
    "    return set.intersection(S1,S2) #Return the common nodes"
   ]
  },
  {
   "cell_type": "code",
   "execution_count": 308,
   "metadata": {},
   "outputs": [
    {
     "data": {
      "text/plain": [
       "{'a', 'c', 'g', 'k'}"
      ]
     },
     "execution_count": 308,
     "metadata": {},
     "output_type": "execute_result"
    }
   ],
   "source": [
    "#time_intervals = create_intervals(dataset,2)\n",
    "t0=1988\n",
    "t1=1993\n",
    "t2=1996\n",
    "vertices_intersection(dataset,t0,t1,t2)"
   ]
  },
  {
   "cell_type": "code",
   "execution_count": 316,
   "metadata": {},
   "outputs": [],
   "source": [
    "def E_prev_set(dataset,t0,t1,t2):\n",
    "    \n",
    "    #Calculate the intersection\n",
    "    G1 = graph(dataset,t0,t1) #for t-1,t\n",
    "    G2 = graph(dataset,t1,t2) #for t, t+1\n",
    "    \n",
    "    S1 = set(G1.graph.nodes())\n",
    "    S2 = set(G2.graph.nodes())\n",
    "    \n",
    "    intersection = set.intersection(S1,S2)\n",
    "    #Calculate the the intersection vertices in [t-1, t)\n",
    "    df = pd.DataFrame(columns = [\"source_id\", \"target_id\", \"timestamp\"])\n",
    "    for row in G1.batch.itertuples():\n",
    "        if (row.source_id in intersection and row.target_id in intersection) and (t0<=row.timestamp<t1):\n",
    "            #print(row.target_id,row.source_id)\n",
    "            df = pd.concat([df,pd.DataFrame([row])],axis = 0)\n",
    "\n",
    "    if not df.empty:\n",
    "        del df['Index']\n",
    "        df=df.reset_index(drop=True)\n",
    "\n",
    "        #Calculate the intersection edges in [t-1, t)\n",
    "        G= graph(df,t0,t1)\n",
    "\n",
    "        return set(G.graph.edges())"
   ]
  },
  {
   "cell_type": "code",
   "execution_count": 314,
   "metadata": {},
   "outputs": [
    {
     "name": "stdout",
     "output_type": "stream",
     "text": [
      "c a\n",
      "g c\n",
      "k a\n",
      "a g\n",
      "{('a', 'g'), ('c', 'g'), ('a', 'k'), ('a', 'c')}\n"
     ]
    },
    {
     "name": "stderr",
     "output_type": "stream",
     "text": [
      "C:\\Users\\faisal\\Anaconda3\\lib\\site-packages\\ipykernel_launcher.py:16: FutureWarning: Sorting because non-concatenation axis is not aligned. A future version\n",
      "of pandas will change to not sort by default.\n",
      "\n",
      "To accept the future behavior, pass 'sort=False'.\n",
      "\n",
      "To retain the current behavior and silence the warning, pass 'sort=True'.\n",
      "\n",
      "  app.launch_new_instance()\n"
     ]
    }
   ],
   "source": [
    "t0=1988\n",
    "t1=1993\n",
    "t2=1996\n",
    "print(E_prev_set(dataset,t0,t1,t2))"
   ]
  },
  {
   "cell_type": "code",
   "execution_count": 255,
   "metadata": {},
   "outputs": [],
   "source": [
    "def E_next_set(dataset,t0,t1,t2):\n",
    "    \n",
    "    #Calculate the intersection\n",
    "    G1 = graph(dataset,t0,t1) #for t-1,t\n",
    "    G2 = graph(dataset,t1,t2) #for t, t+1\n",
    "    \n",
    "    S1 = set(G1.graph.nodes())\n",
    "    S2 = set(G2.graph.nodes())\n",
    "    \n",
    "    intersection = set.intersection(S1,S2)\n",
    "\n",
    "    #Calculate the the intersection vertices in [t, t+1)\n",
    "    df = pd.DataFrame(columns = [\"source_id\", \"target_id\", \"timestamp\"])\n",
    "    for row in G2.batch.itertuples():\n",
    "        if (row.source_id in intersection and row.target_id in intersection) and (t1<=row.timestamp<t2):\n",
    "            df = pd.concat([df,pd.DataFrame([row])],axis = 0)\n",
    "    \n",
    "    if not df.empty:\n",
    "        del df['Index']\n",
    "        df=df.reset_index(drop=True)\n",
    "\n",
    "        #Calculate the intersection edges in [t, t+1)\n",
    "        G= graph(df,t1,t2)\n",
    "\n",
    "        return set(G.graph.edges())\n"
   ]
  },
  {
   "cell_type": "code",
   "execution_count": 256,
   "metadata": {},
   "outputs": [
    {
     "name": "stderr",
     "output_type": "stream",
     "text": [
      "C:\\Users\\faisal\\Anaconda3\\lib\\site-packages\\ipykernel_launcher.py:16: FutureWarning: Sorting because non-concatenation axis is not aligned. A future version\n",
      "of pandas will change to not sort by default.\n",
      "\n",
      "To accept the future behavior, pass 'sort=False'.\n",
      "\n",
      "To retain the current behavior and silence the warning, pass 'sort=True'.\n",
      "\n",
      "  app.launch_new_instance()\n"
     ]
    },
    {
     "data": {
      "text/plain": [
       "{('a', 'b')}"
      ]
     },
     "execution_count": 256,
     "metadata": {},
     "output_type": "execute_result"
    }
   ],
   "source": [
    "t0=1988\n",
    "t1=1994\n",
    "t2=1998\n",
    "E_next_set(dataset,t0,t1,t2)"
   ]
  },
  {
   "cell_type": "code",
   "execution_count": 215,
   "metadata": {
    "scrolled": true
   },
   "outputs": [
    {
     "data": {
      "text/html": [
       "<div>\n",
       "<style scoped>\n",
       "    .dataframe tbody tr th:only-of-type {\n",
       "        vertical-align: middle;\n",
       "    }\n",
       "\n",
       "    .dataframe tbody tr th {\n",
       "        vertical-align: top;\n",
       "    }\n",
       "\n",
       "    .dataframe thead th {\n",
       "        text-align: right;\n",
       "    }\n",
       "</style>\n",
       "<table border=\"1\" class=\"dataframe\">\n",
       "  <thead>\n",
       "    <tr style=\"text-align: right;\">\n",
       "      <th></th>\n",
       "      <th>source_id</th>\n",
       "      <th>target_id</th>\n",
       "      <th>timestamp</th>\n",
       "    </tr>\n",
       "  </thead>\n",
       "  <tbody>\n",
       "    <tr>\n",
       "      <th>0</th>\n",
       "      <td>a</td>\n",
       "      <td>b</td>\n",
       "      <td>1988</td>\n",
       "    </tr>\n",
       "    <tr>\n",
       "      <th>1</th>\n",
       "      <td>c</td>\n",
       "      <td>d</td>\n",
       "      <td>1989</td>\n",
       "    </tr>\n",
       "    <tr>\n",
       "      <th>2</th>\n",
       "      <td>a</td>\n",
       "      <td>e</td>\n",
       "      <td>1989</td>\n",
       "    </tr>\n",
       "    <tr>\n",
       "      <th>3</th>\n",
       "      <td>f</td>\n",
       "      <td>g</td>\n",
       "      <td>1990</td>\n",
       "    </tr>\n",
       "    <tr>\n",
       "      <th>4</th>\n",
       "      <td>g</td>\n",
       "      <td>a</td>\n",
       "      <td>1991</td>\n",
       "    </tr>\n",
       "    <tr>\n",
       "      <th>5</th>\n",
       "      <td>d</td>\n",
       "      <td>h</td>\n",
       "      <td>1992</td>\n",
       "    </tr>\n",
       "    <tr>\n",
       "      <th>6</th>\n",
       "      <td>d</td>\n",
       "      <td>f</td>\n",
       "      <td>1993</td>\n",
       "    </tr>\n",
       "    <tr>\n",
       "      <th>7</th>\n",
       "      <td>a</td>\n",
       "      <td>b</td>\n",
       "      <td>1995</td>\n",
       "    </tr>\n",
       "    <tr>\n",
       "      <th>8</th>\n",
       "      <td>b</td>\n",
       "      <td>j</td>\n",
       "      <td>1996</td>\n",
       "    </tr>\n",
       "  </tbody>\n",
       "</table>\n",
       "</div>"
      ],
      "text/plain": [
       "  source_id target_id  timestamp\n",
       "0         a         b       1988\n",
       "1         c         d       1989\n",
       "2         a         e       1989\n",
       "3         f         g       1990\n",
       "4         g         a       1991\n",
       "5         d         h       1992\n",
       "6         d         f       1993\n",
       "7         a         b       1995\n",
       "8         b         j       1996"
      ]
     },
     "execution_count": 215,
     "metadata": {},
     "output_type": "execute_result"
    }
   ],
   "source": [
    "dataset"
   ]
  },
  {
   "cell_type": "code",
   "execution_count": 299,
   "metadata": {},
   "outputs": [],
   "source": [
    "def vertices_volume(dataset,N):\n",
    "    \n",
    "    time_intervals = create_intervals(dataset,N)\n",
    "    #print(time_intervals)\n",
    "    intersection_list=[]\n",
    "    i = 0\n",
    "    for time_interval in time_intervals:\n",
    "        if i < (len(time_intervals)-1):\n",
    "            dt = time_interval[1] - time_interval[0]\n",
    "            intersection_list.append(len(vertices_intersection(dataset, time_interval[0], time_interval[1], time_interval[1] + dt)))\n",
    "    #print(vertices_intersection(dataset, 1994, 1996, 1998))\n",
    "        \n",
    "    return(intersection_list)"
   ]
  },
  {
   "cell_type": "code",
   "execution_count": 300,
   "metadata": {
    "scrolled": true
   },
   "outputs": [
    {
     "data": {
      "text/plain": [
       "[4, 2]"
      ]
     },
     "execution_count": 300,
     "metadata": {},
     "output_type": "execute_result"
    }
   ],
   "source": [
    "vertices_volume(dataset,2)"
   ]
  },
  {
   "cell_type": "code",
   "execution_count": 324,
   "metadata": {},
   "outputs": [],
   "source": [
    "def jaccard_distance(dataset,t0,t1,t2):\n",
    "    \n",
    "    vertices_list = sorted(vertices_intersection(dataset,t0,t1,t2))\n",
    "    edges_set = E_prev_set(dataset,t0,t1,t2)\n",
    "\n",
    "    #Create the graph Object\n",
    "    Gprev=nx.Graph()\n",
    "    \n",
    "    #Add the common vertices for the [t-1, t+1]\n",
    "    Gprev.add_nodes_from(vertices_list)\n",
    "    #Take the edges of the [t-1, t) interval\n",
    "    if edges_set is not None:\n",
    "        Gprev.add_edges_from(edges_set)\n",
    "    \n",
    "    jacc = list(nx.jaccard_coefficient(Gprev))\n",
    "\n",
    "    df=pd.DataFrame(0,index=vertices_list, columns=vertices_list)\n",
    "    print(jacc)\n",
    "    for i in range(0,len(jacc)):\n",
    "        df.loc[jacc[i][0],jacc[i][1]] = jacc[i][2]\n",
    "        df.loc[jacc[i][1],jacc[i][0]] = jacc[i][2]\n",
    "        \n",
    "    return(df)"
   ]
  },
  {
   "cell_type": "code",
   "execution_count": 325,
   "metadata": {},
   "outputs": [
    {
     "name": "stdout",
     "output_type": "stream",
     "text": [
      "[('k', 'c', 0.5), ('k', 'g', 0.5)]\n"
     ]
    },
    {
     "name": "stderr",
     "output_type": "stream",
     "text": [
      "C:\\Users\\faisal\\Anaconda3\\lib\\site-packages\\ipykernel_launcher.py:16: FutureWarning: Sorting because non-concatenation axis is not aligned. A future version\n",
      "of pandas will change to not sort by default.\n",
      "\n",
      "To accept the future behavior, pass 'sort=False'.\n",
      "\n",
      "To retain the current behavior and silence the warning, pass 'sort=True'.\n",
      "\n",
      "  app.launch_new_instance()\n"
     ]
    },
    {
     "data": {
      "text/html": [
       "<div>\n",
       "<style scoped>\n",
       "    .dataframe tbody tr th:only-of-type {\n",
       "        vertical-align: middle;\n",
       "    }\n",
       "\n",
       "    .dataframe tbody tr th {\n",
       "        vertical-align: top;\n",
       "    }\n",
       "\n",
       "    .dataframe thead th {\n",
       "        text-align: right;\n",
       "    }\n",
       "</style>\n",
       "<table border=\"1\" class=\"dataframe\">\n",
       "  <thead>\n",
       "    <tr style=\"text-align: right;\">\n",
       "      <th></th>\n",
       "      <th>a</th>\n",
       "      <th>c</th>\n",
       "      <th>g</th>\n",
       "      <th>k</th>\n",
       "    </tr>\n",
       "  </thead>\n",
       "  <tbody>\n",
       "    <tr>\n",
       "      <th>a</th>\n",
       "      <td>0</td>\n",
       "      <td>0.0</td>\n",
       "      <td>0.0</td>\n",
       "      <td>0.0</td>\n",
       "    </tr>\n",
       "    <tr>\n",
       "      <th>c</th>\n",
       "      <td>0</td>\n",
       "      <td>0.0</td>\n",
       "      <td>0.0</td>\n",
       "      <td>0.5</td>\n",
       "    </tr>\n",
       "    <tr>\n",
       "      <th>g</th>\n",
       "      <td>0</td>\n",
       "      <td>0.0</td>\n",
       "      <td>0.0</td>\n",
       "      <td>0.5</td>\n",
       "    </tr>\n",
       "    <tr>\n",
       "      <th>k</th>\n",
       "      <td>0</td>\n",
       "      <td>0.5</td>\n",
       "      <td>0.5</td>\n",
       "      <td>0.0</td>\n",
       "    </tr>\n",
       "  </tbody>\n",
       "</table>\n",
       "</div>"
      ],
      "text/plain": [
       "   a    c    g    k\n",
       "a  0  0.0  0.0  0.0\n",
       "c  0  0.0  0.0  0.5\n",
       "g  0  0.0  0.0  0.5\n",
       "k  0  0.5  0.5  0.0"
      ]
     },
     "execution_count": 325,
     "metadata": {},
     "output_type": "execute_result"
    }
   ],
   "source": [
    "t0=1988\n",
    "t1=1993\n",
    "t2=1996\n",
    "jaccard_distance(dataset,t0,t1,t2)"
   ]
  },
  {
   "cell_type": "code",
   "execution_count": 338,
   "metadata": {},
   "outputs": [
    {
     "name": "stdout",
     "output_type": "stream",
     "text": [
      "   a  c  g  k\n",
      "a  0  0  0  0\n",
      "c  0  0  0  -\n",
      "g  0  0  0  +\n",
      "k  0  -  +  0\n"
     ]
    },
    {
     "name": "stderr",
     "output_type": "stream",
     "text": [
      "C:\\Users\\faisal\\Anaconda3\\lib\\site-packages\\ipykernel_launcher.py:16: FutureWarning: Sorting because non-concatenation axis is not aligned. A future version\n",
      "of pandas will change to not sort by default.\n",
      "\n",
      "To accept the future behavior, pass 'sort=False'.\n",
      "\n",
      "To retain the current behavior and silence the warning, pass 'sort=True'.\n",
      "\n",
      "  app.launch_new_instance()\n"
     ]
    }
   ],
   "source": [
    "t0=1988\n",
    "t1=1993\n",
    "t2=1996\n",
    "edges_set_next = list(E_next_set(dataset,t0,t1,t2))\n",
    "edges_set_prev = list(E_prev_set(dataset,t0,t1,t2))\n",
    "vertices_list = sorted(vertices_intersection(dataset,t0,t1,t2))\n",
    "label=pd.DataFrame('-',index=vertices_list, columns=vertices_list)\n",
    "for i in range(0,len(edges_set_next)):\n",
    "    label.loc[edges_set_next[i][0],edges_set_next[i][1]] = '+'\n",
    "    label.loc[edges_set_next[i][1],edges_set_next[i][0]] = '+'\n",
    "for i in range(0,len(edges_set_prev)):\n",
    "    label.loc[edges_set_prev[i][0],edges_set_prev[i][1]] = 0\n",
    "    label.loc[edges_set_prev[i][1],edges_set_prev[i][0]] = 0\n",
    "for i in range(0,len(vertices_list)):\n",
    "    label.loc[vertices_list[i],vertices_list[i]] = 0\n",
    "print(label)"
   ]
  },
  {
   "cell_type": "code",
   "execution_count": null,
   "metadata": {},
   "outputs": [],
   "source": []
  }
 ],
 "metadata": {
  "kernelspec": {
   "display_name": "Python 3",
   "language": "python",
   "name": "python3"
  },
  "language_info": {
   "codemirror_mode": {
    "name": "ipython",
    "version": 3
   },
   "file_extension": ".py",
   "mimetype": "text/x-python",
   "name": "python",
   "nbconvert_exporter": "python",
   "pygments_lexer": "ipython3",
   "version": "3.7.0"
  }
 },
 "nbformat": 4,
 "nbformat_minor": 2
}
