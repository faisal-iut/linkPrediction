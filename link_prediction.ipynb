{
 "cells": [
  {
   "cell_type": "code",
   "execution_count": 986,
   "metadata": {},
   "outputs": [],
   "source": [
    "import pandas as pd\n",
    "import numpy as np\n",
    "import networkx as nx\n",
    "import graph as gr\n",
    "import utils as ut\n",
    "import feature_selection as fs\n",
    "import classification as cl\n",
    "import os.path\n",
    "import matplotlib.pyplot as plt\n",
    "from pprint import pprint\n",
    "import importlib\n",
    "import community\n",
    "import seaborn as sns\n",
    "from gensim.models import KeyedVectors\n",
    "from pyemd import emd\n",
    "from gensim import corpora\n",
    "from nltk.corpus import stopwords\n",
    "from gensim.matutils import softcossim\n",
    "import copy"
   ]
  },
  {
   "cell_type": "code",
   "execution_count": 987,
   "metadata": {},
   "outputs": [],
   "source": [
    "from keras.models import Model, Sequential\n",
    "from keras.layers import LSTM, Dense\n",
    "from keras.layers.normalization import BatchNormalization\n",
    "from keras.layers.core import Dense, Dropout, Activation, Reshape\n",
    "from sklearn.metrics import roc_curve, auc, precision_recall_curve, average_precision_score, roc_auc_score\n",
    "from sklearn.metrics import confusion_matrix, precision_recall_fscore_support, accuracy_score\n",
    "from sklearn import preprocessing\n",
    "from sklearn.model_selection import train_test_split\n",
    "from keras.models import load_model"
   ]
  },
  {
   "cell_type": "code",
   "execution_count": 988,
   "metadata": {},
   "outputs": [
    {
     "data": {
      "text/plain": [
       "<module 'graph' from 'C:\\\\Users\\\\faisal\\\\PycharmProjects\\\\linkPrediction\\\\graph.py'>"
      ]
     },
     "execution_count": 988,
     "metadata": {},
     "output_type": "execute_result"
    }
   ],
   "source": [
    "importlib.reload(gr)"
   ]
  },
  {
   "cell_type": "code",
   "execution_count": 4,
   "metadata": {},
   "outputs": [],
   "source": [
    "word_vectors = KeyedVectors.load_word2vec_format('pubmed2018_w2v_200D/pubmed2018_w2v_200D.bin', binary=True)"
   ]
  },
  {
   "cell_type": "code",
   "execution_count": 1032,
   "metadata": {},
   "outputs": [],
   "source": [
    "domain = ['apnea','obesity']\n",
    "filepath=['dataset/apnea-all,3.csv',\n",
    "         'dataset/apnea-distinct_keyword.csv']\n",
    "graphpath='C:/Users/faisal/PycharmProjects/linkPrediction/graphs'\n",
    "datapath='C:/Users/faisal/PycharmProjects/linkPrediction/dataframes'\n",
    "modelpath='C:/Users/faisal/PycharmProjects/linkPrediction/models'\n",
    "column_split=['keyword','author_name','affiliation_1','affiliation_2','country']\n",
    "#time=[parent_start_year, train_start_year, test_start_year, total_test_period_in_year, total_year_in_each_iteration]\n",
    "time=[1980,1991,2015,1,1]\n",
    "df, key_list = ut.load_dataset(filepath, column_split)"
   ]
  },
  {
   "cell_type": "code",
   "execution_count": 1033,
   "metadata": {
    "scrolled": true
   },
   "outputs": [
    {
     "name": "stdout",
     "output_type": "stream",
     "text": [
      "1141\n",
      "C:/Users/faisal/PycharmProjects/linkPrediction/graphs\\train_graph_1991.gpickle saved, nodes: 73 edges: 90\n",
      "C:/Users/faisal/PycharmProjects/linkPrediction/graphs\\train_graph_1992.gpickle saved, nodes: 76 edges: 81\n",
      "C:/Users/faisal/PycharmProjects/linkPrediction/graphs\\train_graph_1993.gpickle saved, nodes: 88 edges: 72\n",
      "C:/Users/faisal/PycharmProjects/linkPrediction/graphs\\train_graph_1994.gpickle saved, nodes: 118 edges: 91\n",
      "C:/Users/faisal/PycharmProjects/linkPrediction/graphs\\train_graph_1995.gpickle saved, nodes: 158 edges: 171\n",
      "C:/Users/faisal/PycharmProjects/linkPrediction/graphs\\train_graph_1996.gpickle saved, nodes: 170 edges: 206\n",
      "C:/Users/faisal/PycharmProjects/linkPrediction/graphs\\train_graph_1997.gpickle saved, nodes: 182 edges: 181\n",
      "C:/Users/faisal/PycharmProjects/linkPrediction/graphs\\train_graph_1998.gpickle saved, nodes: 177 edges: 202\n",
      "C:/Users/faisal/PycharmProjects/linkPrediction/graphs\\train_graph_1999.gpickle saved, nodes: 199 edges: 185\n",
      "C:/Users/faisal/PycharmProjects/linkPrediction/graphs\\train_graph_2000.gpickle saved, nodes: 236 edges: 350\n",
      "C:/Users/faisal/PycharmProjects/linkPrediction/graphs\\train_graph_2001.gpickle saved, nodes: 248 edges: 349\n",
      "C:/Users/faisal/PycharmProjects/linkPrediction/graphs\\train_graph_2002.gpickle saved, nodes: 296 edges: 381\n",
      "C:/Users/faisal/PycharmProjects/linkPrediction/graphs\\train_graph_2003.gpickle saved, nodes: 299 edges: 372\n",
      "C:/Users/faisal/PycharmProjects/linkPrediction/graphs\\train_graph_2004.gpickle saved, nodes: 296 edges: 383\n",
      "C:/Users/faisal/PycharmProjects/linkPrediction/graphs\\train_graph_2005.gpickle saved, nodes: 70 edges: 47\n",
      "C:/Users/faisal/PycharmProjects/linkPrediction/graphs\\train_graph_2006.gpickle saved, nodes: 79 edges: 56\n",
      "C:/Users/faisal/PycharmProjects/linkPrediction/graphs\\train_graph_2007.gpickle saved, nodes: 400 edges: 699\n",
      "C:/Users/faisal/PycharmProjects/linkPrediction/graphs\\train_graph_2008.gpickle saved, nodes: 459 edges: 773\n",
      "C:/Users/faisal/PycharmProjects/linkPrediction/graphs\\train_graph_2009.gpickle saved, nodes: 470 edges: 688\n",
      "C:/Users/faisal/PycharmProjects/linkPrediction/graphs\\train_graph_2010.gpickle saved, nodes: 496 edges: 786\n",
      "C:/Users/faisal/PycharmProjects/linkPrediction/graphs\\train_graph_2011.gpickle saved, nodes: 536 edges: 977\n",
      "C:/Users/faisal/PycharmProjects/linkPrediction/graphs\\train_graph_2012.gpickle saved, nodes: 584 edges: 1054\n",
      "C:/Users/faisal/PycharmProjects/linkPrediction/graphs\\train_graph_2013.gpickle saved, nodes: 634 edges: 1280\n",
      "C:/Users/faisal/PycharmProjects/linkPrediction/graphs\\train_graph_2014.gpickle saved, nodes: 583 edges: 1144\n",
      "C:/Users/faisal/PycharmProjects/linkPrediction/graphs\\test_graph_2015.gpickle saved, nodes: 1141 edges: 2102\n",
      "C:/Users/faisal/PycharmProjects/linkPrediction/graphs\\parent_graph_1980-1991.gpickle saved, nodes: 124 edges: 121\n",
      "C:/Users/faisal/PycharmProjects/linkPrediction/graphs\\train_graph_1991-2015.gpickle saved, nodes: 1141 edges: 7130\n",
      "C:/Users/faisal/PycharmProjects/linkPrediction/graphs\\test_graph_2015-2016.gpickle saved, nodes: 1141 edges: 2102\n"
     ]
    }
   ],
   "source": [
    "#dynamic train graphs and test graph build and save in disk \n",
    "importlib.reload(gr)\n",
    "gr.dynamic_train_test_graph_build(df, key_list, graphpath, time)"
   ]
  },
  {
   "cell_type": "code",
   "execution_count": 1034,
   "metadata": {},
   "outputs": [
    {
     "name": "stdout",
     "output_type": "stream",
     "text": [
      "C:/Users/faisal/PycharmProjects/linkPrediction/graphs\\train_graph_1991.gpickle loaded, nodes: 73 edges: 90\n",
      "C:/Users/faisal/PycharmProjects/linkPrediction/graphs\\train_graph_1992.gpickle loaded, nodes: 76 edges: 81\n",
      "C:/Users/faisal/PycharmProjects/linkPrediction/graphs\\train_graph_1993.gpickle loaded, nodes: 88 edges: 72\n",
      "C:/Users/faisal/PycharmProjects/linkPrediction/graphs\\train_graph_1994.gpickle loaded, nodes: 118 edges: 91\n",
      "C:/Users/faisal/PycharmProjects/linkPrediction/graphs\\train_graph_1995.gpickle loaded, nodes: 158 edges: 171\n",
      "C:/Users/faisal/PycharmProjects/linkPrediction/graphs\\train_graph_1996.gpickle loaded, nodes: 170 edges: 206\n",
      "C:/Users/faisal/PycharmProjects/linkPrediction/graphs\\train_graph_1997.gpickle loaded, nodes: 182 edges: 181\n",
      "C:/Users/faisal/PycharmProjects/linkPrediction/graphs\\train_graph_1998.gpickle loaded, nodes: 177 edges: 202\n",
      "C:/Users/faisal/PycharmProjects/linkPrediction/graphs\\train_graph_1999.gpickle loaded, nodes: 199 edges: 185\n",
      "C:/Users/faisal/PycharmProjects/linkPrediction/graphs\\train_graph_2000.gpickle loaded, nodes: 236 edges: 350\n",
      "C:/Users/faisal/PycharmProjects/linkPrediction/graphs\\train_graph_2001.gpickle loaded, nodes: 248 edges: 349\n",
      "C:/Users/faisal/PycharmProjects/linkPrediction/graphs\\train_graph_2002.gpickle loaded, nodes: 296 edges: 381\n",
      "C:/Users/faisal/PycharmProjects/linkPrediction/graphs\\train_graph_2003.gpickle loaded, nodes: 299 edges: 372\n",
      "C:/Users/faisal/PycharmProjects/linkPrediction/graphs\\train_graph_2004.gpickle loaded, nodes: 296 edges: 383\n",
      "C:/Users/faisal/PycharmProjects/linkPrediction/graphs\\train_graph_2005.gpickle loaded, nodes: 70 edges: 47\n",
      "C:/Users/faisal/PycharmProjects/linkPrediction/graphs\\train_graph_2006.gpickle loaded, nodes: 79 edges: 56\n",
      "C:/Users/faisal/PycharmProjects/linkPrediction/graphs\\train_graph_2007.gpickle loaded, nodes: 400 edges: 699\n",
      "C:/Users/faisal/PycharmProjects/linkPrediction/graphs\\train_graph_2008.gpickle loaded, nodes: 459 edges: 773\n",
      "C:/Users/faisal/PycharmProjects/linkPrediction/graphs\\train_graph_2009.gpickle loaded, nodes: 470 edges: 688\n",
      "C:/Users/faisal/PycharmProjects/linkPrediction/graphs\\train_graph_2010.gpickle loaded, nodes: 496 edges: 786\n",
      "C:/Users/faisal/PycharmProjects/linkPrediction/graphs\\train_graph_2011.gpickle loaded, nodes: 536 edges: 977\n",
      "C:/Users/faisal/PycharmProjects/linkPrediction/graphs\\train_graph_2012.gpickle loaded, nodes: 584 edges: 1054\n",
      "C:/Users/faisal/PycharmProjects/linkPrediction/graphs\\train_graph_2013.gpickle loaded, nodes: 634 edges: 1280\n",
      "C:/Users/faisal/PycharmProjects/linkPrediction/graphs\\train_graph_2014.gpickle loaded, nodes: 583 edges: 1144\n",
      "C:/Users/faisal/PycharmProjects/linkPrediction/graphs\\test_graph_2015.gpickle loaded, nodes: 1141 edges: 2102\n",
      "C:/Users/faisal/PycharmProjects/linkPrediction/graphs\\parent_graph_1980-1991.gpickle loaded, nodes: 124 edges: 121\n",
      "C:/Users/faisal/PycharmProjects/linkPrediction/graphs\\train_graph_1991-2015.gpickle loaded, nodes: 1141 edges: 7130\n",
      "C:/Users/faisal/PycharmProjects/linkPrediction/graphs\\test_graph_2015-2016.gpickle loaded, nodes: 1141 edges: 2102\n"
     ]
    }
   ],
   "source": [
    "#load all graphs\n",
    "g_train, g_test, g_parent, g_train_static, g_test_static = gr.graph_load(graphpath, time)"
   ]
  },
  {
   "cell_type": "code",
   "execution_count": null,
   "metadata": {},
   "outputs": [],
   "source": []
  },
  {
   "cell_type": "code",
   "execution_count": null,
   "metadata": {},
   "outputs": [],
   "source": []
  },
  {
   "cell_type": "code",
   "execution_count": 1037,
   "metadata": {},
   "outputs": [
    {
     "name": "stdout",
     "output_type": "stream",
     "text": [
      "pos in time series: 1289 neg in time series: 5455 pos-neg ratio: 0.23629697525206234 total: 6744\n",
      "dist_aut_art: 3.4010361772676165 dist_y_weight: 5.561200890119386\n",
      "X shape: (6744, 24, 1) y shape: (6744,)\n",
      "2024/2024 [==============================] - 0s 36us/step\n",
      "C:/Users/faisal/PycharmProjects/linkPrediction/models\\apnea1991-2015-aut.h5\n",
      "X shape: (6744, 24, 1) y shape: (6744,)\n",
      "2024/2024 [==============================] - 0s 30us/step\n",
      "C:/Users/faisal/PycharmProjects/linkPrediction/models\\apnea1991-2015-art.h5\n",
      "X shape: (6744, 24, 1) y shape: (6744,)\n",
      "2024/2024 [==============================] - 0s 33us/step\n",
      "C:/Users/faisal/PycharmProjects/linkPrediction/models\\apnea1991-2015-af1.h5\n",
      "X shape: (6744, 24, 1) y shape: (6744,)\n",
      "2024/2024 [==============================] - 0s 45us/step\n",
      "C:/Users/faisal/PycharmProjects/linkPrediction/models\\apnea1991-2015-af2.h5\n",
      "X shape: (6744, 24, 1) y shape: (6744,)\n",
      "2024/2024 [==============================] - 0s 29us/step\n",
      "C:/Users/faisal/PycharmProjects/linkPrediction/models\\apnea1991-2015-coun.h5\n",
      "X shape: (6744, 24, 1) y shape: (6744,)\n",
      "2024/2024 [==============================] - 0s 61us/step\n",
      "C:/Users/faisal/PycharmProjects/linkPrediction/models\\apnea1991-2015-close.h5\n",
      "X shape: (6744, 24, 1) y shape: (6744,)\n",
      "2024/2024 [==============================] - 0s 29us/step\n",
      "C:/Users/faisal/PycharmProjects/linkPrediction/models\\apnea1991-2015-part.h5\n",
      "X shape: (6744, 24, 1) y shape: (6744,)\n",
      "2024/2024 [==============================] - 0s 42us/step\n",
      "C:/Users/faisal/PycharmProjects/linkPrediction/models\\apnea1991-2015-y_weight.h5\n",
      "X shape: (6744, 24, 1) y shape: (6744,)\n",
      "2024/2024 [==============================] - 0s 31us/step\n",
      "C:/Users/faisal/PycharmProjects/linkPrediction/models\\apnea1991-2015-type.h5\n",
      "X shape: (6744, 24, 1) y shape: (6744,)\n",
      "2024/2024 [==============================] - 0s 28us/step\n",
      "C:/Users/faisal/PycharmProjects/linkPrediction/models\\apnea1991-2015-part_cnt.h5\n",
      "X shape: (6744, 24, 1) y shape: (6744,)\n",
      "2024/2024 [==============================] - 0s 31us/step\n",
      "C:/Users/faisal/PycharmProjects/linkPrediction/models\\apnea1991-2015-path3.h5\n",
      "X shape: (6744, 24, 1) y shape: (6744,)\n",
      "2024/2024 [==============================] - 0s 40us/step\n",
      "C:/Users/faisal/PycharmProjects/linkPrediction/models\\apnea1991-2015-res_aloc.h5\n",
      "X shape: (6744, 24, 1) y shape: (6744,)\n",
      "2024/2024 [==============================] - 0s 33us/step\n",
      "C:/Users/faisal/PycharmProjects/linkPrediction/models\\apnea1991-2015-jac_coef.h5\n",
      "X shape: (6744, 24, 1) y shape: (6744,)\n",
      "2024/2024 [==============================] - 0s 32us/step\n",
      "C:/Users/faisal/PycharmProjects/linkPrediction/models\\apnea1991-2015-adamic.h5\n",
      "X shape: (6744, 24, 1) y shape: (6744,)\n",
      "2024/2024 [==============================] - 0s 102us/step\n",
      "C:/Users/faisal/PycharmProjects/linkPrediction/models\\apnea1991-2015-pref.h5\n"
     ]
    }
   ],
   "source": [
    "importlib.reload(fs)\n",
    "importlib.reload(cl)\n",
    "\n",
    "train_data, train_data_static, parent_data, test_data_static, edge_list = cl.non_edge_feature_dataframe(g_train, \n",
    "                                                                                                         g_test,\n",
    "                                                                                                         g_parent,\n",
    "                                                                                                         g_train_static, \n",
    "                                                                                                         g_test_static,  \n",
    "                                                                                                         time, \n",
    "                                                                                                         freq=5)\n",
    "node_feature, train_data = fs.dynamic_graph_feature_set(df, key_list, train_data, g_parent, g_train, g_train_static, time)\n",
    "\n",
    "ts = time[1]\n",
    "te = time[2]\n",
    "row = train_data[ts].columns.values.tolist()\n",
    "feature_names = row[2:len(row)]\n",
    "all_combinations = itertools.chain(*[itertools.combinations(feature_names, i + 1)\n",
    "                                     for i, _ in enumerate(feature_names)])\n",
    "feature_list = list(all_combinations)\n",
    "domain_info =  domain[0]+str(ts)+\"-\"+str(te)+\"-\"\n",
    "models  = []\n",
    "results = []\n",
    "con = [20]\n",
    "\n",
    "for feature in feature_list:\n",
    "    columns_drop = list(set(feature_names).difference(set(feature)))\n",
    "    if len(feature)==1:\n",
    "        model_name = '+'.join(feature)\n",
    "        model_name = domain_info+model_name\n",
    "        pruned_data = copy.deepcopy(train_data)\n",
    "        pruned_data = fs.drop_feature_columns(pruned_data, columns_drop, time)\n",
    "        X,y, data_len_dm = cl.reshape_feature_data_for_classification(pruned_data, edge_list, time)\n",
    "        X_train, X_test, y_train, y_test = train_test_split(X, y, test_size = 0.3, random_state = 0)\n",
    "        model = cl.classification_model(X_train, X_test, y_train, y_test, data_len_dm, con, model_name)\n",
    "        results.append(cl.model_evaluate(model, X_test, y_test, batch_size, model_name))\n",
    "        model_file_name = os.path.join(modelpath, model_name + \".h5\")\n",
    "        model.save(model_file_name)\n",
    "        models.append(model_name)\n",
    "        print(model_file_name)\n",
    "        "
   ]
  },
  {
   "cell_type": "code",
   "execution_count": 1100,
   "metadata": {
    "scrolled": true
   },
   "outputs": [],
   "source": [
    "#result\n",
    "model_names = []\n",
    "loss = []\n",
    "acc = []\n",
    "auc = []\n",
    "ff = set(['false positive','true positive'])\n",
    "for row in results:\n",
    "    for i,r in row.items():\n",
    "        if i not in ff:\n",
    "            #print(i,\":\",row[i])\n",
    "            pass\n",
    "    model_names.append(row['model name'].split('-')[2])\n",
    "    loss.append(row['test score'])\n",
    "    acc.append(row['test accuracy'])\n",
    "    auc.append(row['auc'])\n",
    "    #print()"
   ]
  },
  {
   "cell_type": "code",
   "execution_count": 1042,
   "metadata": {},
   "outputs": [
    {
     "name": "stdout",
     "output_type": "stream",
     "text": [
      "pos in time series: 1289 neg in time series: 5483 pos-neg ratio: 0.2350902790443188 total: 6772\n",
      "dist_aut_art: 3.4010361772676165 dist_y_weight: 5.561200890119386\n",
      "X shape: (6772, 24, 11) y shape: (6772,)\n",
      "2032/2032 [==============================] - 0s 39us/step\n",
      "model name : apnea1991-2015-aut+art+af1+af2+coun+close+part+y_weight+type+part_cnt+path3\n",
      "test score : 0.4620670885082305\n",
      "test accuracy : 0.8159448814204359\n",
      "auc : 0.6639224649120741\n"
     ]
    }
   ],
   "source": [
    "#specific feature set classification\n",
    "importlib.reload(fs)\n",
    "importlib.reload(cl)\n",
    "\n",
    "train_data, train_data_static, parent_data, test_data_static, edge_list = cl.non_edge_feature_dataframe(g_train, \n",
    "                                                                                                         g_test,\n",
    "                                                                                                         g_parent,\n",
    "                                                                                                         g_train_static, \n",
    "                                                                                                         g_test_static,  \n",
    "                                                                                                         time, \n",
    "                                                                                                         freq=5)\n",
    "node_feature, train_data = fs.dynamic_graph_feature_set(df, key_list, train_data, g_parent, g_train, g_train_static, time)\n",
    "\n",
    "ts = time[1]\n",
    "te = time[2]\n",
    "row = train_data[ts].columns.values.tolist()\n",
    "feature_names = row[2:len(row)]\n",
    "con = [10]\n",
    "#feature define\n",
    "feature = feature_names\n",
    "model_name = '+'.join(feature)\n",
    "model_name = domain_info+model_name\n",
    "columns_drop = list(set(feature_names).difference(set(feature)))\n",
    "pruned_data = copy.deepcopy(train_data)\n",
    "pruned_data = fs.drop_feature_columns(pruned_data, columns_drop, time)\n",
    "X,y, data_len_dm = cl.reshape_feature_data_for_classification(pruned_data, edge_list, time)\n",
    "\n",
    "#train\n",
    "X_train, X_test, y_train, y_test = train_test_split(X, y, test_size = 0.3, random_state = 0)\n",
    "model = cl.classification_model(X_train, X_test, y_train, y_test, data_len_dm, con, model_name)\n",
    "result = cl.model_evaluate(model, X_test, y_test, batch_size, model_name)\n",
    "\n",
    "#evaluation result\n",
    "not_show = set(['false positive','true positive'])\n",
    "for i,r in result.items():\n",
    "    if i not in not_show:\n",
    "        print(i,\":\",result[i])"
   ]
  },
  {
   "cell_type": "code",
   "execution_count": 1036,
   "metadata": {},
   "outputs": [
    {
     "name": "stdout",
     "output_type": "stream",
     "text": [
      "pos in time series: 1289 neg in time series: 10937 pos-neg ratio: 0.11785681631160282 total: 12226\n",
      "dist_aut_art: 3.4010361772676165 dist_y_weight: 5.561200890119386\n"
     ]
    }
   ],
   "source": [
    "#feature inclusion testing\n",
    "importlib.reload(fs)\n",
    "importlib.reload(cl)\n",
    "\n",
    "train_data, train_data_static, parent_data, test_data_static, edge_list = cl.non_edge_feature_dataframe(g_train, \n",
    "                                                                                                         g_test,\n",
    "                                                                                                         g_parent,\n",
    "                                                                                                         g_train_static, \n",
    "                                                                                                         g_test_static,  \n",
    "                                                                                                         time, \n",
    "                                                                                                         freq=10)\n",
    "node_feature, train_data = fs.dynamic_graph_feature_set(df, key_list, train_data, g_parent, g_train, g_train_static, time)"
   ]
  },
  {
   "cell_type": "code",
   "execution_count": 1140,
   "metadata": {
    "scrolled": false
   },
   "outputs": [
    {
     "data": {
      "image/png": "[encoded data removed]",
      "text/plain": [
       "<Figure size 576x432 with 1 Axes>"
      ]
     },
     "metadata": {
      "needs_background": "light"
     },
     "output_type": "display_data"
    }
   ],
   "source": [
    "plt_for = [auc,acc,loss]\n",
    "plt_for_name = ['auc','acc','loss']\n",
    "plt.figure(figsize=(8,6))\n",
    "for i,name in enumerate(plt_for):\n",
    "    #plt.title(plt_for_name[i])\n",
    "    plt.xticks(range(len(model_names)), model_names, rotation=45)\n",
    "    plt.plot(name, '-D',label = plt_for_name[i])\n",
    "plt.legend(loc='best')\n",
    "plt.show()"
   ]
  },
  {
   "cell_type": "code",
   "execution_count": null,
   "metadata": {},
   "outputs": [],
   "source": []
  },
  {
   "cell_type": "code",
   "execution_count": null,
   "metadata": {
    "scrolled": true
   },
   "outputs": [],
   "source": []
  },
  {
   "cell_type": "code",
   "execution_count": null,
   "metadata": {},
   "outputs": [],
   "source": []
  },
  {
   "cell_type": "code",
   "execution_count": null,
   "metadata": {},
   "outputs": [],
   "source": []
  },
  {
   "cell_type": "code",
   "execution_count": null,
   "metadata": {},
   "outputs": [],
   "source": []
  }
 ],
 "metadata": {
  "kernelspec": {
   "display_name": "Python 3",
   "language": "python",
   "name": "python3"
  },
  "language_info": {
   "codemirror_mode": {
    "name": "ipython",
    "version": 3
   },
   "file_extension": ".py",
   "mimetype": "text/x-python",
   "name": "python",
   "nbconvert_exporter": "python",
   "pygments_lexer": "ipython3",
   "version": "3.7.0"
  }
 },
 "nbformat": 4,
 "nbformat_minor": 2
}
