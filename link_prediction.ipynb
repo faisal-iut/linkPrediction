{
 "cells": [
  {
   "cell_type": "code",
   "execution_count": 21,
   "metadata": {},
   "outputs": [],
   "source": [
    "import pandas as pd\n",
    "import numpy as np\n",
    "import networkx as nx\n",
    "import graph as gr\n",
    "import utils as ut\n",
    "import feature_selection as fs\n",
    "import classification as cl\n",
    "import os.path\n",
    "import matplotlib.pyplot as plt\n",
    "from sklearn import preprocessing\n",
    "import importlib\n",
    "import community\n",
    "import seaborn as sns\n",
    "from gensim.models import KeyedVectors\n",
    "from pyemd import emd\n",
    "from gensim import corpora\n",
    "from nltk.corpus import stopwords\n",
    "from gensim.matutils import softcossim"
   ]
  },
  {
   "cell_type": "code",
   "execution_count": 281,
   "metadata": {},
   "outputs": [
    {
     "data": {
      "text/plain": [
       "<module 'feature_selection' from 'C:\\\\Users\\\\faisal\\\\PycharmProjects\\\\linkPrediction\\\\feature_selection.py'>"
      ]
     },
     "execution_count": 281,
     "metadata": {},
     "output_type": "execute_result"
    }
   ],
   "source": [
    "importlib.reload(fs)"
   ]
  },
  {
   "cell_type": "code",
   "execution_count": 4,
   "metadata": {},
   "outputs": [],
   "source": [
    "word_vectors = KeyedVectors.load_word2vec_format('pubmed2018_w2v_200D/pubmed2018_w2v_200D.bin', binary=True)"
   ]
  },
  {
   "cell_type": "code",
   "execution_count": 23,
   "metadata": {},
   "outputs": [],
   "source": [
    "filepath=['dataset/apnea-all,3.csv',\n",
    "         'dataset/apnea-distinct_keyword.csv']\n",
    "graphpath='C:/Users/faisal/PycharmProjects/linkPrediction/graphs'\n",
    "column_split=['keyword','author_name','affiliation_1','affiliation_2','country']\n",
    "#time=[parent_start_year, train_start_year, test_start_year, total_test_period_in_year, total_year_in_each_iteration]\n",
    "time=[1980,1991,2004,1,1]\n",
    "df, key_list = ut.load_dataset(filepath, column_split)"
   ]
  },
  {
   "cell_type": "code",
   "execution_count": 14,
   "metadata": {
    "scrolled": true
   },
   "outputs": [
    {
     "name": "stdout",
     "output_type": "stream",
     "text": [
      "447\n",
      "C:/Users/faisal/PycharmProjects/linkPrediction/graphs\\train_graph_1991.gpickle saved, nodes: 54 edges: 60\n",
      "C:/Users/faisal/PycharmProjects/linkPrediction/graphs\\train_graph_1992.gpickle saved, nodes: 64 edges: 68\n",
      "C:/Users/faisal/PycharmProjects/linkPrediction/graphs\\train_graph_1993.gpickle saved, nodes: 75 edges: 88\n",
      "C:/Users/faisal/PycharmProjects/linkPrediction/graphs\\train_graph_1994.gpickle saved, nodes: 93 edges: 76\n",
      "C:/Users/faisal/PycharmProjects/linkPrediction/graphs\\train_graph_1995.gpickle saved, nodes: 132 edges: 170\n",
      "C:/Users/faisal/PycharmProjects/linkPrediction/graphs\\train_graph_1996.gpickle saved, nodes: 155 edges: 219\n",
      "C:/Users/faisal/PycharmProjects/linkPrediction/graphs\\train_graph_1997.gpickle saved, nodes: 147 edges: 158\n",
      "C:/Users/faisal/PycharmProjects/linkPrediction/graphs\\train_graph_1998.gpickle saved, nodes: 149 edges: 180\n",
      "C:/Users/faisal/PycharmProjects/linkPrediction/graphs\\train_graph_1999.gpickle saved, nodes: 165 edges: 163\n",
      "C:/Users/faisal/PycharmProjects/linkPrediction/graphs\\train_graph_2000.gpickle saved, nodes: 179 edges: 293\n",
      "C:/Users/faisal/PycharmProjects/linkPrediction/graphs\\train_graph_2001.gpickle saved, nodes: 203 edges: 300\n",
      "C:/Users/faisal/PycharmProjects/linkPrediction/graphs\\train_graph_2002.gpickle saved, nodes: 198 edges: 283\n",
      "C:/Users/faisal/PycharmProjects/linkPrediction/graphs\\train_graph_2003.gpickle saved, nodes: 227 edges: 298\n",
      "C:/Users/faisal/PycharmProjects/linkPrediction/graphs\\test_graph_2004.gpickle saved, nodes: 447 edges: 680\n",
      "C:/Users/faisal/PycharmProjects/linkPrediction/graphs\\parent_graph_1980-1991.gpickle saved, nodes: 91 edges: 99\n",
      "C:/Users/faisal/PycharmProjects/linkPrediction/graphs\\train_graph_1991-2004.gpickle saved, nodes: 447 edges: 1589\n",
      "C:/Users/faisal/PycharmProjects/linkPrediction/graphs\\test_graph_2004-2005.gpickle saved, nodes: 447 edges: 680\n"
     ]
    }
   ],
   "source": [
    "#dynamic train graphs and test graph build and save in disk \n",
    "gr.dynamic_train_test_graph_build(df, key_list, graphpath, time)"
   ]
  },
  {
   "cell_type": "code",
   "execution_count": 25,
   "metadata": {},
   "outputs": [
    {
     "name": "stdout",
     "output_type": "stream",
     "text": [
      "C:/Users/faisal/PycharmProjects/linkPrediction/graphs\\train_graph_1991.gpickle loaded, nodes: 54 edges: 60\n",
      "C:/Users/faisal/PycharmProjects/linkPrediction/graphs\\train_graph_1992.gpickle loaded, nodes: 64 edges: 68\n",
      "C:/Users/faisal/PycharmProjects/linkPrediction/graphs\\train_graph_1993.gpickle loaded, nodes: 75 edges: 88\n",
      "C:/Users/faisal/PycharmProjects/linkPrediction/graphs\\train_graph_1994.gpickle loaded, nodes: 93 edges: 76\n",
      "C:/Users/faisal/PycharmProjects/linkPrediction/graphs\\train_graph_1995.gpickle loaded, nodes: 132 edges: 170\n",
      "C:/Users/faisal/PycharmProjects/linkPrediction/graphs\\train_graph_1996.gpickle loaded, nodes: 155 edges: 219\n",
      "C:/Users/faisal/PycharmProjects/linkPrediction/graphs\\train_graph_1997.gpickle loaded, nodes: 147 edges: 158\n",
      "C:/Users/faisal/PycharmProjects/linkPrediction/graphs\\train_graph_1998.gpickle loaded, nodes: 149 edges: 180\n",
      "C:/Users/faisal/PycharmProjects/linkPrediction/graphs\\train_graph_1999.gpickle loaded, nodes: 165 edges: 163\n",
      "C:/Users/faisal/PycharmProjects/linkPrediction/graphs\\train_graph_2000.gpickle loaded, nodes: 179 edges: 293\n",
      "C:/Users/faisal/PycharmProjects/linkPrediction/graphs\\train_graph_2001.gpickle loaded, nodes: 203 edges: 300\n",
      "C:/Users/faisal/PycharmProjects/linkPrediction/graphs\\train_graph_2002.gpickle loaded, nodes: 198 edges: 283\n",
      "C:/Users/faisal/PycharmProjects/linkPrediction/graphs\\train_graph_2003.gpickle loaded, nodes: 227 edges: 298\n",
      "C:/Users/faisal/PycharmProjects/linkPrediction/graphs\\test_graph_2004.gpickle loaded, nodes: 447 edges: 680\n",
      "C:/Users/faisal/PycharmProjects/linkPrediction/graphs\\parent_graph_1980-1991.gpickle loaded, nodes: 91 edges: 99\n",
      "C:/Users/faisal/PycharmProjects/linkPrediction/graphs\\train_graph_1991-2004.gpickle loaded, nodes: 447 edges: 1589\n",
      "C:/Users/faisal/PycharmProjects/linkPrediction/graphs\\test_graph_2004-2005.gpickle loaded, nodes: 447 edges: 680\n"
     ]
    }
   ],
   "source": [
    "#load all graphs\n",
    "g_train, g_test, g_parent, g_train_static, g_test_static = gr.graph_load(graphpath, time)"
   ]
  },
  {
   "cell_type": "code",
   "execution_count": 207,
   "metadata": {},
   "outputs": [
    {
     "name": "stdout",
     "output_type": "stream",
     "text": [
      "parent\n",
      "positive train: 102 negative train: 3894 train_size: 3996\n",
      "train\n",
      "positive train: 416 negative train: 97676 train_size: 98092\n",
      "train\n",
      "positive train: 416 negative train: 4160 train_size: 4576\n",
      "train\n",
      "positive train: 32 negative train: 51 train_size: 83\n",
      "train\n",
      "positive train: 25 negative train: 75 train_size: 100\n",
      "train\n",
      "positive train: 30 negative train: 104 train_size: 134\n",
      "train\n",
      "positive train: 49 negative train: 185 train_size: 234\n",
      "train\n",
      "positive train: 78 negative train: 342 train_size: 420\n",
      "train\n",
      "positive train: 120 negative train: 468 train_size: 588\n",
      "train\n",
      "positive train: 98 negative train: 439 train_size: 537\n",
      "train\n",
      "positive train: 112 negative train: 441 train_size: 553\n",
      "train\n",
      "positive train: 106 negative train: 544 train_size: 650\n",
      "train\n",
      "positive train: 130 negative train: 637 train_size: 767\n",
      "train\n",
      "positive train: 133 negative train: 869 train_size: 1002\n",
      "train\n",
      "positive train: 139 negative train: 745 train_size: 884\n",
      "train\n",
      "positive train: 176 negative train: 1007 train_size: 1183\n",
      "test\n",
      "test_size: 680\n",
      "pos in time series: 351 neg in ts: 2790 pos-neg ratio: 0.12580645161290321\n"
     ]
    }
   ],
   "source": [
    "train_data, train_data_static, parent_data, test_data_static = cl.non_edge_feature_dataframe(g_train, \n",
    "                                                                                             g_test,\n",
    "                                                                                             g_parent,\n",
    "                                                                                             g_train_static, \n",
    "                                                                                             g_test_static,  \n",
    "                                                                                             time, \n",
    "                                                                                             freq=10)"
   ]
  },
  {
   "cell_type": "code",
   "execution_count": 282,
   "metadata": {},
   "outputs": [
    {
     "name": "stdout",
     "output_type": "stream",
     "text": [
      "dist_aut_art: 3.1657091642888293 dist_y_weight: 4.822365429261176\n"
     ]
    }
   ],
   "source": [
    "#parent keys for 1st year\n",
    "parent_keys = fs.parent_key_from_parent_graph(df, key_list, g_parent, g_train, time)"
   ]
  },
  {
   "cell_type": "code",
   "execution_count": 336,
   "metadata": {},
   "outputs": [
    {
     "name": "stdout",
     "output_type": "stream",
     "text": [
      "dist_aut_art: 3.1657091642888293 dist_y_weight: 4.822365429261176\n"
     ]
    }
   ],
   "source": [
    "importlib.reload(fs)\n",
    "node_feature, train_data = fs.dynamic_graph_feature_set(df, key_list, train_data, g_parent, g_train, g_train_static, time)"
   ]
  },
  {
   "cell_type": "code",
   "execution_count": 351,
   "metadata": {},
   "outputs": [
    {
     "data": {
      "text/plain": [
       "[1,\n",
       " 0.7563048926997847,\n",
       " -0.6739360184961675,\n",
       " 0.28922542204568025,\n",
       " 0,\n",
       " 0.02197802197802198,\n",
       " 10,\n",
       " 0.2,\n",
       " 0]"
      ]
     },
     "execution_count": 351,
     "metadata": {},
     "output_type": "execute_result"
    }
   ],
   "source": [
    "list(train_data[1991].iloc[0,1:10])"
   ]
  },
  {
   "cell_type": "code",
   "execution_count": 347,
   "metadata": {},
   "outputs": [
    {
     "data": {
      "text/html": [
       "<div>\n",
       "<style scoped>\n",
       "    .dataframe tbody tr th:only-of-type {\n",
       "        vertical-align: middle;\n",
       "    }\n",
       "\n",
       "    .dataframe tbody tr th {\n",
       "        vertical-align: top;\n",
       "    }\n",
       "\n",
       "    .dataframe thead th {\n",
       "        text-align: right;\n",
       "    }\n",
       "</style>\n",
       "<table border=\"1\" class=\"dataframe\">\n",
       "  <thead>\n",
       "    <tr style=\"text-align: right;\">\n",
       "      <th></th>\n",
       "      <th>row_name</th>\n",
       "      <th>label</th>\n",
       "      <th>aut</th>\n",
       "      <th>art</th>\n",
       "      <th>closeness</th>\n",
       "      <th>partition</th>\n",
       "      <th>y_weight</th>\n",
       "      <th>type</th>\n",
       "      <th>partition_cnt</th>\n",
       "      <th>path_len3</th>\n",
       "    </tr>\n",
       "  </thead>\n",
       "  <tbody>\n",
       "    <tr>\n",
       "      <th>0</th>\n",
       "      <td>(8833, 10649)</td>\n",
       "      <td>1</td>\n",
       "      <td>0.756305</td>\n",
       "      <td>-0.673936</td>\n",
       "      <td>0.289225</td>\n",
       "      <td>0</td>\n",
       "      <td>0.021978</td>\n",
       "      <td>10</td>\n",
       "      <td>0.200000</td>\n",
       "      <td>0</td>\n",
       "    </tr>\n",
       "    <tr>\n",
       "      <th>1</th>\n",
       "      <td>(801, 8833)</td>\n",
       "      <td>1</td>\n",
       "      <td>0.590667</td>\n",
       "      <td>-0.739428</td>\n",
       "      <td>0.308265</td>\n",
       "      <td>0</td>\n",
       "      <td>0.021978</td>\n",
       "      <td>6</td>\n",
       "      <td>0.166667</td>\n",
       "      <td>0</td>\n",
       "    </tr>\n",
       "    <tr>\n",
       "      <th>2</th>\n",
       "      <td>(8833, 12485)</td>\n",
       "      <td>0</td>\n",
       "      <td>-1.440064</td>\n",
       "      <td>-0.778896</td>\n",
       "      <td>0.292830</td>\n",
       "      <td>0</td>\n",
       "      <td>0.021978</td>\n",
       "      <td>10</td>\n",
       "      <td>0.300000</td>\n",
       "      <td>0</td>\n",
       "    </tr>\n",
       "    <tr>\n",
       "      <th>3</th>\n",
       "      <td>(8833, 12542)</td>\n",
       "      <td>1</td>\n",
       "      <td>-9.011196</td>\n",
       "      <td>-9.059030</td>\n",
       "      <td>0.475472</td>\n",
       "      <td>0</td>\n",
       "      <td>0.021978</td>\n",
       "      <td>10</td>\n",
       "      <td>1.000000</td>\n",
       "      <td>0</td>\n",
       "    </tr>\n",
       "    <tr>\n",
       "      <th>4</th>\n",
       "      <td>(2451, 14850)</td>\n",
       "      <td>0</td>\n",
       "      <td>0.272993</td>\n",
       "      <td>-0.846771</td>\n",
       "      <td>0.220937</td>\n",
       "      <td>0</td>\n",
       "      <td>0.021978</td>\n",
       "      <td>6</td>\n",
       "      <td>0.166667</td>\n",
       "      <td>0</td>\n",
       "    </tr>\n",
       "  </tbody>\n",
       "</table>\n",
       "</div>"
      ],
      "text/plain": [
       "        row_name  label       aut       art  closeness  partition  y_weight  \\\n",
       "0  (8833, 10649)      1  0.756305 -0.673936   0.289225          0  0.021978   \n",
       "1    (801, 8833)      1  0.590667 -0.739428   0.308265          0  0.021978   \n",
       "2  (8833, 12485)      0 -1.440064 -0.778896   0.292830          0  0.021978   \n",
       "3  (8833, 12542)      1 -9.011196 -9.059030   0.475472          0  0.021978   \n",
       "4  (2451, 14850)      0  0.272993 -0.846771   0.220937          0  0.021978   \n",
       "\n",
       "   type  partition_cnt  path_len3  \n",
       "0    10       0.200000          0  \n",
       "1     6       0.166667          0  \n",
       "2    10       0.300000          0  \n",
       "3    10       1.000000          0  \n",
       "4     6       0.166667          0  "
      ]
     },
     "execution_count": 347,
     "metadata": {},
     "output_type": "execute_result"
    }
   ],
   "source": [
    "train_data[1991].head()"
   ]
  },
  {
   "cell_type": "code",
   "execution_count": 394,
   "metadata": {},
   "outputs": [
    {
     "data": {
      "text/plain": [
       "3141"
      ]
     },
     "execution_count": 394,
     "metadata": {},
     "output_type": "execute_result"
    }
   ],
   "source": [
    "ts = time[1]\n",
    "te = time[2]\n",
    "it_index = time[4]\n",
    "edge_set = set()\n",
    "for t in range(ts,te, it_index):\n",
    "    edge_set.update(train_data[t]['row_name'])\n",
    "len(edge_set)"
   ]
  },
  {
   "cell_type": "code",
   "execution_count": 442,
   "metadata": {},
   "outputs": [
    {
     "name": "stdout",
     "output_type": "stream",
     "text": [
      "[1 -9.011195982467889 -9.059029895110744 0.4754716981132075 0\n",
      " 0.02197802197802198 10 1.0 0] 1991\n",
      "[0. 0. 0. 0. 0. 0. 0. 0. 0.] 1992\n",
      "[0. 0. 0. 0. 0. 0. 0. 0. 0.] 1993\n",
      "[0. 0. 0. 0. 0. 0. 0. 0. 0.] 1994\n",
      "[1 -7.800920590378357 -8.82823366519218 0.3324080499653019 0\n",
      " 0.0670249015670459 10 0.9285714285714285 0] 1995\n",
      "[0. 0. 0. 0. 0. 0. 0. 0. 0.] 1996\n",
      "[0. 0. 0. 0. 0. 0. 0. 0. 0.] 1997\n",
      "[0. 0. 0. 0. 0. 0. 0. 0. 0.] 1998\n",
      "[0. 0. 0. 0. 0. 0. 0. 0. 0.] 1999\n",
      "[0. 0. 0. 0. 0. 0. 0. 0. 0.] 2000\n",
      "[0. 0. 0. 0. 0. 0. 0. 0. 0.] 2001\n",
      "[0. 0. 0. 0. 0. 0. 0. 0. 0.] 2002\n",
      "[1 -0.08102310846836398 -10.400958388496278 0.2953581566204709 0\n",
      " 0.15688649243091138 10 0.8518518518518519 0] 2003\n"
     ]
    }
   ],
   "source": [
    "ts = time[1]\n",
    "te = time[2]\n",
    "it_index = time[4]\n",
    "time_range = te-ts\n",
    "feature = np.zeros([1,time_range,9])\n",
    "feature.shape\n",
    "ed = tuple((8833, 12542))\n",
    "for t in range(ts,te, it_index):\n",
    "    if ed in set(train_data[t]['row_name']):\n",
    "        #print(len(train_data[t].iloc[0]))\n",
    "        tt = np.asarray(train_data[t].loc[train_data[t]['row_name']==ed].values[0][1:10])\n",
    "        print(tt, t)\n",
    "        feature[0][t-ts]=tt\n",
    "    else:\n",
    "        tt = np.zeros(9,dtype=float)\n",
    "        print(tt,t)\n",
    "        feature[0][t-ts]=tt"
   ]
  },
  {
   "cell_type": "code",
   "execution_count": 445,
   "metadata": {},
   "outputs": [],
   "source": [
    "from pylab import *\n",
    "from pprint import pprint\n",
    "\n",
    "\n",
    "def arrayToList(arr):\n",
    "    if type(arr) == type(array([])):\n",
    "        return arrayToList(arr.tolist())\n",
    "    elif type(arr) == type([]):\n",
    "        return [arrayToList(a) for a in arr]\n",
    "    else:\n",
    "        return arr"
   ]
  },
  {
   "cell_type": "code",
   "execution_count": 447,
   "metadata": {},
   "outputs": [
    {
     "name": "stdout",
     "output_type": "stream",
     "text": [
      "[[[1.0,\n",
      "   -9.011195982467889,\n",
      "   -9.059029895110744,\n",
      "   0.4754716981132075,\n",
      "   0.0,\n",
      "   0.02197802197802198,\n",
      "   10.0,\n",
      "   1.0,\n",
      "   0.0],\n",
      "  [0.0, 0.0, 0.0, 0.0, 0.0, 0.0, 0.0, 0.0, 0.0],\n",
      "  [0.0, 0.0, 0.0, 0.0, 0.0, 0.0, 0.0, 0.0, 0.0],\n",
      "  [0.0, 0.0, 0.0, 0.0, 0.0, 0.0, 0.0, 0.0, 0.0],\n",
      "  [1.0,\n",
      "   -7.800920590378357,\n",
      "   -8.82823366519218,\n",
      "   0.3324080499653019,\n",
      "   0.0,\n",
      "   0.0670249015670459,\n",
      "   10.0,\n",
      "   0.9285714285714285,\n",
      "   0.0],\n",
      "  [0.0, 0.0, 0.0, 0.0, 0.0, 0.0, 0.0, 0.0, 0.0],\n",
      "  [0.0, 0.0, 0.0, 0.0, 0.0, 0.0, 0.0, 0.0, 0.0],\n",
      "  [0.0, 0.0, 0.0, 0.0, 0.0, 0.0, 0.0, 0.0, 0.0],\n",
      "  [0.0, 0.0, 0.0, 0.0, 0.0, 0.0, 0.0, 0.0, 0.0],\n",
      "  [0.0, 0.0, 0.0, 0.0, 0.0, 0.0, 0.0, 0.0, 0.0],\n",
      "  [0.0, 0.0, 0.0, 0.0, 0.0, 0.0, 0.0, 0.0, 0.0],\n",
      "  [0.0, 0.0, 0.0, 0.0, 0.0, 0.0, 0.0, 0.0, 0.0],\n",
      "  [1.0,\n",
      "   -0.08102310846836398,\n",
      "   -10.400958388496278,\n",
      "   0.2953581566204709,\n",
      "   0.0,\n",
      "   0.15688649243091138,\n",
      "   10.0,\n",
      "   0.8518518518518519,\n",
      "   0.0]]]\n"
     ]
    }
   ],
   "source": [
    "pprint(arrayToList(feature))"
   ]
  },
  {
   "cell_type": "code",
   "execution_count": null,
   "metadata": {},
   "outputs": [],
   "source": []
  }
 ],
 "metadata": {
  "kernelspec": {
   "display_name": "Python 3",
   "language": "python",
   "name": "python3"
  },
  "language_info": {
   "codemirror_mode": {
    "name": "ipython",
    "version": 3
   },
   "file_extension": ".py",
   "mimetype": "text/x-python",
   "name": "python",
   "nbconvert_exporter": "python",
   "pygments_lexer": "ipython3",
   "version": "3.7.0"
  }
 },
 "nbformat": 4,
 "nbformat_minor": 2
}
