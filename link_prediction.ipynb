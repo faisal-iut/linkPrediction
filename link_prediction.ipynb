{
 "cells": [
  {
   "cell_type": "markdown",
   "metadata": {},
   "source": [
    "# Link Prediction\n",
    "In this notebook, we perform linkperdiction and compare obtained result for both $D_{sas}$ and $D_{obs}$ dataset. We will generate noble features using metadata information and perform *LSTM* based timeseries forecasting and link classification using those features."
   ]
  },
  {
   "cell_type": "code",
   "execution_count": 1,
   "metadata": {},
   "outputs": [
    {
     "name": "stderr",
     "output_type": "stream",
     "text": [
      "Using Theano backend.\n"
     ]
    }
   ],
   "source": [
    "import pandas as pd\n",
    "import numpy as np\n",
    "import networkx as nx\n",
    "import graph as gr\n",
    "import utils as ut\n",
    "import feature_selection as fs\n",
    "import classification as cl\n",
    "import os.path\n",
    "import matplotlib.pyplot as plt\n",
    "from pprint import pprint\n",
    "import importlib\n",
    "import community\n",
    "import seaborn as sns\n",
    "from gensim.models import KeyedVectors\n",
    "from pyemd import emd\n",
    "from gensim import corpora\n",
    "from nltk.corpus import stopwords\n",
    "from gensim.matutils import softcossim\n",
    "import copy\n",
    "import itertools\n",
    "import pickle\n",
    "import PathSim as ps\n",
    "import importlib"
   ]
  },
  {
   "cell_type": "code",
   "execution_count": 2,
   "metadata": {},
   "outputs": [],
   "source": [
    "from keras.models import Model, Sequential\n",
    "from keras.layers import LSTM, Dense\n",
    "from keras.layers.normalization import BatchNormalization\n",
    "from keras.layers.core import Dense, Dropout, Activation, Reshape\n",
    "from sklearn.metrics import roc_curve, auc, precision_recall_curve, average_precision_score, roc_auc_score\n",
    "from sklearn.metrics import confusion_matrix, precision_recall_fscore_support, accuracy_score\n",
    "from sklearn import preprocessing\n",
    "from sklearn.model_selection import train_test_split\n",
    "from keras.models import load_model"
   ]
  },
  {
   "cell_type": "code",
   "execution_count": 3,
   "metadata": {},
   "outputs": [],
   "source": [
    "#word_vectors = KeyedVectors.load_word2vec_format('pubmed2018_w2v_200D/pubmed2018_w2v_200D.bin', binary=True)"
   ]
  },
  {
   "cell_type": "markdown",
   "metadata": {},
   "source": [
    "#### Path for dataset and other files."
   ]
  },
  {
   "cell_type": "code",
   "execution_count": 4,
   "metadata": {},
   "outputs": [],
   "source": [
    "#########dataset and domain selection : sleep apnea: 0 ; obesity:1\n",
    "importlib.reload(ut)\n",
    "select_domain  = 0\n",
    "domain = ['apnea','obesity']\n",
    "root = '../linkPrediction/'\n",
    "filepath=[['dataset/apnea-all,3.csv',\n",
    "         'dataset/apnea-distinct_keyword.csv'],\n",
    "        ['dataset/obesity-all,3.csv',\n",
    "         'dataset/obesity-distinct_keyword.csv']]\n",
    "########path to save graph files\n",
    "graphpath=root+'graphs/'+domain[select_domain]\n",
    "########path to save result files, data files and resultent figures\n",
    "datapath=root+'dataframes/'+domain[select_domain]\n",
    "#path to save classification models\n",
    "modelpath=root+'models/'+domain[select_domain]\n",
    "########columns with sub-columns\n",
    "column_split=['keyword','author_name','affiliation_1','affiliation_2','country']\n",
    "#time=[parent_year, train:start_year, test:start_year, no_of_test_years(1), total_year_in_each_iteration, no of grandparents]\n",
    "time=[2007,2008,2015,1,1,20]\n",
    "######load dataset and keyword list into dataframes\n",
    "df, key_list = ut.load_dataset(filepath[select_domain], column_split)"
   ]
  },
  {
   "cell_type": "markdown",
   "metadata": {},
   "source": [
    "#### print a file path"
   ]
  },
  {
   "cell_type": "code",
   "execution_count": 5,
   "metadata": {},
   "outputs": [
    {
     "data": {
      "text/plain": [
       "'../linkPrediction/graphs/apnea'"
      ]
     },
     "execution_count": 5,
     "metadata": {},
     "output_type": "execute_result"
    }
   ],
   "source": [
    "graphpath"
   ]
  },
  {
   "cell_type": "markdown",
   "metadata": {},
   "source": [
    "#### graph building and saving in graphpath"
   ]
  },
  {
   "cell_type": "code",
   "execution_count": null,
   "metadata": {
    "scrolled": true
   },
   "outputs": [],
   "source": [
    "#######graph building and saving in graphpath: train graph, test graph and parent graph(previous year of train graph)  \n",
    "importlib.reload(gr)\n",
    "time=[2007,2008,2015,1,1,20]\n",
    "gr.dynamic_train_test_graph_build(df, key_list, graphpath, time)"
   ]
  },
  {
   "cell_type": "markdown",
   "metadata": {},
   "source": [
    "#### Load all graphs into dictionary of networkx graphs"
   ]
  },
  {
   "cell_type": "code",
   "execution_count": 247,
   "metadata": {
    "scrolled": true
   },
   "outputs": [
    {
     "name": "stdout",
     "output_type": "stream",
     "text": [
      "../linkPrediction/graphs/apnea\\train_graph_2008.gpickle loaded, nodes: 459 edges: 773\n",
      "../linkPrediction/graphs/apnea\\train_graph_2009.gpickle loaded, nodes: 470 edges: 688\n",
      "../linkPrediction/graphs/apnea\\train_graph_2010.gpickle loaded, nodes: 496 edges: 786\n",
      "../linkPrediction/graphs/apnea\\train_graph_2011.gpickle loaded, nodes: 536 edges: 977\n",
      "../linkPrediction/graphs/apnea\\train_graph_2012.gpickle loaded, nodes: 584 edges: 1054\n",
      "../linkPrediction/graphs/apnea\\train_graph_2013.gpickle loaded, nodes: 634 edges: 1280\n",
      "../linkPrediction/graphs/apnea\\train_graph_2014.gpickle loaded, nodes: 583 edges: 1144\n",
      "../linkPrediction/graphs/apnea\\test_graph_2015.gpickle loaded, nodes: 1093 edges: 2019\n",
      "../linkPrediction/graphs/apnea\\parent_graph_2007-2008.gpickle loaded, nodes: 388 edges: 689\n",
      "../linkPrediction/graphs/apnea\\train_graph_2008-2015.gpickle loaded, nodes: 1093 edges: 5142\n",
      "../linkPrediction/graphs/apnea\\test_graph_2015-2016.gpickle loaded, nodes: 1093 edges: 2019\n"
     ]
    }
   ],
   "source": [
    "# time=[1991,1992,1994,1,1,20]\n",
    "importlib.reload(gr)\n",
    "g_train, g_test, g_parent, g_train_static, g_test_static = gr.graph_load(graphpath, time)\n",
    "# g_train, g_test = gr.graph_norm(root, domain, select_domain, g_train, g_test)"
   ]
  },
  {
   "cell_type": "markdown",
   "metadata": {},
   "source": [
    "#### Delete search keys"
   ]
  },
  {
   "cell_type": "code",
   "execution_count": 248,
   "metadata": {},
   "outputs": [],
   "source": [
    "s_key={0:[9875,1020],1:[7614,9953]}\n",
    "for t in range(2008,2015):\n",
    "    g_train[t].remove_nodes_from(s_key[select_domain])\n",
    "g_test[2015].remove_nodes_from(s_key[select_domain])\n",
    "g_parent.remove_nodes_from(s_key[select_domain])\n",
    "g_train_static.remove_nodes_from(s_key[select_domain])\n",
    "g_test_static.remove_nodes_from(s_key[select_domain])"
   ]
  },
  {
   "cell_type": "code",
   "execution_count": null,
   "metadata": {},
   "outputs": [],
   "source": []
  },
  {
   "cell_type": "code",
   "execution_count": 9,
   "metadata": {},
   "outputs": [
    {
     "name": "stdout",
     "output_type": "stream",
     "text": [
      "../linkPrediction/graphs/apnea\\train_graph_2008.gpickle loaded, nodes: 459 edges: 773\n",
      "../linkPrediction/graphs/apnea\\train_graph_2009.gpickle loaded, nodes: 470 edges: 688\n",
      "../linkPrediction/graphs/apnea\\train_graph_2010.gpickle loaded, nodes: 496 edges: 786\n",
      "../linkPrediction/graphs/apnea\\train_graph_2011.gpickle loaded, nodes: 536 edges: 977\n",
      "../linkPrediction/graphs/apnea\\train_graph_2012.gpickle loaded, nodes: 584 edges: 1054\n",
      "../linkPrediction/graphs/apnea\\train_graph_2013.gpickle loaded, nodes: 634 edges: 1280\n",
      "../linkPrediction/graphs/apnea\\train_graph_2014.gpickle loaded, nodes: 583 edges: 1144\n",
      "../linkPrediction/graphs/apnea\\test_graph_2015.gpickle loaded, nodes: 1093 edges: 2019\n",
      "../linkPrediction/graphs/apnea\\parent_graph_2007-2008.gpickle loaded, nodes: 388 edges: 689\n",
      "../linkPrediction/graphs/apnea\\train_graph_2008-2015.gpickle loaded, nodes: 1093 edges: 5142\n",
      "../linkPrediction/graphs/apnea\\test_graph_2015-2016.gpickle loaded, nodes: 1093 edges: 2019\n",
      "../linkPrediction/Informetrics/apnea\n",
      "../linkPrediction/Informetrics/apnea/asso_keynet_2008.pkl\n",
      "459 355 390\n",
      "../linkPrediction/Informetrics/apnea/asso_keynet_2009.pkl\n",
      "470 348 346\n",
      "../linkPrediction/Informetrics/apnea/asso_keynet_2010.pkl\n",
      "496 372 394\n",
      "../linkPrediction/Informetrics/apnea/asso_keynet_2011.pkl\n",
      "536 407 489\n",
      "../linkPrediction/Informetrics/apnea/asso_keynet_2012.pkl\n",
      "584 450 527\n",
      "../linkPrediction/Informetrics/apnea/asso_keynet_2013.pkl\n",
      "634 524 644\n",
      "../linkPrediction/Informetrics/apnea/asso_keynet_2014.pkl\n",
      "583 449 572\n",
      "../linkPrediction/Informetrics/apnea/asso_keynet_2015.pkl\n",
      "1093 884 1010\n"
     ]
    }
   ],
   "source": [
    "importlib.reload(gr)\n",
    "assoc=0\n",
    "g_train, g_test, g_parent, g_train_static, g_test_static = gr.graph_load(graphpath, time)\n",
    "g_train, g_test = gr.graph_norm(root, domain, select_domain, g_train, g_test,0.0001)"
   ]
  },
  {
   "cell_type": "code",
   "execution_count": null,
   "metadata": {},
   "outputs": [],
   "source": []
  },
  {
   "cell_type": "code",
   "execution_count": null,
   "metadata": {},
   "outputs": [],
   "source": []
  },
  {
   "cell_type": "code",
   "execution_count": 18,
   "metadata": {},
   "outputs": [],
   "source": [
    "def get_lists(g):    \n",
    "    node_article = []\n",
    "    art_author = []\n",
    "    node_list=[]\n",
    "    aut_list=[]\n",
    "    art_list=[]\n",
    "    for nd, row in g.nodes(data=True):\n",
    "        node_list.append(nd)\n",
    "        for art_s in row['art_id']:\n",
    "            art_list.append(art_s)\n",
    "            node_article.append((nd,art_s))\n",
    "    for art_s in art_list:\n",
    "        a = df.loc[df['art_id']==art_s,['art_year','author_name']]\n",
    "        aa = a['author_name'].values[0]\n",
    "        a = list(itertools.product([art_s], aa))\n",
    "        art_author.extend(a)\n",
    "        aut_list.extend(aa)\n",
    "    node_list=list(set(node_list))\n",
    "    aut_list=list(set(aut_list))\n",
    "    art_list=list(set(art_list))\n",
    "    return node_list, aut_list, art_list, node_article, art_author"
   ]
  },
  {
   "cell_type": "code",
   "execution_count": 20,
   "metadata": {},
   "outputs": [],
   "source": [
    "importlib.reload(ps)\n",
    "\n",
    "def creat_adj(node_list, aut_list, art_list, node_article, art_author):\n",
    "    #  Create the node-aut adjacency\n",
    "\n",
    "    node_art_df = pd.DataFrame(node_article, columns=['node', 'article'])\n",
    "    node_art_adj = pd.DataFrame(0, index=node_list, columns=art_list)\n",
    "    for nd, art in zip(node_art_df['node'], node_art_df['article']):\n",
    "        node_art_adj.at[nd, art]=1\n",
    "    node_art_adj = node_art_adj.dropna(axis='columns')\n",
    "\n",
    "    # #  Create the aut-art adjacency\n",
    "    #\n",
    "    art_aut_df = pd.DataFrame(art_author, columns=['article','author'])\n",
    "    art_aut_adj = pd.DataFrame(0, index=art_list, columns=aut_list)\n",
    "    for art, aut in zip(art_aut_df['article'], art_aut_df['author']):\n",
    "        art_aut_adj.at[art, aut]=1\n",
    "    art_aut_adj = art_aut_adj.dropna(axis='columns')\n",
    "    return node_art_adj,art_aut_adj"
   ]
  },
  {
   "cell_type": "code",
   "execution_count": 28,
   "metadata": {},
   "outputs": [],
   "source": [
    "importlib.reload(ps)\n",
    "for t in range(2008,2009):\n",
    "    if t==2015:\n",
    "        g=g_test[t]\n",
    "    else:\n",
    "        g=g_train[t]\n",
    "    node_list, aut_list, art_list, node_article, art_author = get_lists(g)\n",
    "    mult = lambda x: np.asarray(x) * np.asarray(s)\n",
    "    node_art_adj,art_aut_adj=creat_adj(node_list, aut_list, art_list, node_article, art_author)\n",
    "    result = ps.commute_matrix(node_art_adj, art_aut_adj, 6138)\n",
    "    AD, s = ps.scaling(result, 6138)\n",
    "    an_hai = AD.apply(mult)\n",
    "    an_hai_result = an_hai.sort_values('pathsim_score', ascending=False)"
   ]
  },
  {
   "cell_type": "code",
   "execution_count": 249,
   "metadata": {},
   "outputs": [
    {
     "name": "stdout",
     "output_type": "stream",
     "text": [
      "../linkPrediction/dataframes/apnea\n",
      "../linkPrediction/dataframes/apnea\n",
      "../linkPrediction/dataframes/apnea\n",
      "../linkPrediction/dataframes/apnea\n",
      "../linkPrediction/dataframes/apnea\n",
      "train data length: 7\n",
      "node feature length: 7\n",
      "edge_list length: 12494\n",
      "test_data length: 12494\n",
      "test_node length: 1093\n"
     ]
    }
   ],
   "source": [
    "importlib.reload(ut)\n",
    "train_data = ut.load_data(datapath, domain[select_domain], \"train_data\", time)\n",
    "node_feature = ut.load_data(datapath, domain[select_domain], \"node_feature\", time)\n",
    "edge_list = ut.load_data(datapath, domain[select_domain], \"edge_list\", time)\n",
    "test_data = ut.load_data(datapath, domain[select_domain], \"test_data\", time)\n",
    "test_node = ut.load_data(datapath, domain[select_domain], \"test_node\", time)\n",
    "print('train data length:',len(train_data))\n",
    "print('node feature length:',len(node_feature))\n",
    "print('edge_list length:',len(edge_list))\n",
    "print('test_data length:',len(test_data[2015]))\n",
    "print('test_node length:',len(test_node[2015]))"
   ]
  },
  {
   "cell_type": "code",
   "execution_count": 41,
   "metadata": {},
   "outputs": [],
   "source": [
    "from collections import Iterable\n",
    "\n",
    "\n",
    "def flatten(items):\n",
    "    \"\"\"Yield items from any nested iterable; see Reference.\"\"\"\n",
    "    for x in items:\n",
    "        if isinstance(x, Iterable) and not isinstance(x, (str, bytes)):\n",
    "            for sub_x in flatten(x):\n",
    "                yield sub_x\n",
    "        else:\n",
    "            yield x"
   ]
  },
  {
   "cell_type": "code",
   "execution_count": 133,
   "metadata": {},
   "outputs": [],
   "source": []
  },
  {
   "cell_type": "code",
   "execution_count": 140,
   "metadata": {
    "scrolled": true
   },
   "outputs": [
    {
     "name": "stdout",
     "output_type": "stream",
     "text": [
      "2007 113300 4418 25.645088275237665\n",
      "2008 93371 4625 20.188324324324324\n",
      "2009 80609 5067 15.908624432603117\n",
      "2010 64785 5943 10.901060070671377\n",
      "2011 48419 7198 6.726729647124201\n",
      "2012 30374 8750 3.4713142857142856\n",
      "2013 7577 8595 0.8815590459569517\n",
      "2014 46361 6668 6.952759448110378\n",
      "2015 20342 6907 2.9451281308817143\n"
     ]
    }
   ],
   "source": [
    "importlib.reload(ps)\n",
    "\n",
    "t=2007\n",
    "g=g_parent\n",
    "node_feature[t]={}\n",
    "nodes = list(g_parent.nodes())\n",
    "node_feature[t]= pd.DataFrame({'node_index': nodes})\n",
    "node_feature[t]['arts']=node_feature[t].apply(lambda row: list(g.nodes[row['node_index']]['art_id']) ,axis=1)\n",
    "arts = list(node_feature[t]['arts'])\n",
    "arts = set(flatten(arts))\n",
    "dd = df[df['art_id'].isin(arts)]['citation']\n",
    "print(t, dd.sum(),dd.count(),dd.sum()/dd.count())\n",
    "\n",
    "for t in range(2008,2015):\n",
    "    if t==2015:\n",
    "        g=g_test[t]\n",
    "    else:\n",
    "        g=g_train[t]\n",
    "    node_feature[t]['arts']=node_feature[t].apply(lambda row: list(g.nodes[row['node_index']]['art_id']) ,axis=1)\n",
    "    arts = list(node_feature[t]['arts'])\n",
    "    arts = set(flatten(arts))\n",
    "    dd = df[df['art_id'].isin(arts)]['citation']\n",
    "    print(t, dd.sum(),dd.count(),dd.sum()/dd.count())\n",
    "\n",
    "t=2015\n",
    "g=g_test[t]\n",
    "node_feature[t]=test_node[2015]\n",
    "node_feature[t]['arts']=node_feature[t].apply(lambda row: list(g.nodes[row['node_index']]['art_id']) ,axis=1)\n",
    "arts = list(node_feature[t]['arts'])\n",
    "arts = set(flatten(arts))\n",
    "dd = df[df['art_id'].isin(arts)]['citation']\n",
    "print(t, dd.sum(),dd.count(),dd.sum()/dd.count())"
   ]
  },
  {
   "cell_type": "code",
   "execution_count": 250,
   "metadata": {},
   "outputs": [
    {
     "name": "stdout",
     "output_type": "stream",
     "text": [
      "../linkPrediction/dataframes/apnea\\apnea-author-node-types_2008-2015.pkl\n",
      "../linkPrediction/dataframes/apnea\\apnea-article-node-types_2008-2015.pkl\n",
      "../linkPrediction/dataframes/apnea\\apnea-keyword-node-types_2008-2015.pkl\n"
     ]
    }
   ],
   "source": [
    "\n",
    "col_types = {'node_type_aut':'author','node_type_art':'article','node_type_deg':'keyword'}\n",
    "tps ={5:'parent',25:'grandparent'}\n",
    "for key, val in col_types.items():\n",
    "    node_types={}\n",
    "    for t in range(2008,2015):\n",
    "        nf = node_feature[t]\n",
    "        gp = nf.loc[(nf[key]>4),['node_index',key]]\n",
    "        dt =pd.DataFrame()\n",
    "        dt = gp\n",
    "        dt['label']=dt.apply(lambda row: gr.node_label_find(key_list,row['node_index']),axis=1)\n",
    "        dt['type']=dt.apply(lambda row: tps[row[key]],axis=1)\n",
    "        del dt[key]\n",
    "        node_types[t]=dt\n",
    "    ut.save_data(node_types, datapath, domain[select_domain], val+\"-node-types\", time)"
   ]
  },
  {
   "cell_type": "code",
   "execution_count": null,
   "metadata": {},
   "outputs": [],
   "source": []
  },
  {
   "cell_type": "code",
   "execution_count": null,
   "metadata": {},
   "outputs": [],
   "source": []
  },
  {
   "cell_type": "code",
   "execution_count": null,
   "metadata": {},
   "outputs": [],
   "source": []
  },
  {
   "cell_type": "code",
   "execution_count": null,
   "metadata": {},
   "outputs": [],
   "source": []
  },
  {
   "cell_type": "code",
   "execution_count": null,
   "metadata": {},
   "outputs": [],
   "source": []
  },
  {
   "cell_type": "code",
   "execution_count": null,
   "metadata": {},
   "outputs": [],
   "source": []
  },
  {
   "cell_type": "code",
   "execution_count": null,
   "metadata": {},
   "outputs": [],
   "source": []
  },
  {
   "cell_type": "code",
   "execution_count": null,
   "metadata": {},
   "outputs": [],
   "source": [
    "importlib.reload(fs)\n",
    "importlib.reload(cl)\n",
    "#ration of negative:positive train instance:(eg,10 for 10:1=neg:pos)\n",
    "freq=10\n",
    "#time=[2001,2007,2015,1,1,10]\n",
    "#train_data building: dictionary of each years non-connected node pairs dataframes\n",
    "train_data, train_data_static, parent_data, test_data_static, edge_list = cl.non_edge_feature_dataframe(g_train, \n",
    "                                                                                                         g_test,\n",
    "                                                                                                         g_parent,\n",
    "                                                                                                         g_train_static, \n",
    "                                                                                                         g_test_static,  \n",
    "                                                                                                         time, \n",
    "                                                                                                         freq)\n",
    "#train_data: non-connected node pairs with feature values\n",
    "#node_features: node feature values\n",
    "node_feature, train_data = fs.dynamic_graph_feature_set(df, key_list, train_data, g_parent, g_train, g_train_static, time)"
   ]
  },
  {
   "cell_type": "code",
   "execution_count": null,
   "metadata": {},
   "outputs": [],
   "source": []
  },
  {
   "cell_type": "code",
   "execution_count": null,
   "metadata": {},
   "outputs": [],
   "source": [
    "article_set = []\n",
    "node_set = []\n",
    "y_weight = []\n",
    "closeness = []\n",
    "author_set = []\n",
    "for nd, row in g_train[2014].node(data=True):\n",
    "    node_set.append(nd)\n",
    "    for art_s in row['art_id']:\n",
    "        article_set.append(art_s)\n",
    "    for author_s in row['author']:\n",
    "        author_set.append(author_s)\n",
    "article_set = set(article_set)\n",
    "author_set = set(author_set)\n",
    "article_index = list(article_set)\n",
    "author_index = list(author_set)\n",
    "node_index = list(node_set)"
   ]
  },
  {
   "cell_type": "code",
   "execution_count": null,
   "metadata": {
    "scrolled": true
   },
   "outputs": [],
   "source": [
    "node_article_list=[]\n",
    "node_author_list=[]\n",
    "a=0\n",
    "for t in range(2008,2015,1):\n",
    "    edge_list = list(g_train[t].edges())\n",
    "    for nd, art in g_train[t].node(data='art_id'):\n",
    "        for art_s in art:\n",
    "            node_article_list.append((nd,art_s))\n",
    "    for nd, aut in g_train[t].node(data='author'): \n",
    "        for aut_s in aut:\n",
    "            node_author_list.append((nd,authors[aut_s]))\n",
    "    rows = list(train_data[t]['row_name'])\n",
    "    labels = list(train_data[t]['label'])\n",
    "    nodepairs_label = merge(rows, labels)\n",
    "\n",
    "    save(node_article_list,\"node_article_list\",t)\n",
    "    save(node_author_list,\"node_author_list\",t)\n",
    "    save(edge_list,'edge_list',t)\n",
    "    save(nodepairs_label,\"nodepairs_label_list\",t)\n",
    "\n",
    "t=2007\n",
    "edge_list = list(g_parent.edges())\n",
    "for nd, art in g_parent.node(data='art_id'):\n",
    "    for art_s in art:\n",
    "        node_article_list.append((nd,art_s))\n",
    "for nd, aut in g_parent.node(data='author'):\n",
    "    for aut_s in aut:\n",
    "        node_author_list.append((nd,authors[aut_s]))\n",
    "save(node_article_list,\"node_article_list\",t)\n",
    "save(node_author_list,\"node_author_list\",t)\n",
    "save(edge_list,'edge_list',t)\n",
    "\n",
    "t=2015\n",
    "edge_list = list(g_test[t].edges())\n",
    "for nd, art in g_test[t].node(data='art_id'):\n",
    "    for art_s in art:\n",
    "        node_article_list.append((nd,art_s))\n",
    "for nd, aut in g_test[t].node(data='author'):\n",
    "    for aut_s in aut:\n",
    "        node_author_list.append((nd,authors[aut_s]))\n",
    "save(node_article_list,\"node_article_list\",t)\n",
    "save(node_author_list,\"node_author_list\",t)\n",
    "save(edge_list,'edge_list',t)\n",
    "save(authors,'authors-id',20072015)"
   ]
  },
  {
   "cell_type": "code",
   "execution_count": 23,
   "metadata": {},
   "outputs": [],
   "source": [
    "def load(name,t):\n",
    "    filename = name + \"_\" + str(t) + \".pkl\"\n",
    "    data_path=root+'dataframes/exported lists/'+domain[select_domain]\n",
    "    filename_path = os.path.join(data_path, filename)\n",
    "    with open(filename_path, \"rb\") as f:\n",
    "        data = pickle.load(f)\n",
    "        print(filename_path)\n",
    "    return data"
   ]
  },
  {
   "cell_type": "code",
   "execution_count": 26,
   "metadata": {},
   "outputs": [
    {
     "name": "stdout",
     "output_type": "stream",
     "text": [
      "../linkPrediction/dataframes/exported lists/obesity\\authors-id_20072015.pkl\n"
     ]
    },
    {
     "data": {
      "text/plain": [
       "210023"
      ]
     },
     "execution_count": 26,
     "metadata": {},
     "output_type": "execute_result"
    }
   ],
   "source": [
    "authors = load('authors-id',20072015)\n",
    "len(authors)"
   ]
  },
  {
   "cell_type": "code",
   "execution_count": 27,
   "metadata": {},
   "outputs": [
    {
     "data": {
      "text/html": [
       "<div>\n",
       "<style scoped>\n",
       "    .dataframe tbody tr th:only-of-type {\n",
       "        vertical-align: middle;\n",
       "    }\n",
       "\n",
       "    .dataframe tbody tr th {\n",
       "        vertical-align: top;\n",
       "    }\n",
       "\n",
       "    .dataframe thead th {\n",
       "        text-align: right;\n",
       "    }\n",
       "</style>\n",
       "<table border=\"1\" class=\"dataframe\">\n",
       "  <thead>\n",
       "    <tr style=\"text-align: right;\">\n",
       "      <th></th>\n",
       "      <th>art_id</th>\n",
       "      <th>keyword</th>\n",
       "      <th>art_year</th>\n",
       "      <th>citation</th>\n",
       "      <th>title</th>\n",
       "      <th>author_name</th>\n",
       "      <th>affiliation_1</th>\n",
       "      <th>affiliation_2</th>\n",
       "      <th>country</th>\n",
       "    </tr>\n",
       "  </thead>\n",
       "  <tbody>\n",
       "    <tr>\n",
       "      <th>0</th>\n",
       "      <td>126202</td>\n",
       "      <td>[adiponectin, hypertension, hypertriglyceridem...</td>\n",
       "      <td>2007</td>\n",
       "      <td>7</td>\n",
       "      <td>Plasma adiponectin T94G gene polymorphism and ...</td>\n",
       "      <td>[jeng j-r]</td>\n",
       "      <td>[department of internal medicine  tzuchi unive...</td>\n",
       "      <td>NaN</td>\n",
       "      <td>[taiwan]</td>\n",
       "    </tr>\n",
       "    <tr>\n",
       "      <th>1</th>\n",
       "      <td>126203</td>\n",
       "      <td>[body weight, sexual abuse, women]</td>\n",
       "      <td>2007</td>\n",
       "      <td>20</td>\n",
       "      <td>Association of childhood sexual abuse with obe...</td>\n",
       "      <td>[hughes tl, aaron dj]</td>\n",
       "      <td>[institute for health research and policy univ...</td>\n",
       "      <td>[il, pa]</td>\n",
       "      <td>[united states]</td>\n",
       "    </tr>\n",
       "    <tr>\n",
       "      <th>2</th>\n",
       "      <td>126207</td>\n",
       "      <td>[ileostomy, swine, urinary diversion]</td>\n",
       "      <td>2007</td>\n",
       "      <td>3</td>\n",
       "      <td>Modified Ileal Conduit Stoma Safety of Freeing...</td>\n",
       "      <td>[abdallah mm, bissada nk]</td>\n",
       "      <td>[menoufia university little rock]</td>\n",
       "      <td>[ar]</td>\n",
       "      <td>[united states]</td>\n",
       "    </tr>\n",
       "    <tr>\n",
       "      <th>3</th>\n",
       "      <td>126208</td>\n",
       "      <td>[dexmedetomidine, sedation]</td>\n",
       "      <td>2007</td>\n",
       "      <td>43</td>\n",
       "      <td>Dexmedetomidine as sole sedative for awake int...</td>\n",
       "      <td>[hoban j, doyle dj, abdelmalak b, makary l]</td>\n",
       "      <td>[cleveland clinic  cleveland, department of ge...</td>\n",
       "      <td>[oh]</td>\n",
       "      <td>[united states]</td>\n",
       "    </tr>\n",
       "    <tr>\n",
       "      <th>4</th>\n",
       "      <td>126209</td>\n",
       "      <td>[inflammation, leptin, obesity, sex difference]</td>\n",
       "      <td>2007</td>\n",
       "      <td>31</td>\n",
       "      <td>Sex differences in the association between lep...</td>\n",
       "      <td>[abdullah sm, khera a, leonard d, das sr, canh...</td>\n",
       "      <td>[department of internal medicine  the universi...</td>\n",
       "      <td>[tx]</td>\n",
       "      <td>[united states]</td>\n",
       "    </tr>\n",
       "    <tr>\n",
       "      <th>...</th>\n",
       "      <td>...</td>\n",
       "      <td>...</td>\n",
       "      <td>...</td>\n",
       "      <td>...</td>\n",
       "      <td>...</td>\n",
       "      <td>...</td>\n",
       "      <td>...</td>\n",
       "      <td>...</td>\n",
       "      <td>...</td>\n",
       "    </tr>\n",
       "    <tr>\n",
       "      <th>64705</th>\n",
       "      <td>33455</td>\n",
       "      <td>[dyspnea, elderly]</td>\n",
       "      <td>2013</td>\n",
       "      <td>0</td>\n",
       "      <td>Clinical profile of acute myocardial infarctio...</td>\n",
       "      <td>[Naik RH, Bhatia LC]</td>\n",
       "      <td>[Department of Medicine  Government Medical Co...</td>\n",
       "      <td>[Gujarat, Haryana]</td>\n",
       "      <td>[India]</td>\n",
       "    </tr>\n",
       "    <tr>\n",
       "      <th>64706</th>\n",
       "      <td>33457</td>\n",
       "      <td>[asian indian, nonalcoholic fatty liver disease]</td>\n",
       "      <td>2013</td>\n",
       "      <td>8</td>\n",
       "      <td>Association of peroxisome proliferator activat...</td>\n",
       "      <td>[Luthra K, Bhatt SP, Pandey RM, Guleria R, Pas...</td>\n",
       "      <td>[ Institute of Genomics and Integrative Biolog...</td>\n",
       "      <td>[Delhi, New Delhi]</td>\n",
       "      <td>[India]</td>\n",
       "    </tr>\n",
       "    <tr>\n",
       "      <th>64707</th>\n",
       "      <td>33459</td>\n",
       "      <td>[fat accumulation, glucose uptake, kaempferol,...</td>\n",
       "      <td>2013</td>\n",
       "      <td>0</td>\n",
       "      <td>Bioactive components from flowers of Sambucus ...</td>\n",
       "      <td>[Olsen LCB, Frgeman NJ, Kristiansen K, Christe...</td>\n",
       "      <td>[department of Biochemistry and Molecular Biol...</td>\n",
       "      <td>[Aarslev, Copenhagen, Odense M, Tjele]</td>\n",
       "      <td>[Denmark]</td>\n",
       "    </tr>\n",
       "    <tr>\n",
       "      <th>64708</th>\n",
       "      <td>33461</td>\n",
       "      <td>[anthropometric indicator, cardiometabolic ris...</td>\n",
       "      <td>2013</td>\n",
       "      <td>0</td>\n",
       "      <td>Anthropometric indicators of obesity for ident...</td>\n",
       "      <td>[Bhowmik B, Hussain A, Diep LM, Habib SH, Sidd...</td>\n",
       "      <td>[   Diabetic Association of Bangladesh,   Oslo...</td>\n",
       "      <td>[, Dhaka, Oslo]</td>\n",
       "      <td>[Bangladesh, Norway]</td>\n",
       "    </tr>\n",
       "    <tr>\n",
       "      <th>64709</th>\n",
       "      <td>33462</td>\n",
       "      <td>[autism, dietary intake, turkey]</td>\n",
       "      <td>2013</td>\n",
       "      <td>0</td>\n",
       "      <td>Body mass index dietary intake and feeding pro...</td>\n",
       "      <td>[Alsaffar AA, Bicer AH]</td>\n",
       "      <td>[Nutrition and Dietetics Department  Yeditepe ...</td>\n",
       "      <td>[Istanbul]</td>\n",
       "      <td>[Turkey]</td>\n",
       "    </tr>\n",
       "  </tbody>\n",
       "</table>\n",
       "<p>64710 rows × 9 columns</p>\n",
       "</div>"
      ],
      "text/plain": [
       "       art_id                                            keyword  art_year  \\\n",
       "0      126202  [adiponectin, hypertension, hypertriglyceridem...      2007   \n",
       "1      126203                 [body weight, sexual abuse, women]      2007   \n",
       "2      126207              [ileostomy, swine, urinary diversion]      2007   \n",
       "3      126208                        [dexmedetomidine, sedation]      2007   \n",
       "4      126209    [inflammation, leptin, obesity, sex difference]      2007   \n",
       "...       ...                                                ...       ...   \n",
       "64705   33455                                 [dyspnea, elderly]      2013   \n",
       "64706   33457   [asian indian, nonalcoholic fatty liver disease]      2013   \n",
       "64707   33459  [fat accumulation, glucose uptake, kaempferol,...      2013   \n",
       "64708   33461  [anthropometric indicator, cardiometabolic ris...      2013   \n",
       "64709   33462                   [autism, dietary intake, turkey]      2013   \n",
       "\n",
       "       citation                                              title  \\\n",
       "0             7  Plasma adiponectin T94G gene polymorphism and ...   \n",
       "1            20  Association of childhood sexual abuse with obe...   \n",
       "2             3  Modified Ileal Conduit Stoma Safety of Freeing...   \n",
       "3            43  Dexmedetomidine as sole sedative for awake int...   \n",
       "4            31  Sex differences in the association between lep...   \n",
       "...         ...                                                ...   \n",
       "64705         0  Clinical profile of acute myocardial infarctio...   \n",
       "64706         8  Association of peroxisome proliferator activat...   \n",
       "64707         0  Bioactive components from flowers of Sambucus ...   \n",
       "64708         0  Anthropometric indicators of obesity for ident...   \n",
       "64709         0  Body mass index dietary intake and feeding pro...   \n",
       "\n",
       "                                             author_name  \\\n",
       "0                                             [jeng j-r]   \n",
       "1                                  [hughes tl, aaron dj]   \n",
       "2                              [abdallah mm, bissada nk]   \n",
       "3            [hoban j, doyle dj, abdelmalak b, makary l]   \n",
       "4      [abdullah sm, khera a, leonard d, das sr, canh...   \n",
       "...                                                  ...   \n",
       "64705                               [Naik RH, Bhatia LC]   \n",
       "64706  [Luthra K, Bhatt SP, Pandey RM, Guleria R, Pas...   \n",
       "64707  [Olsen LCB, Frgeman NJ, Kristiansen K, Christe...   \n",
       "64708  [Bhowmik B, Hussain A, Diep LM, Habib SH, Sidd...   \n",
       "64709                            [Alsaffar AA, Bicer AH]   \n",
       "\n",
       "                                           affiliation_1  \\\n",
       "0      [department of internal medicine  tzuchi unive...   \n",
       "1      [institute for health research and policy univ...   \n",
       "2                      [menoufia university little rock]   \n",
       "3      [cleveland clinic  cleveland, department of ge...   \n",
       "4      [department of internal medicine  the universi...   \n",
       "...                                                  ...   \n",
       "64705  [Department of Medicine  Government Medical Co...   \n",
       "64706  [ Institute of Genomics and Integrative Biolog...   \n",
       "64707  [department of Biochemistry and Molecular Biol...   \n",
       "64708  [   Diabetic Association of Bangladesh,   Oslo...   \n",
       "64709  [Nutrition and Dietetics Department  Yeditepe ...   \n",
       "\n",
       "                                affiliation_2               country  \n",
       "0                                         NaN              [taiwan]  \n",
       "1                                    [il, pa]       [united states]  \n",
       "2                                        [ar]       [united states]  \n",
       "3                                        [oh]       [united states]  \n",
       "4                                        [tx]       [united states]  \n",
       "...                                       ...                   ...  \n",
       "64705                      [Gujarat, Haryana]               [India]  \n",
       "64706                      [Delhi, New Delhi]               [India]  \n",
       "64707  [Aarslev, Copenhagen, Odense M, Tjele]             [Denmark]  \n",
       "64708                         [, Dhaka, Oslo]  [Bangladesh, Norway]  \n",
       "64709                              [Istanbul]              [Turkey]  \n",
       "\n",
       "[64710 rows x 9 columns]"
      ]
     },
     "execution_count": 27,
     "metadata": {},
     "output_type": "execute_result"
    }
   ],
   "source": [
    "df"
   ]
  },
  {
   "cell_type": "code",
   "execution_count": null,
   "metadata": {},
   "outputs": [],
   "source": [
    "def merge(list1, list2): \n",
    "      \n",
    "    merged_list = [(list1[i], list2[i]) for i in range(0, len(list1))] \n",
    "    return merged_list \n",
    "\n",
    "def save(data,name,t):\n",
    "    filename = name + \"_\" + str(t) + \".pkl\"\n",
    "    data_path=root+'dataframes/exported lists/'+domain[select_domain]\n",
    "    filename_path = os.path.join(data_path, filename)\n",
    "    with open(filename_path, \"wb\") as f:\n",
    "        pickle.dump(data, f)\n",
    "        print(filename_path)\n",
    "\n",
    "def load(name,t):\n",
    "    filename = name + \"_\" + str(t) + \".pkl\"\n",
    "    data_path=root+'dataframes/exported lists/'+domain[select_domain]\n",
    "    filename_path = os.path.join(data_path, filename)\n",
    "    with open(filename_path, \"rb\") as f:\n",
    "        data = pickle.load(f)\n",
    "        print(filename_path)\n",
    "    return data\n",
    "\n",
    "\n",
    "a=0\n",
    "authors = {}\n",
    "for nd, aut in g_train_static.node(data='author'):\n",
    "    for aut_s in aut:\n",
    "        if aut_s not in authors.keys():\n",
    "            authors[aut_s]='a-'+str(a)\n",
    "            a=a+1  \n",
    "t=2007\n",
    "for nd, aut in g_parent.node(data='author'):\n",
    "    for aut_s in aut:\n",
    "        if aut_s not in authors.keys():\n",
    "            authors[aut_s]='a-'+str(a)\n",
    "            a=a+1 \n",
    "            \n",
    "t=2015\n",
    "for nd, aut in g_test[t].node(data='author'):\n",
    "    for aut_s in aut:\n",
    "        if aut_s not in authors.keys():\n",
    "            authors[aut_s]='a-'+str(a)\n",
    "            a=a+1"
   ]
  },
  {
   "cell_type": "markdown",
   "metadata": {},
   "source": [
    "#### Node level and edge level feature generation "
   ]
  },
  {
   "cell_type": "code",
   "execution_count": 20,
   "metadata": {},
   "outputs": [
    {
     "name": "stdout",
     "output_type": "stream",
     "text": [
      "pos\n",
      "test_size: 13055\n",
      "neg\n",
      "test_size: 8074547\n",
      "pos in time series: 12743 neg in time series: 118263 pos-neg ratio: 0.10775136771433162 total: 131006\n"
     ]
    }
   ],
   "source": [
    "importlib.reload(fs)\n",
    "importlib.reload(cl)\n",
    "#ration of negative:positive train instance:(eg,10 for 10:1=neg:pos)\n",
    "freq=10\n",
    "##### time=[2001,2007,2015,1,1,10]\n",
    "##### train_data building: dictionary of each years non-connected node pairs dataframes\n",
    "train_data, train_data_static, parent_data, test_data_static, edge_list = cl.non_edge_feature_dataframe(g_train, \n",
    "                                                                                                         g_test,\n",
    "                                                                                                         g_parent,\n",
    "                                                                                                         g_train_static, \n",
    "                                                                                                         g_test_static,  \n",
    "                                                                                                         time, \n",
    "                                                                                                         freq)\n",
    "#### train_data: non-connected node pairs with feature values\n",
    "####node_features: node feature values\n",
    "node_feature, train_data = fs.dynamic_graph_feature_set(df, key_list, train_data, g_parent, g_train, g_train_static, time)"
   ]
  },
  {
   "cell_type": "code",
   "execution_count": null,
   "metadata": {},
   "outputs": [],
   "source": []
  },
  {
   "cell_type": "markdown",
   "metadata": {},
   "source": [
    "#### Save train_data and node_feature into filepath\n",
    "filepath: path to save result files, data files and resultent figures"
   ]
  },
  {
   "cell_type": "code",
   "execution_count": 21,
   "metadata": {},
   "outputs": [
    {
     "name": "stdout",
     "output_type": "stream",
     "text": [
      "../linkPrediction/dataframes/obesity\\obesity-train_data_2008-2015.pkl\n",
      "../linkPrediction/dataframes/obesity\\obesity-node_feature_2008-2015.pkl\n",
      "../linkPrediction/dataframes/obesity\\obesity-edge_list_2008-2015.pkl\n"
     ]
    }
   ],
   "source": [
    "importlib.reload(ut)\n",
    "ut.save_data(train_data, datapath, domain[select_domain], \"train_data\", time)\n",
    "ut.save_data(node_feature, datapath, domain[select_domain], \"node_feature\", time)\n",
    "ut.save_data(edge_list, datapath, domain[select_domain], \"edge_list\", time)"
   ]
  },
  {
   "cell_type": "markdown",
   "metadata": {},
   "source": [
    "#### Test data generation"
   ]
  },
  {
   "cell_type": "code",
   "execution_count": 22,
   "metadata": {},
   "outputs": [
    {
     "name": "stdout",
     "output_type": "stream",
     "text": [
      "../linkPrediction/dataframes/obesity\n"
     ]
    }
   ],
   "source": [
    "importlib.reload(fs)\n",
    "importlib.reload(cl)\n",
    "\n",
    "edge_list = ut.load_data(datapath, domain[select_domain], \"edge_list\", time)\n",
    "edge_set = set(edge_list)\n",
    "edges = list(g_test[2015].edges())\n",
    "non_edges =  list(nx.non_edges(g_test[2015]))\n",
    "r_edges = [(b, a) for a, b in edges]\n",
    "r_non_edges = [(b, a) for a, b in non_edges]\n",
    "test_edges = []\n",
    "label = []\n",
    "train_ed=[]\n",
    "ins = set(edges).intersection(edge_set)\n",
    "train_ed.extend(ins)\n",
    "label.extend([1]*len(ins))\n",
    "ins = set(r_edges).intersection(edge_set)\n",
    "train_ed.extend(ins)\n",
    "label.extend([1]*len(ins))\n",
    "ins = set(non_edges).intersection(edge_set)\n",
    "train_ed.extend(ins)\n",
    "label.extend([0]*len(ins))\n",
    "ins = set(r_non_edges).intersection(edge_set)\n",
    "train_ed.extend(ins)\n",
    "label.extend([0]*len(ins))\n",
    "train_data={}\n",
    "train_data[2015] = pd.DataFrame({'row_name': train_ed, 'label': label})\n",
    "\n",
    "g_train[2015]=g_test[2015]\n",
    "time=[2014,2015,2016,1,1,20]\n",
    "test_node, test_data = fs.dynamic_graph_feature_set(df, key_list, train_data, g_train[2014], g_train, g_train_static, time)"
   ]
  },
  {
   "cell_type": "code",
   "execution_count": null,
   "metadata": {},
   "outputs": [],
   "source": []
  },
  {
   "cell_type": "markdown",
   "metadata": {},
   "source": [
    "#### Save test_data and test_node into filepath\n",
    "filepath: path to save result files, data files and resultent figures"
   ]
  },
  {
   "cell_type": "code",
   "execution_count": 23,
   "metadata": {},
   "outputs": [
    {
     "name": "stdout",
     "output_type": "stream",
     "text": [
      "../linkPrediction/dataframes/obesity\\obesity-test_data_2008-2015.pkl\n",
      "../linkPrediction/dataframes/obesity\\obesity-test_node_2008-2015.pkl\n"
     ]
    }
   ],
   "source": [
    "importlib.reload(ut)\n",
    "time=[2007,2008,2015,1,1,20]\n",
    "ut.save_data(test_data, datapath, domain[select_domain], \"test_data\", time)\n",
    "ut.save_data(test_node, datapath, domain[select_domain], \"test_node\", time)"
   ]
  },
  {
   "cell_type": "markdown",
   "metadata": {},
   "source": [
    "#### Print positive-negative training instance stats and other information"
   ]
  },
  {
   "cell_type": "code",
   "execution_count": null,
   "metadata": {},
   "outputs": [],
   "source": [
    "#positive instance no\n",
    "print(len(train_data_static[(train_data_static['label']==1)]))\n",
    "#negative instance no\n",
    "print(len(train_data_static[(train_data_static['label']==0)]))\n",
    "#no of total nodes\n",
    "print(len(g_train_static.nodes()))\n",
    "#no of total train graph edges\n",
    "print(len(g_train_static.edges()))\n",
    "#no of total test graph edges\n",
    "print(len(g_test_static.edges()))"
   ]
  },
  {
   "cell_type": "markdown",
   "metadata": {},
   "source": [
    "#### Extract node_feature and train_data from saved files"
   ]
  },
  {
   "cell_type": "code",
   "execution_count": 32,
   "metadata": {},
   "outputs": [
    {
     "name": "stdout",
     "output_type": "stream",
     "text": [
      "../linkPrediction/dataframes/apnea\n",
      "../linkPrediction/dataframes/apnea\n",
      "../linkPrediction/dataframes/apnea\n",
      "train data length: 7\n",
      "node feature length: 7\n",
      "edge list length: 12494\n"
     ]
    }
   ],
   "source": [
    "importlib.reload(ut)\n",
    "time=[2007,2008,2015,1,1,20]\n",
    "train_data = ut.load_data(datapath, domain[select_domain], \"train_data\", time)\n",
    "node_feature = ut.load_data(datapath, domain[select_domain], \"node_feature\", time)\n",
    "edge_list = ut.load_data(datapath, domain[select_domain], \"edge_list\", time)\n",
    "print('train data length:',len(train_data))\n",
    "print('node feature length:',len(node_feature))\n",
    "print('edge list length:',len(edge_list))"
   ]
  },
  {
   "cell_type": "markdown",
   "metadata": {},
   "source": [
    "#### Print sample data"
   ]
  },
  {
   "cell_type": "code",
   "execution_count": null,
   "metadata": {},
   "outputs": [],
   "source": [
    "train_data[2015]"
   ]
  },
  {
   "cell_type": "markdown",
   "metadata": {},
   "source": [
    "### Model training\n",
    "1. Defining list of features\n",
    "2. Data reshaping to feed into *LSTM* network\n",
    "3. Test-train split\n",
    "4. Normalized and reshaped data $(X,y)$ saving\n",
    "5. Model training: forecasting and link classification\n",
    "6. Saving model file\n",
    "7. Evaluating model on test dataset\n",
    "8. Result saving"
   ]
  },
  {
   "cell_type": "code",
   "execution_count": null,
   "metadata": {
    "scrolled": true
   },
   "outputs": [],
   "source": [
    "#model training-------feature list creation->data reshape->test-train split->training->model save->evaluating->result save\n",
    "importlib.reload(fs)\n",
    "importlib.reload(cl)\n",
    "#training start year\n",
    "ts = time[1]\n",
    "#####training end year+1/ test year\n",
    "te = time[2]\n",
    "\n",
    "row = train_data[ts].columns.values.tolist()\n",
    "######feature column names\n",
    "feature_names = row[2:len(row)]\n",
    "#####all possible combinations of features: will be used in case of multiple feature combination\n",
    "all_combinations = itertools.chain(*[itertools.combinations(feature_names, i + 1)\n",
    "                                     for i, _ in enumerate(feature_names)])\n",
    "feature_list = list(all_combinations)\n",
    "#######single feature based model building for each feature in the set of selective_features [our experiment]\n",
    "#selective_features =  set(['typeaut','typeart','typenode','y_weight1','res_aloc','cm','close','pref','citation'])\n",
    "selective_features =  set(['pref','citation'])\n",
    "#domain_info(eg. obesity-2008-2015)\n",
    "domain_info =  domain[select_domain]+\"-\"+str(ts)+\"-\"+str(te)+\"-\"\n",
    "models  = []\n",
    "results = []\n",
    "#number of epochs and batch size in each epoch\n",
    "con = [20,64]\n",
    "batch_size = con[1]\n",
    "for feature in feature_list:\n",
    "    #drop feature columns for features which are not in the feature combination\n",
    "    columns_drop = list(set(feature_names).difference(set(feature)))\n",
    "    #only using single features from the set of selectiv_features. so feature length=1\n",
    "    if len(feature)==1 and feature[0] in selective_features:\n",
    "        #model name (eg. obesity-2008-2015-citation)\n",
    "        model_name = '+'.join(feature)\n",
    "        model_name = domain_info+model_name\n",
    "        #copy train data with droping unnecessary feature columns\n",
    "        pruned_data = copy.deepcopy(train_data)\n",
    "        pruned_data = fs.drop_feature_columns(pruned_data, columns_drop, time)\n",
    "        #data reshape for classification model (data_len_dm=[input sample length, input dimension, output dimension])\n",
    "        X,y, data_len_dm = cl.reshape_feature_data_for_classification(pruned_data, edge_list, time)\n",
    "        #training and testing\n",
    "        X_train, X_test, y_train, y_test = train_test_split(X, y, test_size = 0.3, random_state = 0)\n",
    "        model = cl.classification_model(X_train, X_test, y_train, y_test, data_len_dm, con, model_name)\n",
    "        #append result [feature name, loss, acc,auc,fpr,tpr,precision,recall] into result list\n",
    "        results.append(cl.model_evaluate(model, X_test, y_test, batch_size, model_name))\n",
    "        #model save in path to save classification models\n",
    "        model_file_path = os.path.join(modelpath, model_name + \".h5\")\n",
    "        model.save(model_file_path)\n",
    "        models.append(model_name)\n",
    "        print(model_file_path)\n",
    "        #Reshaped X data save\n",
    "        data_file_path = os.path.join(datapath,model_name+\"-X\"+\".pkl\")\n",
    "        with open(data_file_path,\"wb\") as f:\n",
    "            pickle.dump(X,f)\n",
    "        print(data_file_path)\n",
    "        #y data save\n",
    "        data_file_path = os.path.join(datapath,model_name+\"-y\"+\".pkl\")\n",
    "        with open(data_file_path,\"wb\") as f:\n",
    "            pickle.dump(y,f)\n",
    "        print(data_file_path)\n",
    "#save result\n",
    "ut.save_data(results, datapath, domain[select_domain], \"results\", time)"
   ]
  },
  {
   "cell_type": "markdown",
   "metadata": {},
   "source": [
    "#### Printing AUC values from result dictionary"
   ]
  },
  {
   "cell_type": "code",
   "execution_count": null,
   "metadata": {},
   "outputs": [],
   "source": [
    "for row in results:\n",
    "    print(row['model name'], row['auc'])"
   ]
  },
  {
   "cell_type": "markdown",
   "metadata": {},
   "source": [
    "### Model training from loaded $(X,y)$ data\n",
    "1. Defining list of features\n",
    "2. Loading $(X,y)$ data from disk\n",
    "3. Test-train split\n",
    "5. Model training: forecasting and link classification\n",
    "6. Saving model file\n",
    "7. Evaluating model on test dataset\n",
    "8. Result saving"
   ]
  },
  {
   "cell_type": "code",
   "execution_count": null,
   "metadata": {
    "scrolled": true
   },
   "outputs": [],
   "source": [
    "######training from loaded data [same as upper one but, X and y data are loaded from file here]\n",
    "importlib.reload(fs)\n",
    "importlib.reload(cl)\n",
    "importlib.reload(ut)\n",
    "\n",
    "ts = time[1]\n",
    "te = time[2]\n",
    "models  = []\n",
    "results = []\n",
    "con = [20,64]\n",
    "batch_size = con[1]\n",
    "#selective_features =  set(['typeaut','typeart','typenode','y_weight1','res_aloc','cm','close','pref'])\n",
    "selective_features =  set(['y_weight1','pref','citation','typeaut','y_weight1','cm','res_aloc','close'])\n",
    "domain_info =  domain[select_domain]+\"-\"+str(ts)+\"-\"+str(te)+\"-\"\n",
    "for feature in selective_features:\n",
    "    model_name = domain_info+feature\n",
    "    X_file_path = os.path.join(datapath,model_name+\"-X\"+\".pkl\")\n",
    "    with open(X_file_path,\"rb\") as f:\n",
    "        X = pickle.load(f)\n",
    "    y_file_path = os.path.join(datapath,model_name+\"-y\"+\".pkl\")\n",
    "    with open(y_file_path,\"rb\") as f:\n",
    "        y = pickle.load(f)\n",
    "    #data shape\n",
    "    input_length = X.shape[1]\n",
    "    input_dim = X.shape[2]\n",
    "    if len(y.shape) == 1:\n",
    "        output_dim = 1\n",
    "    else:\n",
    "        output_dim = len(y[0])\n",
    "    data_len_dm = [input_length, input_dim, output_dim]\n",
    "    ####training and testing\n",
    "    X_train, X_test, y_train, y_test = train_test_split(X, y, test_size = 0.3, random_state = 4)\n",
    "    model = cl.classification_model(X_train, X_test, y_train, y_test, data_len_dm, con, model_name)\n",
    "    results.append(cl.model_evaluate(model, X_test, y_test, batch_size, model_name))\n",
    "    ####model save\n",
    "    model_file_path = os.path.join(modelpath, model_name + \".h5\")\n",
    "    model.save(model_file_path)\n",
    "    models.append(model_name)\n",
    "    print(model_file_path)\n",
    "#save result\n",
    "ut.save_data(results, datapath, domain[select_domain], \"results\", time)"
   ]
  },
  {
   "cell_type": "markdown",
   "metadata": {},
   "source": [
    "#### Load result dictionary for both $D_{sas}$ and $D_{obs}$ dataset"
   ]
  },
  {
   "cell_type": "code",
   "execution_count": 7,
   "metadata": {},
   "outputs": [
    {
     "name": "stdout",
     "output_type": "stream",
     "text": [
      "../linkPrediction/dataframes/apnea\n",
      "../linkPrediction/dataframes/obesity\n"
     ]
    }
   ],
   "source": [
    "#############load results\n",
    "importlib.reload(ut)\n",
    "####apnea result\n",
    "resultpath=root+'dataframes/'+domain[0]\n",
    "results_apnea = ut.load_data(resultpath, domain[0], \"results\", time)\n",
    "####obesity result\n",
    "resultpath=root+'dataframes/'+domain[1]\n",
    "results_obesity = ut.load_data(resultpath, domain[1], \"results\", time)"
   ]
  },
  {
   "cell_type": "markdown",
   "metadata": {},
   "source": [
    "#### Sample result printing"
   ]
  },
  {
   "cell_type": "code",
   "execution_count": null,
   "metadata": {},
   "outputs": [],
   "source": [
    "print(results_apnea[0]['model name'],results_apnea[0]['auc'],results_apnea[1]['auc'])\n",
    "print(results_obesity[0]['model name'],results_obesity[0]['auc'],results_obesity[1]['auc'])"
   ]
  },
  {
   "cell_type": "markdown",
   "metadata": {},
   "source": [
    "#### Generate and save figure comparing *AUC* values for all features and both datasets "
   ]
  },
  {
   "cell_type": "code",
   "execution_count": 9,
   "metadata": {},
   "outputs": [
    {
     "ename": "IndexError",
     "evalue": "list index out of range",
     "output_type": "error",
     "traceback": [
      "\u001b[1;31m---------------------------------------------------------------------------\u001b[0m",
      "\u001b[1;31mIndexError\u001b[0m                                Traceback (most recent call last)",
      "\u001b[1;32m<ipython-input-9-b13d24385462>\u001b[0m in \u001b[0;36m<module>\u001b[1;34m\u001b[0m\n\u001b[0;32m     12\u001b[0m \u001b[0mresult_lat\u001b[0m \u001b[1;33m=\u001b[0m \u001b[1;33m{\u001b[0m\u001b[1;34m'apnea'\u001b[0m\u001b[1;33m:\u001b[0m\u001b[1;33m{\u001b[0m\u001b[1;33m}\u001b[0m\u001b[1;33m,\u001b[0m\u001b[1;34m'obesity'\u001b[0m\u001b[1;33m:\u001b[0m\u001b[1;33m{\u001b[0m\u001b[1;33m}\u001b[0m\u001b[1;33m}\u001b[0m\u001b[1;33m\u001b[0m\u001b[1;33m\u001b[0m\u001b[0m\n\u001b[0;32m     13\u001b[0m \u001b[1;32mfor\u001b[0m \u001b[0mi\u001b[0m \u001b[1;32min\u001b[0m \u001b[0mrange\u001b[0m\u001b[1;33m(\u001b[0m\u001b[0mlen\u001b[0m\u001b[1;33m(\u001b[0m\u001b[0mresults_apnea\u001b[0m\u001b[1;33m)\u001b[0m\u001b[1;33m)\u001b[0m\u001b[1;33m:\u001b[0m\u001b[1;33m\u001b[0m\u001b[1;33m\u001b[0m\u001b[0m\n\u001b[1;32m---> 14\u001b[1;33m     \u001b[0mname\u001b[0m \u001b[1;33m=\u001b[0m \u001b[0mresults_apnea\u001b[0m\u001b[1;33m[\u001b[0m\u001b[0mi\u001b[0m\u001b[1;33m]\u001b[0m\u001b[1;33m[\u001b[0m\u001b[1;34m'model name'\u001b[0m\u001b[1;33m]\u001b[0m\u001b[1;33m.\u001b[0m\u001b[0msplit\u001b[0m\u001b[1;33m(\u001b[0m\u001b[1;34m'-'\u001b[0m\u001b[1;33m)\u001b[0m\u001b[1;33m[\u001b[0m\u001b[1;36m3\u001b[0m\u001b[1;33m]\u001b[0m\u001b[1;33m\u001b[0m\u001b[1;33m\u001b[0m\u001b[0m\n\u001b[0m\u001b[0;32m     15\u001b[0m     \u001b[0mresult_lat\u001b[0m\u001b[1;33m[\u001b[0m\u001b[1;34m'apnea'\u001b[0m\u001b[1;33m]\u001b[0m\u001b[1;33m[\u001b[0m\u001b[0mnames\u001b[0m\u001b[1;33m[\u001b[0m\u001b[0mname\u001b[0m\u001b[1;33m]\u001b[0m\u001b[1;33m]\u001b[0m\u001b[1;33m=\u001b[0m\u001b[0mresults_apnea\u001b[0m\u001b[1;33m[\u001b[0m\u001b[0mi\u001b[0m\u001b[1;33m]\u001b[0m\u001b[1;33m[\u001b[0m\u001b[1;34m'auc'\u001b[0m\u001b[1;33m]\u001b[0m\u001b[1;33m\u001b[0m\u001b[1;33m\u001b[0m\u001b[0m\n\u001b[0;32m     16\u001b[0m     \u001b[0mresult_lat\u001b[0m\u001b[1;33m[\u001b[0m\u001b[1;34m'obesity'\u001b[0m\u001b[1;33m]\u001b[0m\u001b[1;33m[\u001b[0m\u001b[0mnames\u001b[0m\u001b[1;33m[\u001b[0m\u001b[0mname\u001b[0m\u001b[1;33m]\u001b[0m\u001b[1;33m]\u001b[0m\u001b[1;33m=\u001b[0m\u001b[0mresults_obesity\u001b[0m\u001b[1;33m[\u001b[0m\u001b[0mi\u001b[0m\u001b[1;33m]\u001b[0m\u001b[1;33m[\u001b[0m\u001b[1;34m'auc'\u001b[0m\u001b[1;33m]\u001b[0m\u001b[1;33m\u001b[0m\u001b[1;33m\u001b[0m\u001b[0m\n",
      "\u001b[1;31mIndexError\u001b[0m: list index out of range"
     ]
    },
    {
     "data": {
      "image/png": "[encoded data removed]",
      "text/plain": [
       "<Figure size 720x432 with 1 Axes>"
      ]
     },
     "metadata": {
      "needs_background": "light"
     },
     "output_type": "display_data"
    }
   ],
   "source": [
    "#######print and save auc figure\n",
    "names = {'typeaut':'T-Aut','typeart':'T-Art','typenode':'T-Key','y_weight1':'T-Key-y',\n",
    "         'res_aloc':'RA','cm':'CM','close':'CC','pref':'PA','citation':'Cite'}\n",
    "colors = ['g','r','c','m','y','k','C0','C1', 'C2', 'C3', 'C4', 'C5', 'C6', 'C7', 'C8', 'C9']\n",
    "xtick=[]\n",
    "fig, ax = plt.subplots(figsize=(10,6)) \n",
    "#fig = plt.figure(figsize=(10,6))\n",
    "ax.set_axisbelow(True)\n",
    "ax.grid(axis='y', linestyle='--')\n",
    "plt.ylim(.3, 1)\n",
    "bar_width = 0.35\n",
    "result_lat = {'apnea':{},'obesity':{}}\n",
    "for i in range(len(results_apnea)):\n",
    "    name = results_apnea[i]['model name'].split('-')[3]\n",
    "    result_lat['apnea'][names[name]]=results_apnea[i]['auc']\n",
    "    result_lat['obesity'][names[name]]=results_obesity[i]['auc']\n",
    "    ax.bar(i,results_obesity[i]['auc'] ,bar_width,align='center',alpha=0.8,color = colors[i])\n",
    "    ax.text(i, .5,r'$D_{obs}$', color='k',horizontalalignment='center',rotation=90)\n",
    "    ax.bar(i+bar_width+.06,results_apnea[i]['auc'] ,bar_width,align='center', alpha=0.4,color = colors[i])\n",
    "    ax.text(i+bar_width+.06, .5, r'$D_{sas}$', color='k',horizontalalignment='center',rotation=90)\n",
    "    xtick.append(names[name])\n",
    "x_pos = np.arange(len(xtick))\n",
    "plt.xticks(x_pos+.2, xtick, rotation=0)\n",
    "plt.xlabel('Feature name', fontsize=12)\n",
    "plt.ylabel('AUC', fontsize=12)\n",
    "###save\n",
    "figpath=root+'dataframes/'\n",
    "fig_file_name = os.path.join(figpath,'auc'+ \".png\")\n",
    "plt.savefig(fig_file_name)\n",
    "###show\n",
    "plt.show()"
   ]
  },
  {
   "cell_type": "markdown",
   "metadata": {},
   "source": [
    "#### Generate and save *PR* & *ROC* curves for both datasets and all features"
   ]
  },
  {
   "cell_type": "code",
   "execution_count": 12,
   "metadata": {},
   "outputs": [
    {
     "data": {
      "image/png": "[encoded data removed]",
      "text/plain": [
       "<Figure size 1080x720 with 4 Axes>"
      ]
     },
     "metadata": {},
     "output_type": "display_data"
    }
   ],
   "source": [
    "import seaborn as sns; sns.set(color_codes=True)\n",
    "names = {'author':'Heredity (author)','article':'Heredity (article)','degree':'Heredity (degree)','y_weight1':'T-Key-y',\n",
    "         'res_aloc':'RA','cm':'Common neighbour','close':'CC','pref':'Preferential attachment',\n",
    "         'citation':'Citation weighted recency'}\n",
    "plt.figure(figsize=(15,10))\n",
    "plt.subplot(2,2,1)\n",
    "for i,row in enumerate(results_apnea):\n",
    "#     if i==1 or i==2 or i==5 or i==7:\n",
    "    name = row['model name']\n",
    "    if i==4:\n",
    "        plt.plot(row['recall'],row['precision'],'--', linewidth=1,label = names[name])\n",
    "    elif i==3 or i==0 or i==2:\n",
    "        plt.plot(row['recall'],row['precision'],'-', linewidth=1,label = names[name])\n",
    "# plt.legend(loc='best',fancybox=True)\n",
    "plt.title(\"(a) PR curve $(G_{s})$\", position=(0.4, 0.9),fontsize=15)\n",
    "# plt.xlabel('Recall', fontsize=12)\n",
    "plt.ylabel('Precision', fontsize=15)\n",
    "plt.tight_layout()\n",
    "plt.subplot(2,2,2)\n",
    "for i,row in enumerate(results_apnea):\n",
    "#     if i==1 or i==2 or i==5 or i==7:\n",
    "    name = row['model name']\n",
    "    if i==4:\n",
    "        plt.plot(row['false positive'],row['true positive'],'--',linewidth=1,label = names[name])\n",
    "    elif i==0 or i==3 or i==2:\n",
    "        plt.plot(row['false positive'],row['true positive'],'-',linewidth=1,label = names[name])\n",
    "plt.legend(loc='lower right')\n",
    "plt.title(\"(b) ROC curve $(G_{s})$\", position=(0.4, 0.9),fontsize=15)\n",
    "# plt.xlabel('False Positive Rate', fontsize=12)\n",
    "plt.ylabel('True Positive Rate', fontsize=15)\n",
    "plt.tight_layout()\n",
    "\n",
    "plt.subplot(2,2,3)\n",
    "for i,row in enumerate(results_obesity):\n",
    "#     if i==1 or i==2 or i==5 or i==7:\n",
    "    name = row['model name']\n",
    "    if i==4:\n",
    "        plt.plot(row['recall'],row['precision'],'--',linewidth=1,label = names[name])\n",
    "    elif i==3 or i==0 or i==2:\n",
    "        plt.plot(row['recall'],row['precision'],'-',linewidth=1,label = names[name])\n",
    "# plt.legend(loc='best')\n",
    "plt.title(\"(c) PR curve $(G_{o})$\", position=(0.4, 0.9),fontsize=15)\n",
    "plt.xlabel('Recall', fontsize=15)\n",
    "plt.ylabel('Precision', fontsize=15)\n",
    "plt.tight_layout()\n",
    "plt.subplot(2,2,4)\n",
    "for i,row in enumerate(results_obesity):\n",
    "#     if i==1 or i==2 or i==5 or i==7:\n",
    "    name = row['model name']\n",
    "    if i==4:\n",
    "        plt.plot(row['false positive'],row['true positive'],'--',linewidth=1,label = names[name])\n",
    "    elif i==3 or i==0 or i==2:\n",
    "        plt.plot(row['false positive'],row['true positive'],'-',linewidth=1,label = names[name])\n",
    "plt.legend(loc='lower right')\n",
    "plt.title(\"(d) ROC curve $(G_{o})$\", position=(0.4, 0.9),fontsize=15)\n",
    "plt.xlabel('False Positive Rate', fontsize=15)\n",
    "plt.ylabel('True Positive Rate', fontsize=15)\n",
    "plt.tight_layout()\n",
    "###save\n",
    "figpath=root+'dataframes/'\n",
    "fig_file_name = os.path.join(figpath,'pr-roc-100'+ \".pdf\")\n",
    "plt.savefig(fig_file_name)\n",
    "#show\n",
    "plt.show()"
   ]
  },
  {
   "cell_type": "markdown",
   "metadata": {},
   "source": [
    "#### Generate *LATEX* table containing *AUC* values for both dataset-features"
   ]
  },
  {
   "cell_type": "code",
   "execution_count": null,
   "metadata": {},
   "outputs": [],
   "source": [
    "result_lat\n",
    "result_df = pd.DataFrame(result_lat)\n",
    "#####generate latex table of auc values\n",
    "print(result_df.to_latex(float_format=lambda x: '%.2f' % x))"
   ]
  },
  {
   "cell_type": "markdown",
   "metadata": {},
   "source": [
    "#### Gephi graph formated (gexf) graph generate and save"
   ]
  },
  {
   "cell_type": "code",
   "execution_count": null,
   "metadata": {},
   "outputs": [],
   "source": [
    "ts = time[1]\n",
    "te = time[2]\n",
    "label = dict(zip(key_list['id'], key_list['keyword']))\n",
    "for t in range(ts,te):\n",
    "    gephy_g = nx.Graph()\n",
    "    nodes = list(g_train[t].nodes())\n",
    "    edges = list(g_train[t].edges())\n",
    "    gephy_g.add_nodes_from(nodes,year=t)\n",
    "    gephy_g.add_edges_from(edges,year=t)\n",
    "    aut = dict(zip(node_feature[t]['node_index'], node_feature[t]['term_aut']))\n",
    "    types = dict(zBBip(node_feature[t]['node_index'], node_feature[t]['node_type_aut']))\n",
    "    nx.set_node_attributes(gephy_g, aut, 'aut')\n",
    "    nx.set_node_attributes(gephy_g, label, 'label')\n",
    "    nx.set_node_attributes(gephy_g, types, 'types')\n",
    "    file = \"gephy\\g-obesity-\"+str(t)+\".gexf\"\n",
    "    nx.write_gexf(gephy_g, file)"
   ]
  }
 ],
 "metadata": {
  "kernelspec": {
   "display_name": "Python 3",
   "language": "python",
   "name": "python3"
  },
  "language_info": {
   "codemirror_mode": {
    "name": "ipython",
    "version": 3
   },
   "file_extension": ".py",
   "mimetype": "text/x-python",
   "name": "python",
   "nbconvert_exporter": "python",
   "pygments_lexer": "ipython3",
   "version": "3.6.10"
  }
 },
 "nbformat": 4,
 "nbformat_minor": 2
}
