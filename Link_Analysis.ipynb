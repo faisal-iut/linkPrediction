{
 "cells": [
  {
   "cell_type": "code",
   "execution_count": 1,
   "metadata": {
    "collapsed": true
   },
   "outputs": [
    {
     "name": "stderr",
     "output_type": "stream",
     "text": [
      "Using Theano backend.\n",
      "C:\\Users\\faisal\\Anaconda3\\lib\\site-packages\\gensim\\utils.py:1197: UserWarning: detected Windows; aliasing chunkize to chunkize_serial\n",
      "  warnings.warn(\"detected Windows; aliasing chunkize to chunkize_serial\")\n"
     ]
    }
   ],
   "source": [
    "import pandas as pd\n",
    "import numpy as np\n",
    "import networkx as nx\n",
    "import graph as gr\n",
    "import utils as ut\n",
    "import feature_selection as fs\n",
    "import classification as cl\n",
    "import os.path\n",
    "import matplotlib.pyplot as plt\n",
    "from pprint import pprint\n",
    "import importlib\n",
    "import community\n",
    "import seaborn as sns\n",
    "from gensim.models import KeyedVectors\n",
    "from pyemd import emd\n",
    "from gensim import corpora\n",
    "from nltk.corpus import stopwords\n",
    "from gensim.matutils import softcossim\n",
    "import copy\n",
    "import itertools\n",
    "from keras.models import Model, Sequential\n",
    "from keras.layers import LSTM, Dense\n",
    "from keras.layers.normalization import BatchNormalization\n",
    "from keras.layers.core import Dense, Dropout, Activation, Reshape\n",
    "from sklearn.metrics import roc_curve, auc, precision_recall_curve, average_precision_score, roc_auc_score\n",
    "from sklearn.metrics import confusion_matrix, precision_recall_fscore_support, accuracy_score\n",
    "from sklearn import preprocessing\n",
    "from sklearn.model_selection import train_test_split\n",
    "from keras.models import load_model"
   ]
  },
  {
   "cell_type": "code",
   "execution_count": 2,
   "metadata": {},
   "outputs": [
    {
     "data": {
      "text/plain": [
       "<module 'graph' from 'C:\\\\Users\\\\faisal\\\\PycharmProjects\\\\linkPrediction\\\\graph.py'>"
      ]
     },
     "execution_count": 2,
     "metadata": {},
     "output_type": "execute_result"
    }
   ],
   "source": [
    "importlib.reload(gr)"
   ]
  },
  {
   "cell_type": "code",
   "execution_count": 175,
   "metadata": {},
   "outputs": [],
   "source": [
    "domain = ['apnea','obesity']\n",
    "filepath=['dataset/obesity-all,3.csv',\n",
    "         'dataset/obesity-distinct_keyword.csv']\n",
    "graphpath='C:/Users/faisal/PycharmProjects/linkPrediction/graphs'\n",
    "datapath='C:/Users/faisal/PycharmProjects/linkPrediction/dataframes'\n",
    "modelpath='C:/Users/faisal/PycharmProjects/linkPrediction/models'\n",
    "column_split=['keyword','author_name','affiliation_1','affiliation_2','country']\n",
    "#time=[parent_start_year, train_start_year, test_start_year, total_test_period_in_year, total_year_in_each_iteration]\n",
    "time=[1991,1991,1996,1,1,20]\n",
    "df, key_list = ut.load_dataset(filepath, column_split)"
   ]
  },
  {
   "cell_type": "code",
   "execution_count": 20,
   "metadata": {},
   "outputs": [
    {
     "name": "stdout",
     "output_type": "stream",
     "text": [
      "204\n",
      "C:/Users/faisal/PycharmProjects/linkPrediction/graphs\\train_graph_1992.gpickle saved, nodes: 64 edges: 56\n",
      "C:/Users/faisal/PycharmProjects/linkPrediction/graphs\\train_graph_1993.gpickle saved, nodes: 63 edges: 62\n",
      "C:/Users/faisal/PycharmProjects/linkPrediction/graphs\\train_graph_1994.gpickle saved, nodes: 84 edges: 82\n",
      "C:/Users/faisal/PycharmProjects/linkPrediction/graphs\\train_graph_1995.gpickle saved, nodes: 108 edges: 137\n",
      "C:/Users/faisal/PycharmProjects/linkPrediction/graphs\\train_graph_1996.gpickle saved, nodes: 127 edges: 172\n",
      "C:/Users/faisal/PycharmProjects/linkPrediction/graphs\\test_graph_1997.gpickle saved, nodes: 204 edges: 243\n",
      "C:/Users/faisal/PycharmProjects/linkPrediction/graphs\\parent_graph_1991-1992.gpickle saved, nodes: 52 edges: 53\n",
      "C:/Users/faisal/PycharmProjects/linkPrediction/graphs\\train_graph_1992-1997.gpickle saved, nodes: 204 edges: 417\n",
      "C:/Users/faisal/PycharmProjects/linkPrediction/graphs\\test_graph_1997-1998.gpickle saved, nodes: 204 edges: 243\n",
      "401\n",
      "C:/Users/faisal/PycharmProjects/linkPrediction/graphs\\train_graph_1998.gpickle saved, nodes: 151 edges: 197\n",
      "C:/Users/faisal/PycharmProjects/linkPrediction/graphs\\train_graph_1999.gpickle saved, nodes: 157 edges: 153\n",
      "C:/Users/faisal/PycharmProjects/linkPrediction/graphs\\train_graph_2000.gpickle saved, nodes: 186 edges: 272\n",
      "C:/Users/faisal/PycharmProjects/linkPrediction/graphs\\train_graph_2001.gpickle saved, nodes: 201 edges: 306\n",
      "C:/Users/faisal/PycharmProjects/linkPrediction/graphs\\train_graph_2002.gpickle saved, nodes: 233 edges: 357\n",
      "C:/Users/faisal/PycharmProjects/linkPrediction/graphs\\test_graph_2003.gpickle saved, nodes: 401 edges: 603\n",
      "C:/Users/faisal/PycharmProjects/linkPrediction/graphs\\parent_graph_1997-1998.gpickle saved, nodes: 130 edges: 150\n",
      "C:/Users/faisal/PycharmProjects/linkPrediction/graphs\\train_graph_1998-2003.gpickle saved, nodes: 401 edges: 1025\n",
      "C:/Users/faisal/PycharmProjects/linkPrediction/graphs\\test_graph_2003-2004.gpickle saved, nodes: 401 edges: 603\n",
      "641\n",
      "C:/Users/faisal/PycharmProjects/linkPrediction/graphs\\train_graph_2004.gpickle saved, nodes: 309 edges: 439\n",
      "C:/Users/faisal/PycharmProjects/linkPrediction/graphs\\train_graph_2005.gpickle saved, nodes: 65 edges: 47\n",
      "C:/Users/faisal/PycharmProjects/linkPrediction/graphs\\train_graph_2006.gpickle saved, nodes: 81 edges: 59\n",
      "C:/Users/faisal/PycharmProjects/linkPrediction/graphs\\train_graph_2007.gpickle saved, nodes: 357 edges: 629\n",
      "C:/Users/faisal/PycharmProjects/linkPrediction/graphs\\train_graph_2008.gpickle saved, nodes: 423 edges: 668\n",
      "C:/Users/faisal/PycharmProjects/linkPrediction/graphs\\test_graph_2009.gpickle saved, nodes: 641 edges: 983\n",
      "C:/Users/faisal/PycharmProjects/linkPrediction/graphs\\parent_graph_2003-2004.gpickle saved, nodes: 230 edges: 288\n",
      "C:/Users/faisal/PycharmProjects/linkPrediction/graphs\\train_graph_2004-2009.gpickle saved, nodes: 641 edges: 1607\n",
      "C:/Users/faisal/PycharmProjects/linkPrediction/graphs\\test_graph_2009-2010.gpickle saved, nodes: 641 edges: 983\n",
      "1047\n",
      "C:/Users/faisal/PycharmProjects/linkPrediction/graphs\\train_graph_2010.gpickle saved, nodes: 496 edges: 786\n",
      "C:/Users/faisal/PycharmProjects/linkPrediction/graphs\\train_graph_2011.gpickle saved, nodes: 536 edges: 977\n",
      "C:/Users/faisal/PycharmProjects/linkPrediction/graphs\\train_graph_2012.gpickle saved, nodes: 584 edges: 1054\n",
      "C:/Users/faisal/PycharmProjects/linkPrediction/graphs\\train_graph_2013.gpickle saved, nodes: 634 edges: 1280\n",
      "C:/Users/faisal/PycharmProjects/linkPrediction/graphs\\train_graph_2014.gpickle saved, nodes: 583 edges: 1144\n",
      "C:/Users/faisal/PycharmProjects/linkPrediction/graphs\\test_graph_2015.gpickle saved, nodes: 1047 edges: 1937\n",
      "C:/Users/faisal/PycharmProjects/linkPrediction/graphs\\parent_graph_2009-2010.gpickle saved, nodes: 445 edges: 666\n",
      "C:/Users/faisal/PycharmProjects/linkPrediction/graphs\\train_graph_2010-2015.gpickle saved, nodes: 1047 edges: 4259\n",
      "C:/Users/faisal/PycharmProjects/linkPrediction/graphs\\test_graph_2015-2016.gpickle saved, nodes: 1047 edges: 1937\n"
     ]
    }
   ],
   "source": [
    "for tout in range(1991,2010,6):\n",
    "    time =  [tout,tout+1,tout+6,1,1,20]\n",
    "    gr.dynamic_train_test_graph_build(df, key_list, graphpath, time)"
   ]
  },
  {
   "cell_type": "code",
   "execution_count": 162,
   "metadata": {},
   "outputs": [
    {
     "name": "stdout",
     "output_type": "stream",
     "text": [
      "C:/Users/faisal/PycharmProjects/linkPrediction/graphs\\train_graph_1992.gpickle loaded, nodes: 64 edges: 56\n",
      "C:/Users/faisal/PycharmProjects/linkPrediction/graphs\\train_graph_1993.gpickle loaded, nodes: 63 edges: 62\n",
      "C:/Users/faisal/PycharmProjects/linkPrediction/graphs\\train_graph_1994.gpickle loaded, nodes: 84 edges: 82\n",
      "C:/Users/faisal/PycharmProjects/linkPrediction/graphs\\train_graph_1995.gpickle loaded, nodes: 108 edges: 137\n",
      "C:/Users/faisal/PycharmProjects/linkPrediction/graphs\\train_graph_1996.gpickle loaded, nodes: 127 edges: 172\n",
      "C:/Users/faisal/PycharmProjects/linkPrediction/graphs\\test_graph_1997.gpickle loaded, nodes: 204 edges: 243\n",
      "C:/Users/faisal/PycharmProjects/linkPrediction/graphs\\parent_graph_1991-1992.gpickle loaded, nodes: 52 edges: 53\n",
      "C:/Users/faisal/PycharmProjects/linkPrediction/graphs\\train_graph_1992-1997.gpickle loaded, nodes: 204 edges: 417\n",
      "C:/Users/faisal/PycharmProjects/linkPrediction/graphs\\test_graph_1997-1998.gpickle loaded, nodes: 204 edges: 243\n",
      "C:/Users/faisal/PycharmProjects/linkPrediction/graphs\\train_graph_1998.gpickle loaded, nodes: 151 edges: 197\n",
      "C:/Users/faisal/PycharmProjects/linkPrediction/graphs\\train_graph_1999.gpickle loaded, nodes: 157 edges: 153\n",
      "C:/Users/faisal/PycharmProjects/linkPrediction/graphs\\train_graph_2000.gpickle loaded, nodes: 186 edges: 272\n",
      "C:/Users/faisal/PycharmProjects/linkPrediction/graphs\\train_graph_2001.gpickle loaded, nodes: 201 edges: 306\n",
      "C:/Users/faisal/PycharmProjects/linkPrediction/graphs\\train_graph_2002.gpickle loaded, nodes: 233 edges: 357\n",
      "C:/Users/faisal/PycharmProjects/linkPrediction/graphs\\test_graph_2003.gpickle loaded, nodes: 401 edges: 603\n",
      "C:/Users/faisal/PycharmProjects/linkPrediction/graphs\\parent_graph_1997-1998.gpickle loaded, nodes: 130 edges: 150\n",
      "C:/Users/faisal/PycharmProjects/linkPrediction/graphs\\train_graph_1998-2003.gpickle loaded, nodes: 401 edges: 1025\n",
      "C:/Users/faisal/PycharmProjects/linkPrediction/graphs\\test_graph_2003-2004.gpickle loaded, nodes: 401 edges: 603\n",
      "C:/Users/faisal/PycharmProjects/linkPrediction/graphs\\train_graph_2004.gpickle loaded, nodes: 309 edges: 439\n",
      "C:/Users/faisal/PycharmProjects/linkPrediction/graphs\\train_graph_2005.gpickle loaded, nodes: 65 edges: 47\n",
      "C:/Users/faisal/PycharmProjects/linkPrediction/graphs\\train_graph_2006.gpickle loaded, nodes: 81 edges: 59\n",
      "C:/Users/faisal/PycharmProjects/linkPrediction/graphs\\train_graph_2007.gpickle loaded, nodes: 357 edges: 629\n",
      "C:/Users/faisal/PycharmProjects/linkPrediction/graphs\\train_graph_2008.gpickle loaded, nodes: 423 edges: 668\n",
      "C:/Users/faisal/PycharmProjects/linkPrediction/graphs\\test_graph_2009.gpickle loaded, nodes: 641 edges: 983\n",
      "C:/Users/faisal/PycharmProjects/linkPrediction/graphs\\parent_graph_2003-2004.gpickle loaded, nodes: 230 edges: 288\n",
      "C:/Users/faisal/PycharmProjects/linkPrediction/graphs\\train_graph_2004-2009.gpickle loaded, nodes: 641 edges: 1607\n",
      "C:/Users/faisal/PycharmProjects/linkPrediction/graphs\\test_graph_2009-2010.gpickle loaded, nodes: 641 edges: 983\n",
      "C:/Users/faisal/PycharmProjects/linkPrediction/graphs\\train_graph_2010.gpickle loaded, nodes: 496 edges: 786\n",
      "C:/Users/faisal/PycharmProjects/linkPrediction/graphs\\train_graph_2011.gpickle loaded, nodes: 536 edges: 977\n",
      "C:/Users/faisal/PycharmProjects/linkPrediction/graphs\\train_graph_2012.gpickle loaded, nodes: 584 edges: 1054\n",
      "C:/Users/faisal/PycharmProjects/linkPrediction/graphs\\train_graph_2013.gpickle loaded, nodes: 634 edges: 1280\n",
      "C:/Users/faisal/PycharmProjects/linkPrediction/graphs\\train_graph_2014.gpickle loaded, nodes: 583 edges: 1144\n",
      "C:/Users/faisal/PycharmProjects/linkPrediction/graphs\\test_graph_2015.gpickle loaded, nodes: 1047 edges: 1937\n",
      "C:/Users/faisal/PycharmProjects/linkPrediction/graphs\\parent_graph_2009-2010.gpickle loaded, nodes: 445 edges: 666\n",
      "C:/Users/faisal/PycharmProjects/linkPrediction/graphs\\train_graph_2010-2015.gpickle loaded, nodes: 1047 edges: 4259\n",
      "C:/Users/faisal/PycharmProjects/linkPrediction/graphs\\test_graph_2015-2016.gpickle loaded, nodes: 1047 edges: 1937\n"
     ]
    }
   ],
   "source": [
    "graphs = {}\n",
    "for tout in range(1991,2010,6):\n",
    "    time =  [tout,tout+1,tout+6,1,1,20]\n",
    "    g_train, g_test, g_parent, g_train_static, g_test_static = gr.graph_load(graphpath, time)\n",
    "    graphs[tout]=g_parent\n",
    "    graphs.update(g_train)"
   ]
  },
  {
   "cell_type": "code",
   "execution_count": 163,
   "metadata": {},
   "outputs": [],
   "source": [
    "k = set()\n",
    "ko=set()\n",
    "e = set()\n",
    "eo = set()\n",
    "gr_ev = []\n",
    "for year,graph in graphs.items():\n",
    "    k = set(graph.nodes())\n",
    "    k_n = k.difference(ko)\n",
    "    k_o = k.difference(k_n)\n",
    "    e = set(graph.edges())\n",
    "    e_ooo = e.intersection(eo)\n",
    "    e_nn_no = e.difference(eo)\n",
    "    e_oon = set()\n",
    "    e_nn = set()\n",
    "    e_no = set()\n",
    "    for es in e_nn_no:\n",
    "        diff = len(set(es).difference(ko))\n",
    "        if diff==0:\n",
    "            e_oon.add(es)\n",
    "        if diff==2:\n",
    "            e_nn.add(es)\n",
    "        if diff==1:\n",
    "            e_no.add(es)\n",
    "#     print('year:',year)\n",
    "#     print('k:',len(k),'kn:',len(k_n),'ko:',len(k_o))\n",
    "#     print('e:',len(e),'e_ooo:',len(e_ooo),'e_oon:',len(e_oon),'e_no:',len(e_no),'e_nn:',len(e_nn))\n",
    "    gr_ev.append([year,len(k),len(k_n),len(k_o),len(e),len(e_ooo),len(e_oon),len(e_no),len(e_nn)])\n",
    "    ko.update(k)\n",
    "    eo.update(e)\n",
    "cols = ['year', 'k', 'kn', 'ko', 'e', 'e_ooo', 'e_oon', 'e_no', 'e_nn',]\n",
    "gr_ke = pd.DataFrame(gr_ev, columns=cols) "
   ]
  },
  {
   "cell_type": "code",
   "execution_count": 164,
   "metadata": {},
   "outputs": [
    {
     "name": "stdout",
     "output_type": "stream",
     "text": [
      "C:/Users/faisal/PycharmProjects/linkPrediction/graphs\\train_graph_1992.gpickle loaded, nodes: 64 edges: 56\n",
      "C:/Users/faisal/PycharmProjects/linkPrediction/graphs\\train_graph_1993.gpickle loaded, nodes: 63 edges: 62\n",
      "C:/Users/faisal/PycharmProjects/linkPrediction/graphs\\train_graph_1994.gpickle loaded, nodes: 84 edges: 82\n",
      "C:/Users/faisal/PycharmProjects/linkPrediction/graphs\\train_graph_1995.gpickle loaded, nodes: 108 edges: 137\n",
      "C:/Users/faisal/PycharmProjects/linkPrediction/graphs\\train_graph_1996.gpickle loaded, nodes: 127 edges: 172\n",
      "C:/Users/faisal/PycharmProjects/linkPrediction/graphs\\test_graph_1997.gpickle loaded, nodes: 204 edges: 243\n",
      "C:/Users/faisal/PycharmProjects/linkPrediction/graphs\\parent_graph_1991-1992.gpickle loaded, nodes: 52 edges: 53\n",
      "C:/Users/faisal/PycharmProjects/linkPrediction/graphs\\train_graph_1992-1997.gpickle loaded, nodes: 204 edges: 417\n",
      "C:/Users/faisal/PycharmProjects/linkPrediction/graphs\\test_graph_1997-1998.gpickle loaded, nodes: 204 edges: 243\n",
      "pos in time series: 132 neg in time series: 1200 pos-neg ratio: 0.11 total: 1332\n",
      "C:/Users/faisal/PycharmProjects/linkPrediction/graphs\\train_graph_1998.gpickle loaded, nodes: 151 edges: 197\n",
      "C:/Users/faisal/PycharmProjects/linkPrediction/graphs\\train_graph_1999.gpickle loaded, nodes: 157 edges: 153\n",
      "C:/Users/faisal/PycharmProjects/linkPrediction/graphs\\train_graph_2000.gpickle loaded, nodes: 186 edges: 272\n",
      "C:/Users/faisal/PycharmProjects/linkPrediction/graphs\\train_graph_2001.gpickle loaded, nodes: 201 edges: 306\n",
      "C:/Users/faisal/PycharmProjects/linkPrediction/graphs\\train_graph_2002.gpickle loaded, nodes: 233 edges: 357\n",
      "C:/Users/faisal/PycharmProjects/linkPrediction/graphs\\test_graph_2003.gpickle loaded, nodes: 401 edges: 603\n",
      "C:/Users/faisal/PycharmProjects/linkPrediction/graphs\\parent_graph_1997-1998.gpickle loaded, nodes: 130 edges: 150\n",
      "C:/Users/faisal/PycharmProjects/linkPrediction/graphs\\train_graph_1998-2003.gpickle loaded, nodes: 401 edges: 1025\n",
      "C:/Users/faisal/PycharmProjects/linkPrediction/graphs\\test_graph_2003-2004.gpickle loaded, nodes: 401 edges: 603\n",
      "pos in time series: 344 neg in time series: 2736 pos-neg ratio: 0.12573099415204678 total: 3080\n",
      "C:/Users/faisal/PycharmProjects/linkPrediction/graphs\\train_graph_2004.gpickle loaded, nodes: 309 edges: 439\n",
      "C:/Users/faisal/PycharmProjects/linkPrediction/graphs\\train_graph_2005.gpickle loaded, nodes: 65 edges: 47\n",
      "C:/Users/faisal/PycharmProjects/linkPrediction/graphs\\train_graph_2006.gpickle loaded, nodes: 81 edges: 59\n",
      "C:/Users/faisal/PycharmProjects/linkPrediction/graphs\\train_graph_2007.gpickle loaded, nodes: 357 edges: 629\n",
      "C:/Users/faisal/PycharmProjects/linkPrediction/graphs\\train_graph_2008.gpickle loaded, nodes: 423 edges: 668\n",
      "C:/Users/faisal/PycharmProjects/linkPrediction/graphs\\test_graph_2009.gpickle loaded, nodes: 641 edges: 983\n",
      "C:/Users/faisal/PycharmProjects/linkPrediction/graphs\\parent_graph_2003-2004.gpickle loaded, nodes: 230 edges: 288\n",
      "C:/Users/faisal/PycharmProjects/linkPrediction/graphs\\train_graph_2004-2009.gpickle loaded, nodes: 641 edges: 1607\n",
      "C:/Users/faisal/PycharmProjects/linkPrediction/graphs\\test_graph_2009-2010.gpickle loaded, nodes: 641 edges: 983\n",
      "pos in time series: 625 neg in time series: 5263 pos-neg ratio: 0.11875356260687821 total: 5888\n",
      "C:/Users/faisal/PycharmProjects/linkPrediction/graphs\\train_graph_2010.gpickle loaded, nodes: 496 edges: 786\n",
      "C:/Users/faisal/PycharmProjects/linkPrediction/graphs\\train_graph_2011.gpickle loaded, nodes: 536 edges: 977\n",
      "C:/Users/faisal/PycharmProjects/linkPrediction/graphs\\train_graph_2012.gpickle loaded, nodes: 584 edges: 1054\n",
      "C:/Users/faisal/PycharmProjects/linkPrediction/graphs\\train_graph_2013.gpickle loaded, nodes: 634 edges: 1280\n",
      "C:/Users/faisal/PycharmProjects/linkPrediction/graphs\\train_graph_2014.gpickle loaded, nodes: 583 edges: 1144\n",
      "C:/Users/faisal/PycharmProjects/linkPrediction/graphs\\test_graph_2015.gpickle loaded, nodes: 1047 edges: 1937\n",
      "C:/Users/faisal/PycharmProjects/linkPrediction/graphs\\parent_graph_2009-2010.gpickle loaded, nodes: 445 edges: 666\n",
      "C:/Users/faisal/PycharmProjects/linkPrediction/graphs\\train_graph_2010-2015.gpickle loaded, nodes: 1047 edges: 4259\n",
      "C:/Users/faisal/PycharmProjects/linkPrediction/graphs\\test_graph_2015-2016.gpickle loaded, nodes: 1047 edges: 1937\n",
      "pos in time series: 1294 neg in time series: 11021 pos-neg ratio: 0.1174122130478178 total: 12315\n"
     ]
    }
   ],
   "source": [
    "importlib.reload(fs)\n",
    "importlib.reload(cl)\n",
    "type_ev = []\n",
    "for tout in range(1991,2010,6):\n",
    "    time =  [tout,tout+1,tout+6,1,1,20]\n",
    "    g_train, g_test, g_parent, g_train_static, g_test_static = gr.graph_load(graphpath, time)\n",
    "    freq=10\n",
    "    #time=[2001,2007,2015,1,1,10]\n",
    "    train_data, train_data_static, parent_data, test_data_static, edge_list = cl.non_edge_feature_dataframe(g_train, \n",
    "                                                                                                             g_test,\n",
    "                                                                                                             g_parent,\n",
    "                                                                                                             g_train_static, \n",
    "                                                                                                             g_test_static,  \n",
    "                                                                                                             time, \n",
    "                                                                                                             freq)\n",
    "    node_feature, train_data = fs.dynamic_graph_feature_set(df, key_list, train_data, g_parent, g_train, g_train_static, time)\n",
    "    for year,node_f in node_feature.items():\n",
    "        k_gp = node_f.loc[node_f['node_type_aut']==20,['node_type_aut']].count()\n",
    "        k_p = node_f.loc[node_f['node_type_aut']==5,['node_type_aut']].count()\n",
    "        k_c = node_f.loc[node_f['node_type_aut']==3,['node_type_aut']].count()\n",
    "        k_g = node_f.loc[node_f['node_type_aut']==1,['node_type_aut']].count()\n",
    "        #print('k_gp:',k_gp[0],'k_p:',k_p[0],'k_c:',k_c[0],'k_g:',k_g[0])\n",
    "        e_gpgp1 = train_data[year].loc[(train_data[year]['label']==1) & (train_data[year]['type']==400),['type']].count()\n",
    "        e_gpgp0 = train_data[year].loc[(train_data[year]['label']==0) & (train_data[year]['type']==400),['type']].count()\n",
    "        e_gpp1 = train_data[year].loc[(train_data[year]['label']==1) & (train_data[year]['type']==100),['type']].count()\n",
    "        e_gpp0 = train_data[year].loc[(train_data[year]['label']==0) & (train_data[year]['type']==100),['type']].count()\n",
    "        e_gpc1 = train_data[year].loc[(train_data[year]['label']==1) & (train_data[year]['type']==60),['type']].count()\n",
    "        e_gpc0 = train_data[year].loc[(train_data[year]['label']==0) & (train_data[year]['type']==60),['type']].count()\n",
    "        e_gpg1 = train_data[year].loc[(train_data[year]['label']==1) & (train_data[year]['type']==20),['type']].count()\n",
    "        e_gpg0 = train_data[year].loc[(train_data[year]['label']==0) & (train_data[year]['type']==20),['type']].count()\n",
    "        total = train_data[year].loc[train_data[year]['label']==1,['type']].count()\n",
    "        tot_gp = e_gpgp1[0] + e_gpp1[0] + e_gpc1[0]+ e_gpg1[0]\n",
    "        rat = tot_gp*100/total[0]\n",
    "        #print('gpgp:',e_gpgp1[0],'gpp:',e_gpp1[0],'gpc:',e_gpc1[0],'gpg',e_gpg1[0],'total:',total[0],'tot_p:',tot_gp,'rat:',rat)\n",
    "        type_ev.append([year,k_gp[0],k_p[0],k_c[0],k_g[0],e_gpgp1[0],e_gpp1[0],e_gpc1[0],e_gpg1[0],tot_gp,total[0],rat])\n",
    "cols = ['year','k_gp','k_p','k_c','k_g','e_gpgp1','e_gpp1','e_gpc1','e_gpg1','tot_gp','total','rat']\n",
    "gr_type = pd.DataFrame(type_ev, columns=cols) "
   ]
  },
  {
   "cell_type": "code",
   "execution_count": 165,
   "metadata": {},
   "outputs": [
    {
     "name": "stdout",
     "output_type": "stream",
     "text": [
      "C:/Users/faisal/PycharmProjects/linkPrediction/graphs\\train_graph_1992.gpickle loaded, nodes: 64 edges: 56\n",
      "C:/Users/faisal/PycharmProjects/linkPrediction/graphs\\train_graph_1993.gpickle loaded, nodes: 63 edges: 62\n",
      "C:/Users/faisal/PycharmProjects/linkPrediction/graphs\\train_graph_1994.gpickle loaded, nodes: 84 edges: 82\n",
      "C:/Users/faisal/PycharmProjects/linkPrediction/graphs\\train_graph_1995.gpickle loaded, nodes: 108 edges: 137\n",
      "C:/Users/faisal/PycharmProjects/linkPrediction/graphs\\train_graph_1996.gpickle loaded, nodes: 127 edges: 172\n",
      "C:/Users/faisal/PycharmProjects/linkPrediction/graphs\\test_graph_1997.gpickle loaded, nodes: 204 edges: 243\n",
      "C:/Users/faisal/PycharmProjects/linkPrediction/graphs\\parent_graph_1991-1992.gpickle loaded, nodes: 52 edges: 53\n",
      "C:/Users/faisal/PycharmProjects/linkPrediction/graphs\\train_graph_1992-1997.gpickle loaded, nodes: 204 edges: 417\n",
      "C:/Users/faisal/PycharmProjects/linkPrediction/graphs\\test_graph_1997-1998.gpickle loaded, nodes: 204 edges: 243\n",
      "pos in time series: 132 neg in time series: 1160 pos-neg ratio: 0.11379310344827587 total: 1292\n",
      "C:/Users/faisal/PycharmProjects/linkPrediction/graphs\\train_graph_1998.gpickle loaded, nodes: 151 edges: 197\n",
      "C:/Users/faisal/PycharmProjects/linkPrediction/graphs\\train_graph_1999.gpickle loaded, nodes: 157 edges: 153\n",
      "C:/Users/faisal/PycharmProjects/linkPrediction/graphs\\train_graph_2000.gpickle loaded, nodes: 186 edges: 272\n",
      "C:/Users/faisal/PycharmProjects/linkPrediction/graphs\\train_graph_2001.gpickle loaded, nodes: 201 edges: 306\n",
      "C:/Users/faisal/PycharmProjects/linkPrediction/graphs\\train_graph_2002.gpickle loaded, nodes: 233 edges: 357\n",
      "C:/Users/faisal/PycharmProjects/linkPrediction/graphs\\test_graph_2003.gpickle loaded, nodes: 401 edges: 603\n",
      "C:/Users/faisal/PycharmProjects/linkPrediction/graphs\\parent_graph_1997-1998.gpickle loaded, nodes: 130 edges: 150\n",
      "C:/Users/faisal/PycharmProjects/linkPrediction/graphs\\train_graph_1998-2003.gpickle loaded, nodes: 401 edges: 1025\n",
      "C:/Users/faisal/PycharmProjects/linkPrediction/graphs\\test_graph_2003-2004.gpickle loaded, nodes: 401 edges: 603\n",
      "pos in time series: 344 neg in time series: 2754 pos-neg ratio: 0.12490922294843863 total: 3098\n",
      "C:/Users/faisal/PycharmProjects/linkPrediction/graphs\\train_graph_2004.gpickle loaded, nodes: 309 edges: 439\n",
      "C:/Users/faisal/PycharmProjects/linkPrediction/graphs\\train_graph_2005.gpickle loaded, nodes: 65 edges: 47\n",
      "C:/Users/faisal/PycharmProjects/linkPrediction/graphs\\train_graph_2006.gpickle loaded, nodes: 81 edges: 59\n",
      "C:/Users/faisal/PycharmProjects/linkPrediction/graphs\\train_graph_2007.gpickle loaded, nodes: 357 edges: 629\n",
      "C:/Users/faisal/PycharmProjects/linkPrediction/graphs\\train_graph_2008.gpickle loaded, nodes: 423 edges: 668\n",
      "C:/Users/faisal/PycharmProjects/linkPrediction/graphs\\test_graph_2009.gpickle loaded, nodes: 641 edges: 983\n",
      "C:/Users/faisal/PycharmProjects/linkPrediction/graphs\\parent_graph_2003-2004.gpickle loaded, nodes: 230 edges: 288\n",
      "C:/Users/faisal/PycharmProjects/linkPrediction/graphs\\train_graph_2004-2009.gpickle loaded, nodes: 641 edges: 1607\n",
      "C:/Users/faisal/PycharmProjects/linkPrediction/graphs\\test_graph_2009-2010.gpickle loaded, nodes: 641 edges: 983\n",
      "pos in time series: 625 neg in time series: 5298 pos-neg ratio: 0.1179690449226123 total: 5923\n",
      "C:/Users/faisal/PycharmProjects/linkPrediction/graphs\\train_graph_2010.gpickle loaded, nodes: 496 edges: 786\n",
      "C:/Users/faisal/PycharmProjects/linkPrediction/graphs\\train_graph_2011.gpickle loaded, nodes: 536 edges: 977\n",
      "C:/Users/faisal/PycharmProjects/linkPrediction/graphs\\train_graph_2012.gpickle loaded, nodes: 584 edges: 1054\n",
      "C:/Users/faisal/PycharmProjects/linkPrediction/graphs\\train_graph_2013.gpickle loaded, nodes: 634 edges: 1280\n",
      "C:/Users/faisal/PycharmProjects/linkPrediction/graphs\\train_graph_2014.gpickle loaded, nodes: 583 edges: 1144\n",
      "C:/Users/faisal/PycharmProjects/linkPrediction/graphs\\test_graph_2015.gpickle loaded, nodes: 1047 edges: 1937\n",
      "C:/Users/faisal/PycharmProjects/linkPrediction/graphs\\parent_graph_2009-2010.gpickle loaded, nodes: 445 edges: 666\n",
      "C:/Users/faisal/PycharmProjects/linkPrediction/graphs\\train_graph_2010-2015.gpickle loaded, nodes: 1047 edges: 4259\n",
      "C:/Users/faisal/PycharmProjects/linkPrediction/graphs\\test_graph_2015-2016.gpickle loaded, nodes: 1047 edges: 1937\n",
      "pos in time series: 1294 neg in time series: 11032 pos-neg ratio: 0.11729514140681653 total: 12326\n"
     ]
    }
   ],
   "source": [
    "importlib.reload(fs)\n",
    "importlib.reload(cl)\n",
    "miss_ev = []\n",
    "for tout in range(1991,2010,6):\n",
    "    time =  [tout,tout+1,tout+6,1,1,20]\n",
    "    ts = time[1]\n",
    "    te = time[2]\n",
    "    g_train, g_test, g_parent, g_train_static, g_test_static = gr.graph_load(graphpath, time)\n",
    "    freq=10\n",
    "    #time=[2001,2007,2015,1,1,10]\n",
    "    train_data, train_data_static, parent_data, test_data_static, edge_list = cl.non_edge_feature_dataframe(g_train, \n",
    "                                                                                                             g_test,\n",
    "                                                                                                             g_parent,\n",
    "                                                                                                             g_train_static, \n",
    "                                                                                                             g_test_static,  \n",
    "                                                                                                             time, \n",
    "                                                                                                             freq)\n",
    "    node_feature, train_data = fs.dynamic_graph_feature_set(df, key_list, train_data, g_parent, g_train, g_train_static, time)\n",
    "    static_pos = set(train_data_static[(train_data_static['label']==1)]['row_name'])\n",
    "    dynamic_pos = set()\n",
    "    for t in range(ts,te,1):\n",
    "        dynamic_pos.update(train_data[t][(train_data[t]['label']==1)]['row_name'])\n",
    "    transitory_edges = static_pos.difference(dynamic_pos)\n",
    "    transitory_nodes = set()\n",
    "    for row in transitory_edges:\n",
    "        transitory_nodes.add(row[0])\n",
    "        transitory_nodes.add(row[1]) \n",
    "    nodes_te =set()\n",
    "    nodes_te1 = set()\n",
    "    nodes_teo = set()\n",
    "    for node in transitory_nodes:\n",
    "        if (te-1) in set(g_train_static.nodes[node]['year']):\n",
    "            nodes_te.add(node)\n",
    "        if (te-2) in set(g_train_static.nodes[node]['year']):\n",
    "            nodes_te1.add(node)\n",
    "    nodes_te1 = nodes_te1.difference(nodes_te)        \n",
    "    nodes_teo = transitory_nodes.difference(nodes_te,nodes_te1)\n",
    "    #print('n_te:',len(nodes_te),'n_te1:',len(nodes_te1),'n_teo:',len(nodes_teo),'n_tot:',len(transitory_nodes))\n",
    "    e_tete1= set()\n",
    "    e_teteo= set()\n",
    "    for row in transitory_edges:\n",
    "        diff = len(set(row).difference(nodes_te))\n",
    "        if diff==1:\n",
    "            diff1 = len(set(row).difference(nodes_te1))\n",
    "            if diff1 ==1:\n",
    "                e_tete1.add(row)\n",
    "            if diff1 ==2:\n",
    "                e_teteo.add(row)\n",
    "    tot_te = len(e_tete1)+len(e_teteo)\n",
    "    rat = tot_te*100/len(transitory_edges)\n",
    "    #print('e_tete1:',len(e_tete1),'e_teteo:',len(e_teteo),'tot_e:',tot_te,'total:',len(transitory_edges),'rat:',rat) \n",
    "    miss_ev.append([ts,te-1,len(nodes_te),len(nodes_te1),len(nodes_teo),len(transitory_nodes),\n",
    "                    len(e_tete1),len(e_teteo),tot_te,len(transitory_edges),rat])\n",
    "cols = ['ts','te','n_te','n_te1','n_teo','n_trans','e_tete1','e_teteo','tot_te','tot_e_trans','rat']\n",
    "gr_miss=pd.DataFrame(miss_ev, columns=cols)"
   ]
  },
  {
   "cell_type": "code",
   "execution_count": 212,
   "metadata": {},
   "outputs": [],
   "source": [
    "# gr_type\n",
    "# print(gr_type)"
   ]
  },
  {
   "cell_type": "code",
   "execution_count": 211,
   "metadata": {},
   "outputs": [],
   "source": [
    "# gr_miss\n",
    "#print(gr_miss.to_latex(float_format=lambda x: '%.2f' % x))"
   ]
  },
  {
   "cell_type": "code",
   "execution_count": 208,
   "metadata": {},
   "outputs": [],
   "source": [
    "#gr_ke\n",
    "#print(gr_ke.to_latex(float_format=lambda x: '%.2f' % x))"
   ]
  },
  {
   "cell_type": "code",
   "execution_count": 210,
   "metadata": {},
   "outputs": [],
   "source": [
    "#df.groupby('art_year').count()\n",
    "# cols = ['year','total article']\n",
    "# obesity_stat=pd.DataFrame(d2, columns=cols)\n",
    "# print(obesity_stat.to_latex(float_format=lambda x: '%.2f' % x))"
   ]
  },
  {
   "cell_type": "code",
   "execution_count": null,
   "metadata": {},
   "outputs": [],
   "source": []
  },
  {
   "cell_type": "code",
   "execution_count": null,
   "metadata": {},
   "outputs": [],
   "source": []
  },
  {
   "cell_type": "code",
   "execution_count": null,
   "metadata": {},
   "outputs": [],
   "source": []
  },
  {
   "cell_type": "code",
   "execution_count": null,
   "metadata": {},
   "outputs": [],
   "source": []
  },
  {
   "cell_type": "code",
   "execution_count": null,
   "metadata": {},
   "outputs": [],
   "source": []
  },
  {
   "cell_type": "code",
   "execution_count": null,
   "metadata": {},
   "outputs": [],
   "source": []
  }
 ],
 "metadata": {
  "kernelspec": {
   "display_name": "Python 3",
   "language": "python",
   "name": "python3"
  },
  "language_info": {
   "codemirror_mode": {
    "name": "ipython",
    "version": 3
   },
   "file_extension": ".py",
   "mimetype": "text/x-python",
   "name": "python",
   "nbconvert_exporter": "python",
   "pygments_lexer": "ipython3",
   "version": "3.7.0"
  }
 },
 "nbformat": 4,
 "nbformat_minor": 2
}
