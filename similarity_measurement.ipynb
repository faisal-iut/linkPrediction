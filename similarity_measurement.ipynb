{
 "cells": [
  {
   "cell_type": "code",
   "execution_count": 1031,
   "metadata": {},
   "outputs": [],
   "source": [
    "import pandas as pd\n",
    "import numpy as np\n",
    "import networkx as nx\n",
    "import operator as op\n",
    "import itertools\n",
    "import matplotlib.pyplot as plt\n",
    "import numpy.linalg\n",
    "import cmath\n",
    "import multiprocessing\n",
    "import itertools\n",
    "import scipy.optimize as optimize\n",
    "from tabulate import tabulate\n",
    "from documentCentrality import document_centrality\n",
    "%matplotlib inline"
   ]
  },
  {
   "cell_type": "code",
   "execution_count": 624,
   "metadata": {},
   "outputs": [],
   "source": [
    "def pr_df(df):\n",
    "  print(tabulate(df, headers='keys', tablefmt=\"fancy_grid\"))"
   ]
  },
  {
   "cell_type": "code",
   "execution_count": 40,
   "metadata": {},
   "outputs": [],
   "source": [
    "#Dummy Data set\n",
    "dummy=pd.DataFrame([['t', 'c', 1988],\n",
    "                    ['c', 'g', 1989],\n",
    "                    ['a', 'c', 1989],\n",
    "                    ['g', 'a', 1990],\n",
    "                    ['a', 't', 1991],\n",
    "                    ['t', 'l', 1992],\n",
    "                    ['a', 'b', 1993],\n",
    "                    ['c', 'b', 1993],\n",
    "                    ['g', 'k', 1994],\n",
    "                    ['p', 'k', 1994],\n",
    "                    ['a', 'c', 1995],\n",
    "                    ['p', 'c', 1995],\n",
    "                    ['g', 'c', 1995],\n",
    "                    ['l', 'n', 1995],\n",
    "                    ['c', 't', 1995],\n",
    "                    ['p', 'r', 1996],\n",
    "                    ['p', 'k', 1996],\n",
    "                    ['t', 'a', 1996],\n",
    "                    ['r', 'l', 1997],\n",
    "                    ['g', 'w', 1997],\n",
    "                    ['r', 'c', 1998],\n",
    "                    ['p', 'q', 1998],\n",
    "                    ['r', 'g', 1998],\n",
    "                    ['a', 'p', 1999],\n",
    "                    ['r', 'p', 1998]],columns = [\"source_id\", \"target_id\", \"timestamp\"])    \n",
    "\n",
    "dummy.source_id = dummy.source_id.astype(str)\n",
    "dummy.target_id = dummy.target_id.astype(str)\n",
    "t_min=dummy.timestamp.min()\n",
    "t_max=dummy.timestamp.max()\n",
    "N=10\n",
    "dataset = dummy"
   ]
  },
  {
   "cell_type": "code",
   "execution_count": 3,
   "metadata": {},
   "outputs": [],
   "source": [
    "def create_intervals(dataset,N):\n",
    "\n",
    "\n",
    "    t_min=dataset.timestamp.min()\n",
    "    t_max=dataset.timestamp.max()\n",
    "\n",
    "\n",
    "    dt=(t_max-t_min)/N\n",
    "    \n",
    "    intervals=[]\n",
    "    for j in range(0,N):\n",
    "\n",
    "        #Start of time interval\n",
    "        tj=t_min + j*dt\n",
    "        \n",
    "        #End of time interval\n",
    "        tj1=t_min +(j+1)*dt\n",
    "\n",
    "        intervals.append([int(tj),int(tj1)])\n",
    "\n",
    "    return(intervals)"
   ]
  },
  {
   "cell_type": "code",
   "execution_count": 4,
   "metadata": {},
   "outputs": [],
   "source": [
    "class graph(object):\n",
    "    def __init__(self,dataset, t0,t1):\n",
    "        self.t0 = t0\n",
    "        self.t1 = t1\n",
    "        self.dataset = dataset\n",
    "        self.create_graph()\n",
    "        self.interval=[t0,t1]\n",
    "        \n",
    "    def create_graph(self):\n",
    "        self.batch = self.create_batch()\n",
    "        self.graph = nx.from_pandas_edgelist(self.batch, 'source_id', 'target_id')\n",
    "        \n",
    "\n",
    "    def create_batch(self):\n",
    "        \n",
    "        df_indexes=[]\n",
    "        index = 0\n",
    "        self.dataset = self.dataset.reset_index(drop=True)\n",
    "            \n",
    "        if self.t1 == self.dataset.timestamp.max():\n",
    "            while index < len(self.dataset)and self.dataset.timestamp[index]<=self.t1 :\n",
    "                if self.dataset.timestamp[index]>=self.t0:\n",
    "                    df_indexes.append(index)\n",
    "                    \n",
    "                index = index +1\n",
    "\n",
    "            batch = self.dataset.iloc[df_indexes]\n",
    "\n",
    "            return(batch)\n",
    "\n",
    "        else:\n",
    "            while index < len(self.dataset)and self.dataset.timestamp[index]<self.t1 :\n",
    "                if self.dataset.timestamp[index]>=self.t0:\n",
    "                    df_indexes.append(index)\n",
    "                    \n",
    "                index = index +1\n",
    "\n",
    "            batch = self.dataset.iloc[df_indexes]\n",
    "            \n",
    "            return(batch)"
   ]
  },
  {
   "cell_type": "code",
   "execution_count": 5,
   "metadata": {},
   "outputs": [],
   "source": [
    "def vertices_intersection(dataset,t0,t1,t2):\n",
    "    \n",
    "    #Create two graphs\n",
    "    G1 = graph(dataset,t0,t1) #for t-1,t\n",
    "    G2 = graph(dataset,t1,t2) #for t, t+1\n",
    "    \n",
    "    S1=set(G1.graph.nodes())\n",
    "    S2=set(G2.graph.nodes())\n",
    "    #print(S1,S2)\n",
    "    return set.intersection(S1,S2) #Return the common nodes"
   ]
  },
  {
   "cell_type": "code",
   "execution_count": 148,
   "metadata": {},
   "outputs": [],
   "source": [
    "def E_prev_set(dataset,t0,t1,t2):\n",
    "    \n",
    "    #Calculate the intersection\n",
    "    G1 = graph(dataset,t0,t1) #for t-1,t\n",
    "    G2 = graph(dataset,t1,t2) #for t, t+1\n",
    "    \n",
    "    S1 = set(G1.graph.nodes())\n",
    "    S2 = set(G2.graph.nodes())\n",
    "    \n",
    "    intersection = set.intersection(S1,S2)\n",
    "    #Calculate the the intersection vertices in [t-1, t)\n",
    "    df = pd.DataFrame(columns = [\"source_id\", \"target_id\", \"timestamp\"])\n",
    "    for row in G1.batch.itertuples():\n",
    "        if (row.source_id in intersection and row.target_id in intersection) and (t0<=row.timestamp<t1):\n",
    "            #print(row.target_id,row.source_id)\n",
    "            df = pd.concat([df,pd.DataFrame([row])],axis = 0)\n",
    "\n",
    "    if not df.empty:\n",
    "        del df['Index']\n",
    "        df=df.reset_index(drop=True)\n",
    "\n",
    "        #Calculate the intersection edges in [t-1, t)\n",
    "        G= graph(df,t0,t1)\n",
    "\n",
    "        return set(G.graph.edges())"
   ]
  },
  {
   "cell_type": "code",
   "execution_count": 149,
   "metadata": {},
   "outputs": [],
   "source": [
    "def E_next_set(dataset,t0,t1,t2):\n",
    "    \n",
    "    #Calculate the intersection\n",
    "    G1 = graph(dataset,t0,t1) #for t-1,t\n",
    "    G2 = graph(dataset,t1,t2) #for t, t+1\n",
    "    \n",
    "    S1 = set(G1.graph.nodes())\n",
    "    S2 = set(G2.graph.nodes())\n",
    "    \n",
    "    intersection = set.intersection(S1,S2)\n",
    "\n",
    "    #Calculate the the intersection vertices in [t, t+1)\n",
    "    df = pd.DataFrame(columns = [\"source_id\", \"target_id\", \"timestamp\"])\n",
    "    for row in G2.batch.itertuples():\n",
    "        if (row.source_id in intersection and row.target_id in intersection) and (t1<=row.timestamp<t2):\n",
    "            df = pd.concat([df,pd.DataFrame([row])],axis = 0)\n",
    "    \n",
    "    if not df.empty:\n",
    "        del df['Index']\n",
    "        df=df.reset_index(drop=True)\n",
    "\n",
    "        #Calculate the intersection edges in [t, t+1)\n",
    "        G= graph(df,t1,t2)\n",
    "\n",
    "        return set(G.graph.edges())"
   ]
  },
  {
   "cell_type": "code",
   "execution_count": 150,
   "metadata": {},
   "outputs": [],
   "source": [
    "def vertices_volume(dataset,N):\n",
    "    \n",
    "    time_intervals = create_intervals(dataset,N)\n",
    "    #print(time_intervals)\n",
    "    intersection_list=[]\n",
    "    i = 0\n",
    "    for time_interval in time_intervals:\n",
    "        if i < (len(time_intervals)-1):\n",
    "            dt = time_interval[1] - time_interval[0]\n",
    "            intersection_list.append(len(vertices_intersection(dataset, time_interval[0], time_interval[1], time_interval[1] + dt)))\n",
    "    #print(vertices_intersection(dataset, 1994, 1996, 1998))\n",
    "        \n",
    "    return(intersection_list)"
   ]
  },
  {
   "cell_type": "code",
   "execution_count": 151,
   "metadata": {},
   "outputs": [],
   "source": [
    "def jaccard_distance(dataset,t0,t1,t2):\n",
    "    \n",
    "    vertices_list = sorted(vertices_intersection(dataset,t0,t1,t2))\n",
    "    edges_set = E_prev_set(dataset,t0,t1,t2)\n",
    "\n",
    "    #Create the graph Object\n",
    "    Gprev=nx.Graph()\n",
    "    \n",
    "    #Add the common vertices for the [t-1, t+1]\n",
    "    Gprev.add_nodes_from(vertices_list)\n",
    "    #Take the edges of the [t-1, t) interval\n",
    "    if edges_set is not None:\n",
    "        Gprev.add_edges_from(edges_set)\n",
    "    \n",
    "    pos = nx.spring_layout(Gprev)  # positions for all nodes\n",
    "    # nodes\n",
    "    nx.draw_networkx_nodes(Gprev, pos, node_size=700)\n",
    "    # edges\n",
    "    nx.draw_networkx_edges(Gprev, pos, edgelist=edges_set,\n",
    "                           width=6)\n",
    "    # labels\n",
    "    nx.draw_networkx_labels(Gprev, pos, font_size=20, font_family='sans-serif')\n",
    "    plt.axis('off')\n",
    "    plt.show()\n",
    "    \n",
    "    jacc = list(nx.jaccard_coefficient(Gprev))\n",
    "    df=pd.DataFrame(0,index=vertices_list, columns=vertices_list)\n",
    "    for i in range(0,len(jacc)):\n",
    "        df.loc[jacc[i][0],jacc[i][1]] = jacc[i][2]\n",
    "        df.loc[jacc[i][1],jacc[i][0]] = jacc[i][2]\n",
    "        \n",
    "    return(df)"
   ]
  },
  {
   "cell_type": "code",
   "execution_count": 152,
   "metadata": {},
   "outputs": [],
   "source": [
    "def calculate_label(dataset,t0,t1,t2):\n",
    "    \n",
    "    vertices_list = sorted(vertices_intersection(dataset,t0,t1,t2))\n",
    "    edges_set_prev = E_prev_set(dataset,t0,t1,t2)\n",
    "    edges_set_next = E_next_set(dataset,t0,t1,t2)\n",
    "    label=pd.DataFrame('-',index=vertices_list, columns=vertices_list)\n",
    "    if edges_set_prev is not None:\n",
    "        edges_prev=list(edges_set_prev)\n",
    "        for i in range(0,len(edges_prev)):\n",
    "            label.loc[edges_prev[i][0],edges_prev[i][1]] = 0\n",
    "            label.loc[edges_prev[i][1],edges_prev[i][0]] = 0\n",
    "    if edges_set_next is not None:\n",
    "        edges_next=list(edges_set_next)\n",
    "        for i in range(0,len(edges_next)):\n",
    "            label.loc[edges_next[i][0],edges_next[i][1]] = '+'\n",
    "            label.loc[edges_next[i][1],edges_next[i][0]] = '+'\n",
    "    for i in range(0,len(vertices_list)):\n",
    "        label.loc[vertices_list[i],vertices_list[i]] = 0\n",
    "    return label"
   ]
  },
  {
   "cell_type": "code",
   "execution_count": 153,
   "metadata": {},
   "outputs": [],
   "source": [
    "def calculate_jaccard_distance(dataset, N):\n",
    "    \n",
    "    time_intervals = create_intervals(dataset,N)\n",
    "    for time_interval in time_intervals:\n",
    "\n",
    "        dt = time_interval[1] - time_interval[0]\n",
    "\n",
    "        #Common Neighbors Distance Calculation\n",
    "        matrix=jaccard_distance(dataset, time_interval[0], time_interval[1], time_interval[1] + dt)\n",
    "        label=calculate_label(dataset, time_interval[0], time_interval[1], time_interval[1] + dt)\n",
    "        if (matrix is not None) and (not matrix.empty):\n",
    "            print(time_interval)\n",
    "            pretty_df(matrix)\n",
    "            pretty_df(label)"
   ]
  },
  {
   "cell_type": "code",
   "execution_count": 154,
   "metadata": {
    "scrolled": false
   },
   "outputs": [
    {
     "data": {
      "image/png": "[encoded data removed]",
      "text/plain": [
       "<Figure size 432x288 with 1 Axes>"
      ]
     },
     "metadata": {
      "needs_background": "light"
     },
     "output_type": "display_data"
    },
    {
     "name": "stdout",
     "output_type": "stream",
     "text": [
      "[1988, 1990]\n",
      "╒════╤═════╤═════╤═════╕\n",
      "│    │   a │   g │   t │\n",
      "╞════╪═════╪═════╪═════╡\n",
      "│ a  │   0 │   0 │   0 │\n",
      "├────┼─────┼─────┼─────┤\n",
      "│ g  │   0 │   0 │   0 │\n",
      "├────┼─────┼─────┼─────┤\n",
      "│ t  │   0 │   0 │   0 │\n",
      "╘════╧═════╧═════╧═════╛\n",
      "╒════╤═════╤═════╤═════╕\n",
      "│    │ a   │ g   │ t   │\n",
      "╞════╪═════╪═════╪═════╡\n",
      "│ a  │ 0   │ +   │ +   │\n",
      "├────┼─────┼─────┼─────┤\n",
      "│ g  │ +   │ 0   │ -   │\n",
      "├────┼─────┼─────┼─────┤\n",
      "│ t  │ +   │ -   │ 0   │\n",
      "╘════╧═════╧═════╧═════╛\n"
     ]
    },
    {
     "name": "stderr",
     "output_type": "stream",
     "text": [
      "C:\\Users\\faisal\\Anaconda3\\lib\\site-packages\\ipykernel_launcher.py:16: FutureWarning: Sorting because non-concatenation axis is not aligned. A future version\n",
      "of pandas will change to not sort by default.\n",
      "\n",
      "To accept the future behavior, pass 'sort=False'.\n",
      "\n",
      "To retain the current behavior and silence the warning, pass 'sort=True'.\n",
      "\n",
      "  app.launch_new_instance()\n"
     ]
    },
    {
     "data": {
      "image/png": "[encoded data removed]",
      "text/plain": [
       "<Figure size 432x288 with 1 Axes>"
      ]
     },
     "metadata": {
      "needs_background": "light"
     },
     "output_type": "display_data"
    },
    {
     "name": "stdout",
     "output_type": "stream",
     "text": [
      "[1990, 1993]\n",
      "╒════╤═════╤═════╤═════╤═════╕\n",
      "│    │   a │   g │   l │   t │\n",
      "╞════╪═════╪═════╪═════╪═════╡\n",
      "│ a  │ 0   │ 0   │ 0.5 │ 0   │\n",
      "├────┼─────┼─────┼─────┼─────┤\n",
      "│ g  │ 0   │ 0   │ 0   │ 0.5 │\n",
      "├────┼─────┼─────┼─────┼─────┤\n",
      "│ l  │ 0.5 │ 0   │ 0   │ 0   │\n",
      "├────┼─────┼─────┼─────┼─────┤\n",
      "│ t  │ 0   │ 0.5 │ 0   │ 0   │\n",
      "╘════╧═════╧═════╧═════╧═════╛\n",
      "╒════╤═════╤═════╤═════╤═════╕\n",
      "│    │ a   │ g   │ l   │ t   │\n",
      "╞════╪═════╪═════╪═════╪═════╡\n",
      "│ a  │ 0   │ 0   │ -   │ 0   │\n",
      "├────┼─────┼─────┼─────┼─────┤\n",
      "│ g  │ 0   │ 0   │ -   │ -   │\n",
      "├────┼─────┼─────┼─────┼─────┤\n",
      "│ l  │ -   │ -   │ 0   │ 0   │\n",
      "├────┼─────┼─────┼─────┼─────┤\n",
      "│ t  │ 0   │ -   │ 0   │ 0   │\n",
      "╘════╧═════╧═════╧═════╧═════╛\n"
     ]
    },
    {
     "data": {
      "image/png": "[encoded data removed]",
      "text/plain": [
       "<Figure size 432x288 with 1 Axes>"
      ]
     },
     "metadata": {
      "needs_background": "light"
     },
     "output_type": "display_data"
    },
    {
     "name": "stdout",
     "output_type": "stream",
     "text": [
      "[1993, 1996]\n",
      "╒════╤═════╤═════╤═════╤═════╤═════╤═════╤═════╕\n",
      "│    │   a │   c │   g │   k │   l │   p │   t │\n",
      "╞════╪═════╪═════╪═════╪═════╪═════╪═════╪═════╡\n",
      "│ a  │ 0   │ 0   │ 0.5 │ 0   │   0 │ 0.5 │ 1   │\n",
      "├────┼─────┼─────┼─────┼─────┼─────┼─────┼─────┤\n",
      "│ c  │ 0   │ 0   │ 0   │ 0.5 │   0 │ 0   │ 0   │\n",
      "├────┼─────┼─────┼─────┼─────┼─────┼─────┼─────┤\n",
      "│ g  │ 0.5 │ 0   │ 0   │ 0   │   0 │ 1   │ 0.5 │\n",
      "├────┼─────┼─────┼─────┼─────┼─────┼─────┼─────┤\n",
      "│ k  │ 0   │ 0.5 │ 0   │ 0   │   0 │ 0   │ 0   │\n",
      "├────┼─────┼─────┼─────┼─────┼─────┼─────┼─────┤\n",
      "│ l  │ 0   │ 0   │ 0   │ 0   │   0 │ 0   │ 0   │\n",
      "├────┼─────┼─────┼─────┼─────┼─────┼─────┼─────┤\n",
      "│ p  │ 0.5 │ 0   │ 1   │ 0   │   0 │ 0   │ 0.5 │\n",
      "├────┼─────┼─────┼─────┼─────┼─────┼─────┼─────┤\n",
      "│ t  │ 1   │ 0   │ 0.5 │ 0   │   0 │ 0.5 │ 0   │\n",
      "╘════╧═════╧═════╧═════╧═════╧═════╧═════╧═════╛\n",
      "╒════╤═════╤═════╤═════╤═════╤═════╤═════╤═════╕\n",
      "│    │ a   │ c   │ g   │ k   │ l   │ p   │ t   │\n",
      "╞════╪═════╪═════╪═════╪═════╪═════╪═════╪═════╡\n",
      "│ a  │ 0   │ 0   │ -   │ -   │ -   │ -   │ +   │\n",
      "├────┼─────┼─────┼─────┼─────┼─────┼─────┼─────┤\n",
      "│ c  │ 0   │ 0   │ 0   │ -   │ -   │ 0   │ 0   │\n",
      "├────┼─────┼─────┼─────┼─────┼─────┼─────┼─────┤\n",
      "│ g  │ -   │ 0   │ 0   │ 0   │ -   │ -   │ -   │\n",
      "├────┼─────┼─────┼─────┼─────┼─────┼─────┼─────┤\n",
      "│ k  │ -   │ -   │ 0   │ 0   │ -   │ +   │ -   │\n",
      "├────┼─────┼─────┼─────┼─────┼─────┼─────┼─────┤\n",
      "│ l  │ -   │ -   │ -   │ -   │ 0   │ -   │ -   │\n",
      "├────┼─────┼─────┼─────┼─────┼─────┼─────┼─────┤\n",
      "│ p  │ -   │ 0   │ -   │ +   │ -   │ 0   │ -   │\n",
      "├────┼─────┼─────┼─────┼─────┼─────┼─────┼─────┤\n",
      "│ t  │ +   │ 0   │ -   │ -   │ -   │ -   │ 0   │\n",
      "╘════╧═════╧═════╧═════╧═════╧═════╧═════╧═════╛\n"
     ]
    },
    {
     "data": {
      "image/png": "[encoded data removed]",
      "text/plain": [
       "<Figure size 432x288 with 1 Axes>"
      ]
     },
     "metadata": {
      "needs_background": "light"
     },
     "output_type": "display_data"
    },
    {
     "name": "stdout",
     "output_type": "stream",
     "text": [
      "[1996, 1999]\n",
      "╒════╤═════╤═════╕\n",
      "│    │   a │   p │\n",
      "╞════╪═════╪═════╡\n",
      "│ a  │   0 │   0 │\n",
      "├────┼─────┼─────┤\n",
      "│ p  │   0 │   0 │\n",
      "╘════╧═════╧═════╛\n",
      "╒════╤═════╤═════╕\n",
      "│    │ a   │ p   │\n",
      "╞════╪═════╪═════╡\n",
      "│ a  │ 0   │ +   │\n",
      "├────┼─────┼─────┤\n",
      "│ p  │ +   │ 0   │\n",
      "╘════╧═════╧═════╛\n"
     ]
    }
   ],
   "source": [
    "calculate_jaccard_distance(dataset, 4)"
   ]
  },
  {
   "cell_type": "code",
   "execution_count": 155,
   "metadata": {},
   "outputs": [],
   "source": [
    "x = np.arange(10)"
   ]
  },
  {
   "cell_type": "code",
   "execution_count": 156,
   "metadata": {},
   "outputs": [
    {
     "data": {
      "text/plain": [
       "array([0, 1, 2, 3, 4, 5, 6, 7, 8, 9])"
      ]
     },
     "execution_count": 156,
     "metadata": {},
     "output_type": "execute_result"
    }
   ],
   "source": [
    "x"
   ]
  },
  {
   "cell_type": "code",
   "execution_count": 162,
   "metadata": {},
   "outputs": [
    {
     "data": {
      "text/plain": [
       "6"
      ]
     },
     "execution_count": 162,
     "metadata": {},
     "output_type": "execute_result"
    }
   ],
   "source": [
    "x[6]"
   ]
  },
  {
   "cell_type": "code",
   "execution_count": 3,
   "metadata": {},
   "outputs": [],
   "source": [
    "df = pd.read_csv('dataset/apnea-all,3.csv')"
   ]
  },
  {
   "cell_type": "code",
   "execution_count": 4,
   "metadata": {},
   "outputs": [
    {
     "data": {
      "text/html": [
       "<div>\n",
       "<style scoped>\n",
       "    .dataframe tbody tr th:only-of-type {\n",
       "        vertical-align: middle;\n",
       "    }\n",
       "\n",
       "    .dataframe tbody tr th {\n",
       "        vertical-align: top;\n",
       "    }\n",
       "\n",
       "    .dataframe thead th {\n",
       "        text-align: right;\n",
       "    }\n",
       "</style>\n",
       "<table border=\"1\" class=\"dataframe\">\n",
       "  <thead>\n",
       "    <tr style=\"text-align: right;\">\n",
       "      <th></th>\n",
       "      <th>art_id</th>\n",
       "      <th>keyword</th>\n",
       "      <th>art_year</th>\n",
       "      <th>citation</th>\n",
       "      <th>title</th>\n",
       "      <th>author_name</th>\n",
       "      <th>affiliation_1</th>\n",
       "      <th>affiliation_2</th>\n",
       "      <th>country</th>\n",
       "    </tr>\n",
       "  </thead>\n",
       "  <tbody>\n",
       "    <tr>\n",
       "      <th>0</th>\n",
       "      <td>101155</td>\n",
       "      <td>tracheostomy</td>\n",
       "      <td>1980</td>\n",
       "      <td>4</td>\n",
       "      <td>Therapeutic Effects of Tracheostomy in Two Cas...</td>\n",
       "      <td>sugita y; wakamatsu h; teshima y; tanaka k; fu...</td>\n",
       "      <td>department of neuropsychiatry  osaka universit...</td>\n",
       "      <td>osaka</td>\n",
       "      <td>japan</td>\n",
       "    </tr>\n",
       "    <tr>\n",
       "      <th>1</th>\n",
       "      <td>101162</td>\n",
       "      <td>development; gender; respiration</td>\n",
       "      <td>1980</td>\n",
       "      <td>11</td>\n",
       "      <td>Respiration during the first six months of lif...</td>\n",
       "      <td>hoppenbrouwers t; hodgman je; harper rm; sterm...</td>\n",
       "      <td>newborn division  the los angeles countyuniver...</td>\n",
       "      <td>ca</td>\n",
       "      <td>united states</td>\n",
       "    </tr>\n",
       "    <tr>\n",
       "      <th>2</th>\n",
       "      <td>101167</td>\n",
       "      <td>infant; periodic breathing</td>\n",
       "      <td>1980</td>\n",
       "      <td>4</td>\n",
       "      <td>VENTILATORY STUDIES IN TWO OLDER INFANTS WITH ...</td>\n",
       "      <td>lagercrantz h; broberger u; milerad j; euler cv</td>\n",
       "      <td>department of paediatrics  karolinska hospital...</td>\n",
       "      <td>stockholm</td>\n",
       "      <td>sweden</td>\n",
       "    </tr>\n",
       "    <tr>\n",
       "      <th>3</th>\n",
       "      <td>101023</td>\n",
       "      <td>hemodynamics; sleep apnea</td>\n",
       "      <td>1981</td>\n",
       "      <td>51</td>\n",
       "      <td>Abnormalities of pulmonary artery wedge pressu...</td>\n",
       "      <td>buda aj; schroeder js; guilleminault c</td>\n",
       "      <td>division of cardiology  sleep disorders clinic...</td>\n",
       "      <td>ca</td>\n",
       "      <td>united states</td>\n",
       "    </tr>\n",
       "    <tr>\n",
       "      <th>4</th>\n",
       "      <td>101050</td>\n",
       "      <td>hirschprung disease; ondine curse; pulmonary h...</td>\n",
       "      <td>1981</td>\n",
       "      <td>18</td>\n",
       "      <td>TOTAL AGANGLIONOSIS OF THE COLON HIRSCHSPRUNG ...</td>\n",
       "      <td>stern m; hellwege hh; grvinghoff l; lambrecht w</td>\n",
       "      <td>departments of paediatrics and surgery  univer...</td>\n",
       "      <td>hamburg</td>\n",
       "      <td>germany</td>\n",
       "    </tr>\n",
       "  </tbody>\n",
       "</table>\n",
       "</div>"
      ],
      "text/plain": [
       "   art_id                                            keyword  art_year  \\\n",
       "0  101155                                       tracheostomy      1980   \n",
       "1  101162                   development; gender; respiration      1980   \n",
       "2  101167                         infant; periodic breathing      1980   \n",
       "3  101023                          hemodynamics; sleep apnea      1981   \n",
       "4  101050  hirschprung disease; ondine curse; pulmonary h...      1981   \n",
       "\n",
       "   citation                                              title  \\\n",
       "0         4  Therapeutic Effects of Tracheostomy in Two Cas...   \n",
       "1        11  Respiration during the first six months of lif...   \n",
       "2         4  VENTILATORY STUDIES IN TWO OLDER INFANTS WITH ...   \n",
       "3        51  Abnormalities of pulmonary artery wedge pressu...   \n",
       "4        18  TOTAL AGANGLIONOSIS OF THE COLON HIRSCHSPRUNG ...   \n",
       "\n",
       "                                         author_name  \\\n",
       "0  sugita y; wakamatsu h; teshima y; tanaka k; fu...   \n",
       "1  hoppenbrouwers t; hodgman je; harper rm; sterm...   \n",
       "2    lagercrantz h; broberger u; milerad j; euler cv   \n",
       "3             buda aj; schroeder js; guilleminault c   \n",
       "4    stern m; hellwege hh; grvinghoff l; lambrecht w   \n",
       "\n",
       "                                       affiliation_1 affiliation_2  \\\n",
       "0  department of neuropsychiatry  osaka universit...         osaka   \n",
       "1  newborn division  the los angeles countyuniver...            ca   \n",
       "2  department of paediatrics  karolinska hospital...     stockholm   \n",
       "3  division of cardiology  sleep disorders clinic...            ca   \n",
       "4  departments of paediatrics and surgery  univer...       hamburg   \n",
       "\n",
       "         country  \n",
       "0          japan  \n",
       "1  united states  \n",
       "2         sweden  \n",
       "3  united states  \n",
       "4        germany  "
      ]
     },
     "execution_count": 4,
     "metadata": {},
     "output_type": "execute_result"
    }
   ],
   "source": [
    "df.head()"
   ]
  },
  {
   "cell_type": "code",
   "execution_count": 28,
   "metadata": {},
   "outputs": [
    {
     "data": {
      "text/plain": [
       "<matplotlib.axes._subplots.AxesSubplot at 0x1d85e3d0358>"
      ]
     },
     "execution_count": 28,
     "metadata": {},
     "output_type": "execute_result"
    },
    {
     "data": {
      "image/png": "[encoded data removed]",
      "text/plain": [
       "<Figure size 432x288 with 1 Axes>"
      ]
     },
     "metadata": {
      "needs_background": "light"
     },
     "output_type": "display_data"
    }
   ],
   "source": [
    "df.plot(kind='scatter', x='year', y='key_id')"
   ]
  },
  {
   "cell_type": "code",
   "execution_count": 249,
   "metadata": {},
   "outputs": [],
   "source": [
    "sm_df=df[(df['art_year']<1990)]"
   ]
  },
  {
   "cell_type": "code",
   "execution_count": 157,
   "metadata": {},
   "outputs": [],
   "source": [
    "key_list = pd.read_csv('dataset/apnea-distinct_keyword.csv')"
   ]
  },
  {
   "cell_type": "code",
   "execution_count": 158,
   "metadata": {},
   "outputs": [
    {
     "data": {
      "text/plain": [
       "'2-arachidonyl-glycerol'"
      ]
     },
     "execution_count": 158,
     "metadata": {},
     "output_type": "execute_result"
    }
   ],
   "source": [
    "key_list.query('id==50')['keyword'].iloc[0]"
   ]
  },
  {
   "cell_type": "code",
   "execution_count": 250,
   "metadata": {
    "scrolled": true
   },
   "outputs": [
    {
     "name": "stderr",
     "output_type": "stream",
     "text": [
      "C:\\Users\\faisal\\Anaconda3\\lib\\site-packages\\ipykernel_launcher.py:1: SettingWithCopyWarning: \n",
      "A value is trying to be set on a copy of a slice from a DataFrame.\n",
      "Try using .loc[row_indexer,col_indexer] = value instead\n",
      "\n",
      "See the caveats in the documentation: http://pandas.pydata.org/pandas-docs/stable/indexing.html#indexing-view-versus-copy\n",
      "  \"\"\"Entry point for launching an IPython kernel.\n"
     ]
    }
   ],
   "source": [
    "sm_df[\"keyword\"]= sm_df[\"keyword\"].str.split(\"; \", n = 20, expand = False) "
   ]
  },
  {
   "cell_type": "code",
   "execution_count": 160,
   "metadata": {},
   "outputs": [],
   "source": [
    "p=key_list[key_list['keyword']==sm_df[\"keyword\"][2][1]]['id'].iloc[0]"
   ]
  },
  {
   "cell_type": "code",
   "execution_count": 161,
   "metadata": {},
   "outputs": [
    {
     "name": "stdout",
     "output_type": "stream",
     "text": [
      "10649\n"
     ]
    }
   ],
   "source": [
    "print(p)"
   ]
  },
  {
   "cell_type": "code",
   "execution_count": 162,
   "metadata": {},
   "outputs": [
    {
     "data": {
      "text/plain": [
       "['hirschprung disease', 'ondine curse', 'pulmonary hypertension']"
      ]
     },
     "execution_count": 162,
     "metadata": {},
     "output_type": "execute_result"
    }
   ],
   "source": [
    "sm_df.keyword[4]"
   ]
  },
  {
   "cell_type": "code",
   "execution_count": 163,
   "metadata": {},
   "outputs": [],
   "source": [
    "gp=nx.MultiGraph()\n",
    "for index, row in sm_df.iterrows():\n",
    "    for key in row[\"keyword\"]:\n",
    "        key_id=key_list[key_list['keyword']==key]['id'].iloc[0]\n",
    "        gp.add_node(key_id)"
   ]
  },
  {
   "cell_type": "code",
   "execution_count": 164,
   "metadata": {},
   "outputs": [],
   "source": [
    "edge_list=[]\n",
    "for index, row in sm_df.iterrows():\n",
    "    edges=list(itertools.combinations(row[\"keyword\"], 2))\n",
    "    for edge in edges:\n",
    "        node1=key_list[key_list['keyword']==edge[0]]['id'].iloc[0]\n",
    "        node2=key_list[key_list['keyword']==edge[1]]['id'].iloc[0]\n",
    "        #print(edge[0],edge[1],node1,node2,row[\"art_id\"],row[\"art_year\"])\n",
    "        edge_list.append((node1,node2))\n",
    "        gp.add_edge(node1,node2,art_id=row[\"art_id\"],year=row[\"art_year\"])\n",
    "#print(edge_list)\n",
    "#gp.add_edges_from(edge_list)"
   ]
  },
  {
   "cell_type": "code",
   "execution_count": 165,
   "metadata": {},
   "outputs": [
    {
     "data": {
      "text/plain": [
       "<matplotlib.collections.LineCollection at 0x200ad2a0630>"
      ]
     },
     "execution_count": 165,
     "metadata": {},
     "output_type": "execute_result"
    },
    {
     "data": {
      "image/png": "[encoded data removed]",
      "text/plain": [
       "<Figure size 432x288 with 1 Axes>"
      ]
     },
     "metadata": {
      "needs_background": "light"
     },
     "output_type": "display_data"
    }
   ],
   "source": [
    "nx.draw_networkx_nodes(gp, pos, node_size=50)\n",
    "nx.draw_networkx_edges(gp, pos, edgelist=edge_list,width=2)"
   ]
  },
  {
   "cell_type": "code",
   "execution_count": 166,
   "metadata": {},
   "outputs": [
    {
     "name": "stdout",
     "output_type": "stream",
     "text": [
      "[[3962, 5684, 11948], [3962, 11948]]\n"
     ]
    }
   ],
   "source": [
    "paths = nx.all_simple_paths(gp, source=3962, target=11948, cutoff=6)\n",
    "print(list(paths))"
   ]
  },
  {
   "cell_type": "code",
   "execution_count": 196,
   "metadata": {},
   "outputs": [
    {
     "data": {
      "text/plain": [
       "MultiEdgeDataView([(6716, 12784), (6716, 2079), (6716, 3392), (6716, 3392), (6716, 6539), (6716, 6539), (6716, 6539), (6716, 10649), (6716, 12542), (6716, 12485), (6716, 6574), (6716, 6651), (6716, 6651), (6716, 2338), (6539, 6574), (6539, 6574), (6539, 15497), (6539, 2079), (6539, 3392), (6539, 3392), (6539, 10649), (6539, 12542), (6539, 6651), (6539, 6651), (6539, 2338)])"
      ]
     },
     "execution_count": 196,
     "metadata": {},
     "output_type": "execute_result"
    }
   ],
   "source": [
    "gp.edges([6716,6539])"
   ]
  },
  {
   "cell_type": "code",
   "execution_count": 203,
   "metadata": {},
   "outputs": [],
   "source": [
    "for n in gp.edges.data():\n",
    "    df.head()"
   ]
  },
  {
   "cell_type": "code",
   "execution_count": 204,
   "metadata": {},
   "outputs": [
    {
     "data": {
      "text/plain": [
       "[12784, 2079, 3392, 6539, 10649, 12542, 12485, 6574, 6651, 2338]"
      ]
     },
     "execution_count": 204,
     "metadata": {},
     "output_type": "execute_result"
    }
   ],
   "source": [
    "[n for n in gp.neighbors(6716)]\n"
   ]
  },
  {
   "cell_type": "code",
   "execution_count": 253,
   "metadata": {},
   "outputs": [],
   "source": [
    "def keyword_split(df):\n",
    "    df[\"keyword\"]= df[\"keyword\"].str.split(\"; \", n = 20, expand = False)  \n",
    "    return df"
   ]
  },
  {
   "cell_type": "code",
   "execution_count": 254,
   "metadata": {},
   "outputs": [],
   "source": [
    "def node_key_find(kl,label):\n",
    "    key=kl[kl['keyword']==label]['id'].iloc[0]\n",
    "    return key\n",
    "\n",
    "def node_label_find(kl,key):\n",
    "    label=kl[kl['id']==key]['keyword'].iloc[0]\n",
    "    return label    "
   ]
  },
  {
   "cell_type": "code",
   "execution_count": 1088,
   "metadata": {},
   "outputs": [],
   "source": [
    "def nodes_intersection(df,kl,t0,t1,t2):\n",
    "    prelist=[]\n",
    "    postlist=[]\n",
    "    pre_df=df[(df['art_year']>=t0)&(df['art_year']<t1)]\n",
    "    post_df=df[(df['art_year']>=t1)&(df['art_year']<t2)]\n",
    "    for index, row in pre_df.iterrows():\n",
    "        for label in row[\"keyword\"]:\n",
    "            node_id=node_key_find(kl,label)\n",
    "            prelist.append(node_id)\n",
    "    for index, row in post_df.iterrows():\n",
    "        for label in row[\"keyword\"]:\n",
    "            node_id=node_key_find(kl,label)\n",
    "            postlist.append(node_id)\n",
    "    return set(prelist).intersection(set(postlist))"
   ]
  },
  {
   "cell_type": "code",
   "execution_count": 1089,
   "metadata": {},
   "outputs": [],
   "source": [
    "def build_graph(g,df,kl,nodes,t0,t1):\n",
    "    g_df=df[(df['art_year']>=t0)&(df['art_year']<t1)]\n",
    "    #node insert\n",
    "    for index, row in g_df.iterrows():\n",
    "        for label in row[\"keyword\"]:\n",
    "            node_id=node_key_find(kl,label)\n",
    "            if node_id in nodes:\n",
    "                g.add_node(node_id,art_id=row[\"art_id\"])\n",
    "    #edge insert\n",
    "    for index, row in g_df.iterrows():\n",
    "        edges=list(itertools.combinations(row[\"keyword\"], 2))\n",
    "        for edge in edges:\n",
    "            node1=node_key_find(kl,edge[0])\n",
    "            node2=node_key_find(kl,edge[1])\n",
    "            if (node1 in nodes) and (node2 in nodes) and (node1!=node2):\n",
    "                g.add_edge(node1,node2,art_id=row[\"art_id\"],year=row[\"art_year\"])\n",
    "    return g"
   ]
  },
  {
   "cell_type": "code",
   "execution_count": 1156,
   "metadata": {},
   "outputs": [],
   "source": [
    "def node_and_article_feature(df,kl,nodes,g,t0,t1):\n",
    "    f_df=df[(df['art_year']>=t0)&(df['art_year']<t1)]\n",
    "    article_set= set([article for node,article in g.node(data='art_id')])\n",
    "    article_index=list(article_set)\n",
    "    node_index=list(nodes)\n",
    "    td=np.zeros((len(g.nodes()), len(article_set)))\n",
    "    for index,row in f_df.iterrows():\n",
    "        for key in row[1]:\n",
    "            node_key = node_key_find(kl,key)\n",
    "            if (row[0] in article_set) and (node_key in nodes):\n",
    "                td[node_index.index(node_key)][ar_index.index(row[0])]=1\n",
    "    #document centrality feature \n",
    "    ca,cn=document_centrality(td,20)\n",
    "    node_feature=pd.DataFrame({'node_index':node_index,'term_centrality':cn})\n",
    "    article_feature=pd.DataFrame({'article_index':ar_index,'article_centrality_on_node':ca})\n",
    "    return node_feature,article_feature"
   ]
  },
  {
   "cell_type": "code",
   "execution_count": 1157,
   "metadata": {},
   "outputs": [],
   "source": [
    "def classification_data(df,kl,nodes,g_train,g_test,t0,t1):\n",
    "    all_node_pairs = set(pair for pair in itertools.combinations(nodes,2))\n",
    "    all_node_pairs = set((a,b) if a<=b else (b,a) for a,b in all_node_pairs)\n",
    "    all_train_edges=set(g_train.edges(keys=False))\n",
    "    all_train_edges = set((a,b) if a<=b else (b,a) for a,b in all_train_edges)\n",
    "    all_test_edges=set(g_test.edges(keys=False))\n",
    "    all_test_edges = set((a,b) if a<=b else (b,a) for a,b in all_test_edges)\n",
    "    train_rows = list(all_node_pairs.difference(all_train_edges))\n",
    "    train_labels= [1 if row in all_test_edges else 0 for row in train_rows]\n",
    "    train_data = pd.DataFrame({'row_name':train_rows,'label':train_labels})\n",
    "    test_data = pd.DataFrame({'row_name':list(all_test_edges)})\n",
    "    \n",
    "    #node and article feature\n",
    "    node_feature,article_feature = node_and_article_feature(df,kl,nodes,g_train,t0,t1)\n",
    "    return train_data,test_data"
   ]
  },
  {
   "cell_type": "code",
   "execution_count": 1158,
   "metadata": {},
   "outputs": [],
   "source": [
    "train,test=classification_data(sm_df,key_list,nodes,g_train,g_test,1970,1990)"
   ]
  },
  {
   "cell_type": "code",
   "execution_count": 1093,
   "metadata": {},
   "outputs": [
    {
     "name": "stderr",
     "output_type": "stream",
     "text": [
      "C:\\Users\\faisal\\Anaconda3\\lib\\site-packages\\ipykernel_launcher.py:2: SettingWithCopyWarning: \n",
      "A value is trying to be set on a copy of a slice from a DataFrame.\n",
      "Try using .loc[row_indexer,col_indexer] = value instead\n",
      "\n",
      "See the caveats in the documentation: http://pandas.pydata.org/pandas-docs/stable/indexing.html#indexing-view-versus-copy\n",
      "  \n"
     ]
    }
   ],
   "source": [
    "df = pd.read_csv('dataset/apnea-all,3.csv')\n",
    "key_list = pd.read_csv('dataset/apnea-distinct_keyword.csv')\n",
    "article_keywords = pd.read_csv('dataset/apnea-art_id,keyword,key_id,3.csv')\n",
    "sm_df=df[(df['art_year']<2000)]\n",
    "sm_df=keyword_split(sm_df)"
   ]
  },
  {
   "cell_type": "code",
   "execution_count": 1095,
   "metadata": {},
   "outputs": [
    {
     "data": {
      "text/plain": [
       "165"
      ]
     },
     "execution_count": 1095,
     "metadata": {},
     "output_type": "execute_result"
    }
   ],
   "source": [
    "nodes=nodes_intersection(sm_df,key_list,1970,1990,2020)\n",
    "len(nodes)"
   ]
  },
  {
   "cell_type": "code",
   "execution_count": 1094,
   "metadata": {},
   "outputs": [],
   "source": [
    "g=nx.MultiGraph()\n",
    "g_train=build_graph(g,sm_df,key_list,nodes,1970,1990)\n",
    "g=nx.MultiGraph()\n",
    "g_test=build_graph(g,sm_df,key_list,nodes,1990,2000)"
   ]
  },
  {
   "cell_type": "code",
   "execution_count": 364,
   "metadata": {},
   "outputs": [
    {
     "name": "stdout",
     "output_type": "stream",
     "text": [
      "282 757 165 165\n"
     ]
    }
   ],
   "source": [
    "print(len(g_train.edges()),len(g_test.edges()),len(g_train.nodes()),len(g_test.nodes()))"
   ]
  },
  {
   "cell_type": "code",
   "execution_count": 1098,
   "metadata": {},
   "outputs": [
    {
     "name": "stderr",
     "output_type": "stream",
     "text": [
      "C:\\Users\\faisal\\PycharmProjects\\linkPrediction\\documentCentrality.py:22: RuntimeWarning: divide by zero encountered in true_divide\n",
      "  k[:, i] = (1 / k0).transpose() * td.transpose().dot(l[:, i - 1])\n",
      "C:\\Users\\faisal\\PycharmProjects\\linkPrediction\\documentCentrality.py:22: RuntimeWarning: invalid value encountered in multiply\n",
      "  k[:, i] = (1 / k0).transpose() * td.transpose().dot(l[:, i - 1])\n",
      "C:\\Users\\faisal\\PycharmProjects\\linkPrediction\\documentCentrality.py:23: RuntimeWarning: divide by zero encountered in true_divide\n",
      "  l[:, i] = (1 / l0) * td.dot(k[:, i - 1])\n",
      "C:\\Users\\faisal\\PycharmProjects\\linkPrediction\\documentCentrality.py:23: RuntimeWarning: invalid value encountered in multiply\n",
      "  l[:, i] = (1 / l0) * td.dot(k[:, i - 1])\n",
      "C:\\Users\\faisal\\PycharmProjects\\linkPrediction\\documentCentrality.py:27: RuntimeWarning: Mean of empty slice\n",
      "  x1 = (x1 - np.nanmean(x1)) / np.nanstd(x1, ddof=1)\n",
      "C:\\Users\\faisal\\Anaconda3\\lib\\site-packages\\numpy\\lib\\nanfunctions.py:1545: RuntimeWarning: Degrees of freedom <= 0 for slice.\n",
      "  keepdims=keepdims)\n",
      "C:\\Users\\faisal\\PycharmProjects\\linkPrediction\\documentCentrality.py:30: RuntimeWarning: Mean of empty slice\n",
      "  x2 = (x2 - np.nanmean(x2)) / np.nanstd(x2, ddof=1)\n",
      "C:\\Users\\faisal\\PycharmProjects\\linkPrediction\\documentCentrality.py:35: RuntimeWarning: Mean of empty slice\n",
      "  x1 = (x1 - np.nanmean(x1)) / np.nanstd(x1, ddof=1)\n",
      "C:\\Users\\faisal\\PycharmProjects\\linkPrediction\\documentCentrality.py:38: RuntimeWarning: Mean of empty slice\n",
      "  x2 = (x2 - np.nanmean(x2)) / np.nanstd(x2, ddof=1)\n"
     ]
    },
    {
     "ename": "ValueError",
     "evalue": "arrays must all be same length",
     "output_type": "error",
     "traceback": [
      "\u001b[1;31m---------------------------------------------------------------------------\u001b[0m",
      "\u001b[1;31mValueError\u001b[0m                                Traceback (most recent call last)",
      "\u001b[1;32m<ipython-input-1098-a6c171f56fe2>\u001b[0m in \u001b[0;36m<module>\u001b[1;34m()\u001b[0m\n\u001b[1;32m----> 1\u001b[1;33m \u001b[0mtrain\u001b[0m\u001b[1;33m,\u001b[0m\u001b[0mtest\u001b[0m\u001b[1;33m=\u001b[0m\u001b[0mclassification_data\u001b[0m\u001b[1;33m(\u001b[0m\u001b[0msm_df\u001b[0m\u001b[1;33m,\u001b[0m\u001b[0mkey_list\u001b[0m\u001b[1;33m,\u001b[0m\u001b[0mnodes\u001b[0m\u001b[1;33m,\u001b[0m\u001b[0mg_train\u001b[0m\u001b[1;33m,\u001b[0m\u001b[0mg_test\u001b[0m\u001b[1;33m,\u001b[0m\u001b[1;36m1970\u001b[0m\u001b[1;33m,\u001b[0m\u001b[1;36m1990\u001b[0m\u001b[1;33m)\u001b[0m\u001b[1;33m\u001b[0m\u001b[0m\n\u001b[0m",
      "\u001b[1;32m<ipython-input-1097-1cc509c78c0f>\u001b[0m in \u001b[0;36mclassification_data\u001b[1;34m(df, kl, nodes, g_train, g_test, t0, t1)\u001b[0m\n\u001b[0;32m     12\u001b[0m \u001b[1;33m\u001b[0m\u001b[0m\n\u001b[0;32m     13\u001b[0m     \u001b[1;31m#node and article feature\u001b[0m\u001b[1;33m\u001b[0m\u001b[1;33m\u001b[0m\u001b[0m\n\u001b[1;32m---> 14\u001b[1;33m     \u001b[0mnode_feature\u001b[0m\u001b[1;33m,\u001b[0m\u001b[0marticle_feature\u001b[0m\u001b[1;33m=\u001b[0m\u001b[0mnode_and_article_feature\u001b[0m\u001b[1;33m(\u001b[0m\u001b[0mdf\u001b[0m\u001b[1;33m,\u001b[0m\u001b[0mkl\u001b[0m\u001b[1;33m,\u001b[0m\u001b[0mnodes\u001b[0m\u001b[1;33m,\u001b[0m\u001b[0mg\u001b[0m\u001b[1;33m,\u001b[0m\u001b[0mt0\u001b[0m\u001b[1;33m,\u001b[0m\u001b[0mt1\u001b[0m\u001b[1;33m)\u001b[0m\u001b[1;33m\u001b[0m\u001b[0m\n\u001b[0m\u001b[0;32m     15\u001b[0m     \u001b[1;32mreturn\u001b[0m \u001b[0mtrain_data\u001b[0m\u001b[1;33m,\u001b[0m\u001b[0mtest_data\u001b[0m\u001b[1;33m\u001b[0m\u001b[0m\n",
      "\u001b[1;32m<ipython-input-1091-0f186fb6fdd9>\u001b[0m in \u001b[0;36mnode_and_article_feature\u001b[1;34m(df, kl, nodes, g, t0, t1)\u001b[0m\n\u001b[0;32m     13\u001b[0m     \u001b[0mca\u001b[0m\u001b[1;33m,\u001b[0m\u001b[0mcn\u001b[0m\u001b[1;33m=\u001b[0m\u001b[0mdocument_centrality\u001b[0m\u001b[1;33m(\u001b[0m\u001b[0mtd\u001b[0m\u001b[1;33m,\u001b[0m\u001b[1;36m20\u001b[0m\u001b[1;33m)\u001b[0m\u001b[1;33m\u001b[0m\u001b[0m\n\u001b[0;32m     14\u001b[0m     \u001b[0mnode_feature\u001b[0m\u001b[1;33m=\u001b[0m\u001b[0mpd\u001b[0m\u001b[1;33m.\u001b[0m\u001b[0mDataFrame\u001b[0m\u001b[1;33m(\u001b[0m\u001b[1;33m{\u001b[0m\u001b[1;34m'node_index'\u001b[0m\u001b[1;33m:\u001b[0m\u001b[0mnode_index\u001b[0m\u001b[1;33m,\u001b[0m\u001b[1;34m'term_centrality'\u001b[0m\u001b[1;33m:\u001b[0m\u001b[0mcn\u001b[0m\u001b[1;33m}\u001b[0m\u001b[1;33m)\u001b[0m\u001b[1;33m\u001b[0m\u001b[0m\n\u001b[1;32m---> 15\u001b[1;33m     \u001b[0marticle_feature\u001b[0m\u001b[1;33m=\u001b[0m\u001b[0mpd\u001b[0m\u001b[1;33m.\u001b[0m\u001b[0mDataFrame\u001b[0m\u001b[1;33m(\u001b[0m\u001b[1;33m{\u001b[0m\u001b[1;34m'article_index'\u001b[0m\u001b[1;33m:\u001b[0m\u001b[0mar_index\u001b[0m\u001b[1;33m,\u001b[0m\u001b[1;34m'article_centrality_on_node'\u001b[0m\u001b[1;33m:\u001b[0m\u001b[0mca\u001b[0m\u001b[1;33m}\u001b[0m\u001b[1;33m)\u001b[0m\u001b[1;33m\u001b[0m\u001b[0m\n\u001b[0m\u001b[0;32m     16\u001b[0m     \u001b[1;32mreturn\u001b[0m \u001b[0mnode_feature\u001b[0m\u001b[1;33m,\u001b[0m\u001b[0marticle_feature\u001b[0m\u001b[1;33m\u001b[0m\u001b[0m\n",
      "\u001b[1;32m~\\Anaconda3\\lib\\site-packages\\pandas\\core\\frame.py\u001b[0m in \u001b[0;36m__init__\u001b[1;34m(self, data, index, columns, dtype, copy)\u001b[0m\n\u001b[0;32m    346\u001b[0m                                  dtype=dtype, copy=copy)\n\u001b[0;32m    347\u001b[0m         \u001b[1;32melif\u001b[0m \u001b[0misinstance\u001b[0m\u001b[1;33m(\u001b[0m\u001b[0mdata\u001b[0m\u001b[1;33m,\u001b[0m \u001b[0mdict\u001b[0m\u001b[1;33m)\u001b[0m\u001b[1;33m:\u001b[0m\u001b[1;33m\u001b[0m\u001b[0m\n\u001b[1;32m--> 348\u001b[1;33m             \u001b[0mmgr\u001b[0m \u001b[1;33m=\u001b[0m \u001b[0mself\u001b[0m\u001b[1;33m.\u001b[0m\u001b[0m_init_dict\u001b[0m\u001b[1;33m(\u001b[0m\u001b[0mdata\u001b[0m\u001b[1;33m,\u001b[0m \u001b[0mindex\u001b[0m\u001b[1;33m,\u001b[0m \u001b[0mcolumns\u001b[0m\u001b[1;33m,\u001b[0m \u001b[0mdtype\u001b[0m\u001b[1;33m=\u001b[0m\u001b[0mdtype\u001b[0m\u001b[1;33m)\u001b[0m\u001b[1;33m\u001b[0m\u001b[0m\n\u001b[0m\u001b[0;32m    349\u001b[0m         \u001b[1;32melif\u001b[0m \u001b[0misinstance\u001b[0m\u001b[1;33m(\u001b[0m\u001b[0mdata\u001b[0m\u001b[1;33m,\u001b[0m \u001b[0mma\u001b[0m\u001b[1;33m.\u001b[0m\u001b[0mMaskedArray\u001b[0m\u001b[1;33m)\u001b[0m\u001b[1;33m:\u001b[0m\u001b[1;33m\u001b[0m\u001b[0m\n\u001b[0;32m    350\u001b[0m             \u001b[1;32mimport\u001b[0m \u001b[0mnumpy\u001b[0m\u001b[1;33m.\u001b[0m\u001b[0mma\u001b[0m\u001b[1;33m.\u001b[0m\u001b[0mmrecords\u001b[0m \u001b[1;32mas\u001b[0m \u001b[0mmrecords\u001b[0m\u001b[1;33m\u001b[0m\u001b[0m\n",
      "\u001b[1;32m~\\Anaconda3\\lib\\site-packages\\pandas\\core\\frame.py\u001b[0m in \u001b[0;36m_init_dict\u001b[1;34m(self, data, index, columns, dtype)\u001b[0m\n\u001b[0;32m    457\u001b[0m             \u001b[0marrays\u001b[0m \u001b[1;33m=\u001b[0m \u001b[1;33m[\u001b[0m\u001b[0mdata\u001b[0m\u001b[1;33m[\u001b[0m\u001b[0mk\u001b[0m\u001b[1;33m]\u001b[0m \u001b[1;32mfor\u001b[0m \u001b[0mk\u001b[0m \u001b[1;32min\u001b[0m \u001b[0mkeys\u001b[0m\u001b[1;33m]\u001b[0m\u001b[1;33m\u001b[0m\u001b[0m\n\u001b[0;32m    458\u001b[0m \u001b[1;33m\u001b[0m\u001b[0m\n\u001b[1;32m--> 459\u001b[1;33m         \u001b[1;32mreturn\u001b[0m \u001b[0m_arrays_to_mgr\u001b[0m\u001b[1;33m(\u001b[0m\u001b[0marrays\u001b[0m\u001b[1;33m,\u001b[0m \u001b[0mdata_names\u001b[0m\u001b[1;33m,\u001b[0m \u001b[0mindex\u001b[0m\u001b[1;33m,\u001b[0m \u001b[0mcolumns\u001b[0m\u001b[1;33m,\u001b[0m \u001b[0mdtype\u001b[0m\u001b[1;33m=\u001b[0m\u001b[0mdtype\u001b[0m\u001b[1;33m)\u001b[0m\u001b[1;33m\u001b[0m\u001b[0m\n\u001b[0m\u001b[0;32m    460\u001b[0m \u001b[1;33m\u001b[0m\u001b[0m\n\u001b[0;32m    461\u001b[0m     \u001b[1;32mdef\u001b[0m \u001b[0m_init_ndarray\u001b[0m\u001b[1;33m(\u001b[0m\u001b[0mself\u001b[0m\u001b[1;33m,\u001b[0m \u001b[0mvalues\u001b[0m\u001b[1;33m,\u001b[0m \u001b[0mindex\u001b[0m\u001b[1;33m,\u001b[0m \u001b[0mcolumns\u001b[0m\u001b[1;33m,\u001b[0m \u001b[0mdtype\u001b[0m\u001b[1;33m=\u001b[0m\u001b[1;32mNone\u001b[0m\u001b[1;33m,\u001b[0m \u001b[0mcopy\u001b[0m\u001b[1;33m=\u001b[0m\u001b[1;32mFalse\u001b[0m\u001b[1;33m)\u001b[0m\u001b[1;33m:\u001b[0m\u001b[1;33m\u001b[0m\u001b[0m\n",
      "\u001b[1;32m~\\Anaconda3\\lib\\site-packages\\pandas\\core\\frame.py\u001b[0m in \u001b[0;36m_arrays_to_mgr\u001b[1;34m(arrays, arr_names, index, columns, dtype)\u001b[0m\n\u001b[0;32m   7354\u001b[0m     \u001b[1;31m# figure out the index, if necessary\u001b[0m\u001b[1;33m\u001b[0m\u001b[1;33m\u001b[0m\u001b[0m\n\u001b[0;32m   7355\u001b[0m     \u001b[1;32mif\u001b[0m \u001b[0mindex\u001b[0m \u001b[1;32mis\u001b[0m \u001b[1;32mNone\u001b[0m\u001b[1;33m:\u001b[0m\u001b[1;33m\u001b[0m\u001b[0m\n\u001b[1;32m-> 7356\u001b[1;33m         \u001b[0mindex\u001b[0m \u001b[1;33m=\u001b[0m \u001b[0mextract_index\u001b[0m\u001b[1;33m(\u001b[0m\u001b[0marrays\u001b[0m\u001b[1;33m)\u001b[0m\u001b[1;33m\u001b[0m\u001b[0m\n\u001b[0m\u001b[0;32m   7357\u001b[0m \u001b[1;33m\u001b[0m\u001b[0m\n\u001b[0;32m   7358\u001b[0m     \u001b[1;31m# don't force copy because getting jammed in an ndarray anyway\u001b[0m\u001b[1;33m\u001b[0m\u001b[1;33m\u001b[0m\u001b[0m\n",
      "\u001b[1;32m~\\Anaconda3\\lib\\site-packages\\pandas\\core\\frame.py\u001b[0m in \u001b[0;36mextract_index\u001b[1;34m(data)\u001b[0m\n\u001b[0;32m   7400\u001b[0m             \u001b[0mlengths\u001b[0m \u001b[1;33m=\u001b[0m \u001b[0mlist\u001b[0m\u001b[1;33m(\u001b[0m\u001b[0mset\u001b[0m\u001b[1;33m(\u001b[0m\u001b[0mraw_lengths\u001b[0m\u001b[1;33m)\u001b[0m\u001b[1;33m)\u001b[0m\u001b[1;33m\u001b[0m\u001b[0m\n\u001b[0;32m   7401\u001b[0m             \u001b[1;32mif\u001b[0m \u001b[0mlen\u001b[0m\u001b[1;33m(\u001b[0m\u001b[0mlengths\u001b[0m\u001b[1;33m)\u001b[0m \u001b[1;33m>\u001b[0m \u001b[1;36m1\u001b[0m\u001b[1;33m:\u001b[0m\u001b[1;33m\u001b[0m\u001b[0m\n\u001b[1;32m-> 7402\u001b[1;33m                 \u001b[1;32mraise\u001b[0m \u001b[0mValueError\u001b[0m\u001b[1;33m(\u001b[0m\u001b[1;34m'arrays must all be same length'\u001b[0m\u001b[1;33m)\u001b[0m\u001b[1;33m\u001b[0m\u001b[0m\n\u001b[0m\u001b[0;32m   7403\u001b[0m \u001b[1;33m\u001b[0m\u001b[0m\n\u001b[0;32m   7404\u001b[0m             \u001b[1;32mif\u001b[0m \u001b[0mhave_dicts\u001b[0m\u001b[1;33m:\u001b[0m\u001b[1;33m\u001b[0m\u001b[0m\n",
      "\u001b[1;31mValueError\u001b[0m: arrays must all be same length"
     ]
    }
   ],
   "source": [
    "train,test=classification_data(sm_df,key_list,nodes,g_train,g_test,1970,1990)"
   ]
  },
  {
   "cell_type": "code",
   "execution_count": 531,
   "metadata": {},
   "outputs": [],
   "source": [
    "article_id = list(df['art_id'])"
   ]
  },
  {
   "cell_type": "code",
   "execution_count": 875,
   "metadata": {
    "scrolled": true
   },
   "outputs": [],
   "source": [
    "article_list=set([weight for u,v,keys,weight in g_train.edges(data='art_id', keys=True)])"
   ]
  },
  {
   "cell_type": "code",
   "execution_count": 570,
   "metadata": {},
   "outputs": [
    {
     "data": {
      "text/plain": [
       "(165, 108)"
      ]
     },
     "execution_count": 570,
     "metadata": {},
     "output_type": "execute_result"
    }
   ],
   "source": [
    "len(article_list)\n",
    "len(g_train.nodes())\n",
    "ar_\n",
    "td=np.zeros((len(g_train.nodes()), len(article_list)))\n",
    "np.shape(td)"
   ]
  },
  {
   "cell_type": "code",
   "execution_count": 1000,
   "metadata": {},
   "outputs": [
    {
     "data": {
      "text/plain": [
       "410"
      ]
     },
     "execution_count": 1000,
     "metadata": {},
     "output_type": "execute_result"
    }
   ],
   "source": []
  },
  {
   "cell_type": "code",
   "execution_count": 974,
   "metadata": {},
   "outputs": [],
   "source": []
  },
  {
   "cell_type": "code",
   "execution_count": 966,
   "metadata": {},
   "outputs": [],
   "source": [
    "article_set= set([article for node,article in g_train.node(data='art_id')])\n",
    "article_index=list(article_list)\n",
    "node_index=list(nodes)\n",
    "td=np.zeros((len(g_train.nodes()), len(article_list)))\n",
    "np.shape(td)\n",
    "for node,article in g_train.node(data='art_id'):\n",
    "    td[node_index.index(node)][article_index.index(article)]=1"
   ]
  },
  {
   "cell_type": "code",
   "execution_count": 1008,
   "metadata": {},
   "outputs": [
    {
     "data": {
      "text/plain": [
       "0"
      ]
     },
     "execution_count": 1008,
     "metadata": {},
     "output_type": "execute_result"
    }
   ],
   "source": [
    "l0 = td.sum(axis=0)\n",
    "len(article_set.difference(set(nd)))"
   ]
  },
  {
   "cell_type": "code",
   "execution_count": 1019,
   "metadata": {},
   "outputs": [
    {
     "data": {
      "text/plain": [
       "165"
      ]
     },
     "execution_count": 1019,
     "metadata": {},
     "output_type": "execute_result"
    }
   ],
   "source": [
    "ar_index=list(article_list)\n",
    "node_index=list(g_train.nodes())\n",
    "td=np.zeros((len(node_index), len(ar_index)))\n",
    "len(node_index)"
   ]
  },
  {
   "cell_type": "code",
   "execution_count": 1020,
   "metadata": {},
   "outputs": [],
   "source": [
    "n=[]\n",
    "for index,row in article_keywords.iterrows():\n",
    "    if row['key_id'] in set(nodes) and row['article_id'] in set(ar_index):\n",
    "        #td[node_index.index(row['key_id'])][ar_index.index(row['article_id'])]=1\n",
    "        n.append(row['article_id'])\n",
    "nd=[]\n",
    "nd1=[]\n",
    "nd2=[]\n",
    "for index,row in sm_df[(sm_df['art_year']<1990)].iterrows():\n",
    "    for key in row[1]:\n",
    "        if (row[0] in article_set) and (node_key_find(key_list,key) in nodes):\n",
    "            td[node_index.index(node_key_find(key_list,key))][ar_index.index(row[0])]=1"
   ]
  },
  {
   "cell_type": "code",
   "execution_count": 1084,
   "metadata": {},
   "outputs": [],
   "source": [
    "def node_and_article_feature(df,kl,nodes,g,t1,t2):\n",
    "    f_df=df[(df['art_year']>=t1)&(df['art_year']<t2)]\n",
    "    article_set= set([article for node,article in g.node(data='art_id')])\n",
    "    article_index=list(article_set)\n",
    "    node_index=list(nodes)\n",
    "    td=np.zeros((len(g.nodes()), len(article_set)))\n",
    "    for index,row in f_df.iterrows():\n",
    "        for key in row[1]:\n",
    "            node_key = node_key_find(kl,key)\n",
    "            if (row[0] in article_set) and (node_key in nodes):\n",
    "                td[node_index.index(node_key)][ar_index.index(row[0])]=1\n",
    "    ca,cn=document_centrality(td,20)\n",
    "    node_feature=pd.DataFrame({'node_index':node_index,'term_centrality':cn})\n",
    "    article_feature=pd.DataFrame({'article_index':ar_index,'article_centrality_on_node':ca})\n",
    "    return node_feature,article_feature"
   ]
  },
  {
   "cell_type": "code",
   "execution_count": 1085,
   "metadata": {},
   "outputs": [
    {
     "data": {
      "text/plain": [
       "(     node_index  term_centrality\n",
       " 0         14850         2.399666\n",
       " 1          3591         1.120377\n",
       " 2          4623        -1.584315\n",
       " 3         14867         1.864043\n",
       " 4          1044        -1.584315\n",
       " 5          2582         0.813509\n",
       " 6          9240         0.277603\n",
       " 7          2079         0.900133\n",
       " 8          1533        -1.056093\n",
       " 9         11299         0.791008\n",
       " 10         5668        -0.745255\n",
       " 11         2600        -1.584315\n",
       " 12         6702         1.642629\n",
       " 13         5167        -1.584315\n",
       " 14        15920        -1.584315\n",
       " 15        10801        -1.584315\n",
       " 16          562        -0.470670\n",
       " 17         8242        -0.880019\n",
       " 18         5684         0.153718\n",
       " 19         6200        -1.584315\n",
       " 20         6713        -1.584315\n",
       " 21        14395        -0.431356\n",
       " 22         6716         5.553398\n",
       " 23        15421        -1.584315\n",
       " 24        11841        -1.584315\n",
       " 25         2626        -0.521676\n",
       " 26         1091        -1.056101\n",
       " 27        15944        -1.584315\n",
       " 28        14408        -1.056093\n",
       " 29         2635        -1.584315\n",
       " ..          ...              ...\n",
       " 135         927         1.033738\n",
       " 136        2465        -1.584315\n",
       " 137        6574         2.599542\n",
       " 138        2479         0.791008\n",
       " 139        6581        -1.584315\n",
       " 140        9657        -1.584315\n",
       " 141        7610         1.192411\n",
       " 142        3003        -1.584315\n",
       " 143       12226        -0.177778\n",
       " 144       13767        -1.584315\n",
       " 145        3030         0.822666\n",
       " 146       10199        -1.584315\n",
       " 147       14296        -1.584315\n",
       " 148        8665        -1.584315\n",
       " 149        6616         2.179264\n",
       " 150        4065        -1.056101\n",
       " 151        6627        -1.056093\n",
       " 152       11239        -0.013215\n",
       " 153        9192        -1.584315\n",
       " 154        1513        -1.584315\n",
       " 155        1002        -1.584315\n",
       " 156       11752        -1.584315\n",
       " 157         494         0.578548\n",
       " 158        5614         1.151602\n",
       " 159       12784         1.120377\n",
       " 160       10740         0.768086\n",
       " 161        1012        -1.584315\n",
       " 162        9209        -1.584315\n",
       " 163        6651         4.096964\n",
       " 164       16381         4.926780\n",
       " \n",
       " [165 rows x 2 columns],      article_index  article_centrality_on_node\n",
       " 0           101888                    2.057871\n",
       " 1           101892                   -2.525996\n",
       " 2           101896                   -2.525996\n",
       " 3           101902                   -2.525996\n",
       " 4           102415                   -0.168349\n",
       " 5           101914                    3.158229\n",
       " 6            99867                   -2.525996\n",
       " 7            99872                    1.433448\n",
       " 8            99837                    1.474037\n",
       " 9           101926                    2.540197\n",
       " 10           99883                    2.256265\n",
       " 11          101931                   -2.525996\n",
       " 12           99376                   -2.525996\n",
       " 13          101937                   -2.525996\n",
       " 14          101938                    1.933056\n",
       " 15           99906                    3.530472\n",
       " 16           99399                   -2.525996\n",
       " 17          101960                    0.612849\n",
       " 18          101962                    3.145099\n",
       " 19           99402                    2.190308\n",
       " 20           99914                   -2.525996\n",
       " 21           99415                    1.986591\n",
       " 22           99421                    2.775280\n",
       " 23           99422                    1.592949\n",
       " 24          101981                    0.892339\n",
       " 25          101985                    1.639890\n",
       " 26          101992                    0.870663\n",
       " 27          100456                   -2.525996\n",
       " 28          100468                    1.981210\n",
       " 29          102004                   -2.525996\n",
       " ..             ...                         ...\n",
       " 84          102800                    2.486519\n",
       " 85          102802                    1.639890\n",
       " 86          100248                   -0.168349\n",
       " 87          100249                   -2.525996\n",
       " 88          102810                    1.122953\n",
       " 89          100257                   -1.230560\n",
       " 90          102818                    0.672821\n",
       " 91          102823                   -2.525996\n",
       " 92          102830                   -0.975186\n",
       " 93          102832                   -0.168349\n",
       " 94           99763                    3.188610\n",
       " 95          102836                    0.612849\n",
       " 96          102838                   -0.168349\n",
       " 97          102840                   -0.168349\n",
       " 98          102841                   -0.813892\n",
       " 99          101832                    1.392305\n",
       " 100         101838                    1.197635\n",
       " 101         101839                   -0.512979\n",
       " 102         101840                   -2.525996\n",
       " 103         100305                    1.297352\n",
       " 104         100312                    2.606077\n",
       " 105         100315                    1.433448\n",
       " 106         101852                   -2.525996\n",
       " 107         102369                    2.064293\n",
       " 108          99303                    0.864532\n",
       " 109         101864                   -1.836736\n",
       " 110         101869                   -2.525996\n",
       " 111          99836                    1.341254\n",
       " 112         102397                    1.219853\n",
       " 113         100351                   -2.525996\n",
       " \n",
       " [114 rows x 2 columns])"
      ]
     },
     "execution_count": 1085,
     "metadata": {},
     "output_type": "execute_result"
    }
   ],
   "source": [
    "node_and_article_feature(sm_df,key_list,nodes,g_train,1970,1990)"
   ]
  },
  {
   "cell_type": "code",
   "execution_count": 844,
   "metadata": {},
   "outputs": [
    {
     "name": "stdout",
     "output_type": "stream",
     "text": [
      "('hemodynamics', 'sleep apnea') 1981\n",
      "('palatopharyngoplasty', 'tracheostomy') 1982\n",
      "('apnea detection', 'tracheal sound analysis') 1983\n",
      "('cerebral blood flow', 'hemorheology') 1983\n",
      "('apnea detection', 'tracheal sound analysis') 1983\n",
      "('apnea detection', 'tracheal sound analysis') 1983\n",
      "('electrophysiology', 'reliability') 1984\n",
      "('measurement error', 'reliability') 1984\n",
      "('hypersomnia', 'nasal septum deviation') 1985\n",
      "('focal glomerular sclerosis', 'proteinuria') 1989\n"
     ]
    },
    {
     "data": {
      "text/plain": [
       "[]"
      ]
     },
     "execution_count": 844,
     "metadata": {},
     "output_type": "execute_result"
    }
   ],
   "source": [
    "for index, row in pre_df.iterrows():\n",
    "        edges=list(itertools.combinations(row[\"keyword\"], 2))\n",
    "        for edge in edges:\n",
    "            if edge[0] in set(kk) or edge[1] in set(kk):\n",
    "                s=node_key_find(kl,edge[0])\n",
    "                t=node_key_find(kl,edge[1])\n",
    "                #if (s in nodes and t in nodes):\n",
    "                print(edge,row['art_year'])\n",
    "list(g_train.neighbors(6200))"
   ]
  },
  {
   "cell_type": "code",
   "execution_count": 806,
   "metadata": {},
   "outputs": [],
   "source": [
    "kk=[]\n",
    "for dd in set(ncx).difference(n):\n",
    "    #print (node_label_find(kl,dd))\n",
    "    kk.append(node_label_find(kl,dd))\n"
   ]
  },
  {
   "cell_type": "code",
   "execution_count": 807,
   "metadata": {},
   "outputs": [
    {
     "data": {
      "text/plain": [
       "7"
      ]
     },
     "execution_count": 807,
     "metadata": {},
     "output_type": "execute_result"
    }
   ],
   "source": [
    "len(kk)"
   ]
  },
  {
   "cell_type": "code",
   "execution_count": 1045,
   "metadata": {},
   "outputs": [],
   "source": [
    "cd,ct=document_centrality(td,20)"
   ]
  },
  {
   "cell_type": "code",
   "execution_count": 1047,
   "metadata": {},
   "outputs": [
    {
     "name": "stdout",
     "output_type": "stream",
     "text": [
      "114 165\n"
     ]
    }
   ],
   "source": [
    "print(len(cd),len(ct))"
   ]
  },
  {
   "cell_type": "code",
   "execution_count": null,
   "metadata": {},
   "outputs": [],
   "source": []
  }
 ],
 "metadata": {
  "kernelspec": {
   "display_name": "Python 3",
   "language": "python",
   "name": "python3"
  },
  "language_info": {
   "codemirror_mode": {
    "name": "ipython",
    "version": 3
   },
   "file_extension": ".py",
   "mimetype": "text/x-python",
   "name": "python",
   "nbconvert_exporter": "python",
   "pygments_lexer": "ipython3",
   "version": "3.7.0"
  }
 },
 "nbformat": 4,
 "nbformat_minor": 2
}
