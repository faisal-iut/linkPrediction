{
 "cells": [
  {
   "cell_type": "code",
   "execution_count": 69,
   "metadata": {},
   "outputs": [],
   "source": [
    "import pandas as pd\n",
    "import numpy as np\n",
    "import networkx as nx\n",
    "import operator as op\n",
    "import itertools\n",
    "import matplotlib.pyplot as plt\n",
    "import numpy.linalg\n",
    "import cmath\n",
    "import multiprocessing\n",
    "import itertools\n",
    "import scipy.optimize as optimize\n",
    "from tabulate import tabulate\n",
    "\n",
    "%matplotlib inline"
   ]
  },
  {
   "cell_type": "code",
   "execution_count": 80,
   "metadata": {},
   "outputs": [],
   "source": [
    "def pretty_df(df):\n",
    "  print(tabulate(df, headers='keys', tablefmt=\"fancy_grid\"))"
   ]
  },
  {
   "cell_type": "code",
   "execution_count": 40,
   "metadata": {},
   "outputs": [],
   "source": [
    "#Dummy Data set\n",
    "dummy=pd.DataFrame([['t', 'c', 1988],\n",
    "                    ['c', 'g', 1989],\n",
    "                    ['a', 'c', 1989],\n",
    "                    ['g', 'a', 1990],\n",
    "                    ['a', 't', 1991],\n",
    "                    ['t', 'l', 1992],\n",
    "                    ['a', 'b', 1993],\n",
    "                    ['c', 'b', 1993],\n",
    "                    ['g', 'k', 1994],\n",
    "                    ['p', 'k', 1994],\n",
    "                    ['a', 'c', 1995],\n",
    "                    ['p', 'c', 1995],\n",
    "                    ['g', 'c', 1995],\n",
    "                    ['l', 'n', 1995],\n",
    "                    ['c', 't', 1995],\n",
    "                    ['p', 'r', 1996],\n",
    "                    ['p', 'k', 1996],\n",
    "                    ['t', 'a', 1996],\n",
    "                    ['r', 'l', 1997],\n",
    "                    ['g', 'w', 1997],\n",
    "                    ['r', 'c', 1998],\n",
    "                    ['p', 'q', 1998],\n",
    "                    ['r', 'g', 1998],\n",
    "                    ['a', 'p', 1999],\n",
    "                    ['r', 'p', 1998]],columns = [\"source_id\", \"target_id\", \"timestamp\"])    \n",
    "\n",
    "dummy.source_id = dummy.source_id.astype(str)\n",
    "dummy.target_id = dummy.target_id.astype(str)\n",
    "t_min=dummy.timestamp.min()\n",
    "t_max=dummy.timestamp.max()\n",
    "N=10\n",
    "dataset = dummy"
   ]
  },
  {
   "cell_type": "code",
   "execution_count": 3,
   "metadata": {},
   "outputs": [],
   "source": [
    "def create_intervals(dataset,N):\n",
    "\n",
    "\n",
    "    t_min=dataset.timestamp.min()\n",
    "    t_max=dataset.timestamp.max()\n",
    "\n",
    "\n",
    "    dt=(t_max-t_min)/N\n",
    "    \n",
    "    intervals=[]\n",
    "    for j in range(0,N):\n",
    "\n",
    "        #Start of time interval\n",
    "        tj=t_min + j*dt\n",
    "        \n",
    "        #End of time interval\n",
    "        tj1=t_min +(j+1)*dt\n",
    "\n",
    "        intervals.append([int(tj),int(tj1)])\n",
    "\n",
    "    return(intervals)"
   ]
  },
  {
   "cell_type": "code",
   "execution_count": 4,
   "metadata": {},
   "outputs": [],
   "source": [
    "class graph(object):\n",
    "    def __init__(self,dataset, t0,t1):\n",
    "        self.t0 = t0\n",
    "        self.t1 = t1\n",
    "        self.dataset = dataset\n",
    "        self.create_graph()\n",
    "        self.interval=[t0,t1]\n",
    "        \n",
    "    def create_graph(self):\n",
    "        self.batch = self.create_batch()\n",
    "        self.graph = nx.from_pandas_edgelist(self.batch, 'source_id', 'target_id')\n",
    "        \n",
    "\n",
    "    def create_batch(self):\n",
    "        \n",
    "        df_indexes=[]\n",
    "        index = 0\n",
    "        self.dataset = self.dataset.reset_index(drop=True)\n",
    "            \n",
    "        if self.t1 == self.dataset.timestamp.max():\n",
    "            while index < len(self.dataset)and self.dataset.timestamp[index]<=self.t1 :\n",
    "                if self.dataset.timestamp[index]>=self.t0:\n",
    "                    df_indexes.append(index)\n",
    "                    \n",
    "                index = index +1\n",
    "\n",
    "            batch = self.dataset.iloc[df_indexes]\n",
    "\n",
    "            return(batch)\n",
    "\n",
    "        else:\n",
    "            while index < len(self.dataset)and self.dataset.timestamp[index]<self.t1 :\n",
    "                if self.dataset.timestamp[index]>=self.t0:\n",
    "                    df_indexes.append(index)\n",
    "                    \n",
    "                index = index +1\n",
    "\n",
    "            batch = self.dataset.iloc[df_indexes]\n",
    "            \n",
    "            return(batch)"
   ]
  },
  {
   "cell_type": "code",
   "execution_count": 5,
   "metadata": {},
   "outputs": [],
   "source": [
    "def vertices_intersection(dataset,t0,t1,t2):\n",
    "    \n",
    "    #Create two graphs\n",
    "    G1 = graph(dataset,t0,t1) #for t-1,t\n",
    "    G2 = graph(dataset,t1,t2) #for t, t+1\n",
    "    \n",
    "    S1=set(G1.graph.nodes())\n",
    "    S2=set(G2.graph.nodes())\n",
    "    #print(S1,S2)\n",
    "    return set.intersection(S1,S2) #Return the common nodes"
   ]
  },
  {
   "cell_type": "code",
   "execution_count": 148,
   "metadata": {},
   "outputs": [],
   "source": [
    "def E_prev_set(dataset,t0,t1,t2):\n",
    "    \n",
    "    #Calculate the intersection\n",
    "    G1 = graph(dataset,t0,t1) #for t-1,t\n",
    "    G2 = graph(dataset,t1,t2) #for t, t+1\n",
    "    \n",
    "    S1 = set(G1.graph.nodes())\n",
    "    S2 = set(G2.graph.nodes())\n",
    "    \n",
    "    intersection = set.intersection(S1,S2)\n",
    "    #Calculate the the intersection vertices in [t-1, t)\n",
    "    df = pd.DataFrame(columns = [\"source_id\", \"target_id\", \"timestamp\"])\n",
    "    for row in G1.batch.itertuples():\n",
    "        if (row.source_id in intersection and row.target_id in intersection) and (t0<=row.timestamp<t1):\n",
    "            #print(row.target_id,row.source_id)\n",
    "            df = pd.concat([df,pd.DataFrame([row])],axis = 0)\n",
    "\n",
    "    if not df.empty:\n",
    "        del df['Index']\n",
    "        df=df.reset_index(drop=True)\n",
    "\n",
    "        #Calculate the intersection edges in [t-1, t)\n",
    "        G= graph(df,t0,t1)\n",
    "\n",
    "        return set(G.graph.edges())"
   ]
  },
  {
   "cell_type": "code",
   "execution_count": 149,
   "metadata": {},
   "outputs": [],
   "source": [
    "def E_next_set(dataset,t0,t1,t2):\n",
    "    \n",
    "    #Calculate the intersection\n",
    "    G1 = graph(dataset,t0,t1) #for t-1,t\n",
    "    G2 = graph(dataset,t1,t2) #for t, t+1\n",
    "    \n",
    "    S1 = set(G1.graph.nodes())\n",
    "    S2 = set(G2.graph.nodes())\n",
    "    \n",
    "    intersection = set.intersection(S1,S2)\n",
    "\n",
    "    #Calculate the the intersection vertices in [t, t+1)\n",
    "    df = pd.DataFrame(columns = [\"source_id\", \"target_id\", \"timestamp\"])\n",
    "    for row in G2.batch.itertuples():\n",
    "        if (row.source_id in intersection and row.target_id in intersection) and (t1<=row.timestamp<t2):\n",
    "            df = pd.concat([df,pd.DataFrame([row])],axis = 0)\n",
    "    \n",
    "    if not df.empty:\n",
    "        del df['Index']\n",
    "        df=df.reset_index(drop=True)\n",
    "\n",
    "        #Calculate the intersection edges in [t, t+1)\n",
    "        G= graph(df,t1,t2)\n",
    "\n",
    "        return set(G.graph.edges())"
   ]
  },
  {
   "cell_type": "code",
   "execution_count": 150,
   "metadata": {},
   "outputs": [],
   "source": [
    "def vertices_volume(dataset,N):\n",
    "    \n",
    "    time_intervals = create_intervals(dataset,N)\n",
    "    #print(time_intervals)\n",
    "    intersection_list=[]\n",
    "    i = 0\n",
    "    for time_interval in time_intervals:\n",
    "        if i < (len(time_intervals)-1):\n",
    "            dt = time_interval[1] - time_interval[0]\n",
    "            intersection_list.append(len(vertices_intersection(dataset, time_interval[0], time_interval[1], time_interval[1] + dt)))\n",
    "    #print(vertices_intersection(dataset, 1994, 1996, 1998))\n",
    "        \n",
    "    return(intersection_list)"
   ]
  },
  {
   "cell_type": "code",
   "execution_count": 151,
   "metadata": {},
   "outputs": [],
   "source": [
    "def jaccard_distance(dataset,t0,t1,t2):\n",
    "    \n",
    "    vertices_list = sorted(vertices_intersection(dataset,t0,t1,t2))\n",
    "    edges_set = E_prev_set(dataset,t0,t1,t2)\n",
    "\n",
    "    #Create the graph Object\n",
    "    Gprev=nx.Graph()\n",
    "    \n",
    "    #Add the common vertices for the [t-1, t+1]\n",
    "    Gprev.add_nodes_from(vertices_list)\n",
    "    #Take the edges of the [t-1, t) interval\n",
    "    if edges_set is not None:\n",
    "        Gprev.add_edges_from(edges_set)\n",
    "    \n",
    "    pos = nx.spring_layout(Gprev)  # positions for all nodes\n",
    "    # nodes\n",
    "    nx.draw_networkx_nodes(Gprev, pos, node_size=700)\n",
    "    # edges\n",
    "    nx.draw_networkx_edges(Gprev, pos, edgelist=edges_set,\n",
    "                           width=6)\n",
    "    # labels\n",
    "    nx.draw_networkx_labels(Gprev, pos, font_size=20, font_family='sans-serif')\n",
    "    plt.axis('off')\n",
    "    plt.show()\n",
    "    \n",
    "    jacc = list(nx.jaccard_coefficient(Gprev))\n",
    "    df=pd.DataFrame(0,index=vertices_list, columns=vertices_list)\n",
    "    for i in range(0,len(jacc)):\n",
    "        df.loc[jacc[i][0],jacc[i][1]] = jacc[i][2]\n",
    "        df.loc[jacc[i][1],jacc[i][0]] = jacc[i][2]\n",
    "        \n",
    "    return(df)"
   ]
  },
  {
   "cell_type": "code",
   "execution_count": 152,
   "metadata": {},
   "outputs": [],
   "source": [
    "def calculate_label(dataset,t0,t1,t2):\n",
    "    \n",
    "    vertices_list = sorted(vertices_intersection(dataset,t0,t1,t2))\n",
    "    edges_set_prev = E_prev_set(dataset,t0,t1,t2)\n",
    "    edges_set_next = E_next_set(dataset,t0,t1,t2)\n",
    "    label=pd.DataFrame('-',index=vertices_list, columns=vertices_list)\n",
    "    if edges_set_prev is not None:\n",
    "        edges_prev=list(edges_set_prev)\n",
    "        for i in range(0,len(edges_prev)):\n",
    "            label.loc[edges_prev[i][0],edges_prev[i][1]] = 0\n",
    "            label.loc[edges_prev[i][1],edges_prev[i][0]] = 0\n",
    "    if edges_set_next is not None:\n",
    "        edges_next=list(edges_set_next)\n",
    "        for i in range(0,len(edges_next)):\n",
    "            label.loc[edges_next[i][0],edges_next[i][1]] = '+'\n",
    "            label.loc[edges_next[i][1],edges_next[i][0]] = '+'\n",
    "    for i in range(0,len(vertices_list)):\n",
    "        label.loc[vertices_list[i],vertices_list[i]] = 0\n",
    "    return label"
   ]
  },
  {
   "cell_type": "code",
   "execution_count": 153,
   "metadata": {},
   "outputs": [],
   "source": [
    "def calculate_jaccard_distance(dataset, N):\n",
    "    \n",
    "    time_intervals = create_intervals(dataset,N)\n",
    "    for time_interval in time_intervals:\n",
    "\n",
    "        dt = time_interval[1] - time_interval[0]\n",
    "\n",
    "        #Common Neighbors Distance Calculation\n",
    "        matrix=jaccard_distance(dataset, time_interval[0], time_interval[1], time_interval[1] + dt)\n",
    "        label=calculate_label(dataset, time_interval[0], time_interval[1], time_interval[1] + dt)\n",
    "        if (matrix is not None) and (not matrix.empty):\n",
    "            print(time_interval)\n",
    "            pretty_df(matrix)\n",
    "            pretty_df(label)"
   ]
  },
  {
   "cell_type": "code",
   "execution_count": 154,
   "metadata": {
    "scrolled": false
   },
   "outputs": [
    {
     "data": {
      "image/png": "[encoded data removed]",
      "text/plain": [
       "<Figure size 432x288 with 1 Axes>"
      ]
     },
     "metadata": {
      "needs_background": "light"
     },
     "output_type": "display_data"
    },
    {
     "name": "stdout",
     "output_type": "stream",
     "text": [
      "[1988, 1990]\n",
      "╒════╤═════╤═════╤═════╕\n",
      "│    │   a │   g │   t │\n",
      "╞════╪═════╪═════╪═════╡\n",
      "│ a  │   0 │   0 │   0 │\n",
      "├────┼─────┼─────┼─────┤\n",
      "│ g  │   0 │   0 │   0 │\n",
      "├────┼─────┼─────┼─────┤\n",
      "│ t  │   0 │   0 │   0 │\n",
      "╘════╧═════╧═════╧═════╛\n",
      "╒════╤═════╤═════╤═════╕\n",
      "│    │ a   │ g   │ t   │\n",
      "╞════╪═════╪═════╪═════╡\n",
      "│ a  │ 0   │ +   │ +   │\n",
      "├────┼─────┼─────┼─────┤\n",
      "│ g  │ +   │ 0   │ -   │\n",
      "├────┼─────┼─────┼─────┤\n",
      "│ t  │ +   │ -   │ 0   │\n",
      "╘════╧═════╧═════╧═════╛\n"
     ]
    },
    {
     "name": "stderr",
     "output_type": "stream",
     "text": [
      "C:\\Users\\faisal\\Anaconda3\\lib\\site-packages\\ipykernel_launcher.py:16: FutureWarning: Sorting because non-concatenation axis is not aligned. A future version\n",
      "of pandas will change to not sort by default.\n",
      "\n",
      "To accept the future behavior, pass 'sort=False'.\n",
      "\n",
      "To retain the current behavior and silence the warning, pass 'sort=True'.\n",
      "\n",
      "  app.launch_new_instance()\n"
     ]
    },
    {
     "data": {
      "image/png": "[encoded data removed]",
      "text/plain": [
       "<Figure size 432x288 with 1 Axes>"
      ]
     },
     "metadata": {
      "needs_background": "light"
     },
     "output_type": "display_data"
    },
    {
     "name": "stdout",
     "output_type": "stream",
     "text": [
      "[1990, 1993]\n",
      "╒════╤═════╤═════╤═════╤═════╕\n",
      "│    │   a │   g │   l │   t │\n",
      "╞════╪═════╪═════╪═════╪═════╡\n",
      "│ a  │ 0   │ 0   │ 0.5 │ 0   │\n",
      "├────┼─────┼─────┼─────┼─────┤\n",
      "│ g  │ 0   │ 0   │ 0   │ 0.5 │\n",
      "├────┼─────┼─────┼─────┼─────┤\n",
      "│ l  │ 0.5 │ 0   │ 0   │ 0   │\n",
      "├────┼─────┼─────┼─────┼─────┤\n",
      "│ t  │ 0   │ 0.5 │ 0   │ 0   │\n",
      "╘════╧═════╧═════╧═════╧═════╛\n",
      "╒════╤═════╤═════╤═════╤═════╕\n",
      "│    │ a   │ g   │ l   │ t   │\n",
      "╞════╪═════╪═════╪═════╪═════╡\n",
      "│ a  │ 0   │ 0   │ -   │ 0   │\n",
      "├────┼─────┼─────┼─────┼─────┤\n",
      "│ g  │ 0   │ 0   │ -   │ -   │\n",
      "├────┼─────┼─────┼─────┼─────┤\n",
      "│ l  │ -   │ -   │ 0   │ 0   │\n",
      "├────┼─────┼─────┼─────┼─────┤\n",
      "│ t  │ 0   │ -   │ 0   │ 0   │\n",
      "╘════╧═════╧═════╧═════╧═════╛\n"
     ]
    },
    {
     "data": {
      "image/png": "[encoded data removed]",
      "text/plain": [
       "<Figure size 432x288 with 1 Axes>"
      ]
     },
     "metadata": {
      "needs_background": "light"
     },
     "output_type": "display_data"
    },
    {
     "name": "stdout",
     "output_type": "stream",
     "text": [
      "[1993, 1996]\n",
      "╒════╤═════╤═════╤═════╤═════╤═════╤═════╤═════╕\n",
      "│    │   a │   c │   g │   k │   l │   p │   t │\n",
      "╞════╪═════╪═════╪═════╪═════╪═════╪═════╪═════╡\n",
      "│ a  │ 0   │ 0   │ 0.5 │ 0   │   0 │ 0.5 │ 1   │\n",
      "├────┼─────┼─────┼─────┼─────┼─────┼─────┼─────┤\n",
      "│ c  │ 0   │ 0   │ 0   │ 0.5 │   0 │ 0   │ 0   │\n",
      "├────┼─────┼─────┼─────┼─────┼─────┼─────┼─────┤\n",
      "│ g  │ 0.5 │ 0   │ 0   │ 0   │   0 │ 1   │ 0.5 │\n",
      "├────┼─────┼─────┼─────┼─────┼─────┼─────┼─────┤\n",
      "│ k  │ 0   │ 0.5 │ 0   │ 0   │   0 │ 0   │ 0   │\n",
      "├────┼─────┼─────┼─────┼─────┼─────┼─────┼─────┤\n",
      "│ l  │ 0   │ 0   │ 0   │ 0   │   0 │ 0   │ 0   │\n",
      "├────┼─────┼─────┼─────┼─────┼─────┼─────┼─────┤\n",
      "│ p  │ 0.5 │ 0   │ 1   │ 0   │   0 │ 0   │ 0.5 │\n",
      "├────┼─────┼─────┼─────┼─────┼─────┼─────┼─────┤\n",
      "│ t  │ 1   │ 0   │ 0.5 │ 0   │   0 │ 0.5 │ 0   │\n",
      "╘════╧═════╧═════╧═════╧═════╧═════╧═════╧═════╛\n",
      "╒════╤═════╤═════╤═════╤═════╤═════╤═════╤═════╕\n",
      "│    │ a   │ c   │ g   │ k   │ l   │ p   │ t   │\n",
      "╞════╪═════╪═════╪═════╪═════╪═════╪═════╪═════╡\n",
      "│ a  │ 0   │ 0   │ -   │ -   │ -   │ -   │ +   │\n",
      "├────┼─────┼─────┼─────┼─────┼─────┼─────┼─────┤\n",
      "│ c  │ 0   │ 0   │ 0   │ -   │ -   │ 0   │ 0   │\n",
      "├────┼─────┼─────┼─────┼─────┼─────┼─────┼─────┤\n",
      "│ g  │ -   │ 0   │ 0   │ 0   │ -   │ -   │ -   │\n",
      "├────┼─────┼─────┼─────┼─────┼─────┼─────┼─────┤\n",
      "│ k  │ -   │ -   │ 0   │ 0   │ -   │ +   │ -   │\n",
      "├────┼─────┼─────┼─────┼─────┼─────┼─────┼─────┤\n",
      "│ l  │ -   │ -   │ -   │ -   │ 0   │ -   │ -   │\n",
      "├────┼─────┼─────┼─────┼─────┼─────┼─────┼─────┤\n",
      "│ p  │ -   │ 0   │ -   │ +   │ -   │ 0   │ -   │\n",
      "├────┼─────┼─────┼─────┼─────┼─────┼─────┼─────┤\n",
      "│ t  │ +   │ 0   │ -   │ -   │ -   │ -   │ 0   │\n",
      "╘════╧═════╧═════╧═════╧═════╧═════╧═════╧═════╛\n"
     ]
    },
    {
     "data": {
      "image/png": "[encoded data removed]",
      "text/plain": [
       "<Figure size 432x288 with 1 Axes>"
      ]
     },
     "metadata": {
      "needs_background": "light"
     },
     "output_type": "display_data"
    },
    {
     "name": "stdout",
     "output_type": "stream",
     "text": [
      "[1996, 1999]\n",
      "╒════╤═════╤═════╕\n",
      "│    │   a │   p │\n",
      "╞════╪═════╪═════╡\n",
      "│ a  │   0 │   0 │\n",
      "├────┼─────┼─────┤\n",
      "│ p  │   0 │   0 │\n",
      "╘════╧═════╧═════╛\n",
      "╒════╤═════╤═════╕\n",
      "│    │ a   │ p   │\n",
      "╞════╪═════╪═════╡\n",
      "│ a  │ 0   │ +   │\n",
      "├────┼─────┼─────┤\n",
      "│ p  │ +   │ 0   │\n",
      "╘════╧═════╧═════╛\n"
     ]
    }
   ],
   "source": [
    "calculate_jaccard_distance(dataset, 4)"
   ]
  },
  {
   "cell_type": "code",
   "execution_count": null,
   "metadata": {},
   "outputs": [],
   "source": []
  },
  {
   "cell_type": "code",
   "execution_count": null,
   "metadata": {},
   "outputs": [],
   "source": []
  }
 ],
 "metadata": {
  "kernelspec": {
   "display_name": "Python 3",
   "language": "python",
   "name": "python3"
  },
  "language_info": {
   "codemirror_mode": {
    "name": "ipython",
    "version": 3
   },
   "file_extension": ".py",
   "mimetype": "text/x-python",
   "name": "python",
   "nbconvert_exporter": "python",
   "pygments_lexer": "ipython3",
   "version": "3.7.0"
  }
 },
 "nbformat": 4,
 "nbformat_minor": 2
}
