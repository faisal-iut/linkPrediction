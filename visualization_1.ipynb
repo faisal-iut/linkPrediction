{
 "cells": [
  {
   "cell_type": "code",
   "execution_count": 1,
   "metadata": {},
   "outputs": [],
   "source": [
    "import pandas as pd\n",
    "import networkx as nx\n",
    "import matplotlib.pyplot as plt"
   ]
  },
  {
   "cell_type": "code",
   "execution_count": 2,
   "metadata": {},
   "outputs": [],
   "source": [
    "df = pd.read_csv('select_top_10_percent____from___select_A.csv')"
   ]
  },
  {
   "cell_type": "code",
   "execution_count": 3,
   "metadata": {},
   "outputs": [
    {
     "name": "stdout",
     "output_type": "stream",
     "text": [
      "                    S                    D  art_year  art_id\n",
      "0        magnetometer   periodic breathing      1980  101167\n",
      "1  periodic breathing  transcutaneous p o       1980  101167\n",
      "2             infants  transcutaneous p o       1980  101167\n",
      "3         development               gender      1980  101162\n",
      "4             infants         magnetometer      1980  101167\n"
     ]
    }
   ],
   "source": [
    "print(df.head())"
   ]
  },
  {
   "cell_type": "code",
   "execution_count": 4,
   "metadata": {},
   "outputs": [],
   "source": [
    "G=nx.from_pandas_edgelist(df, 'S', 'D','art_year')"
   ]
  },
  {
   "cell_type": "code",
   "execution_count": null,
   "metadata": {},
   "outputs": [],
   "source": [
    "nx.draw(G, with_labels=True)"
   ]
  },
  {
   "cell_type": "code",
   "execution_count": null,
   "metadata": {},
   "outputs": [],
   "source": [
    "plt.show()"
   ]
  },
  {
   "cell_type": "code",
   "execution_count": null,
   "metadata": {},
   "outputs": [],
   "source": [
    "plt.figure(figsize=(12, 12))\n",
    "\n",
    "# 2. Create a layout for our nodes \n",
    "layout = nx.spring_layout(G,iterations=50)\n",
    "\n",
    "# 3. Draw the parts we want\n",
    "nx.draw_networkx_edges(G, layout, edge_color='#AAAAAA')\n"
   ]
  },
  {
   "cell_type": "code",
   "execution_count": null,
   "metadata": {},
   "outputs": [],
   "source": [
    "S = [node for node in G.nodes() if node in df.S.unique()]\n",
    "size = [G.degree(node) * 80 for node in G.nodes() if node in df.S.unique()]\n",
    "nx.draw_networkx_nodes(G, layout, nodelist=S, node_size=size, node_color='lightblue')"
   ]
  },
  {
   "cell_type": "code",
   "execution_count": null,
   "metadata": {},
   "outputs": [],
   "source": [
    "D = [node for node in G.nodes() if node in df.D.unique()]\n",
    "nx.draw_networkx_nodes(G, layout, nodelist=D, node_size=100, node_color='#AAAAAA')"
   ]
  },
  {
   "cell_type": "code",
   "execution_count": null,
   "metadata": {},
   "outputs": [],
   "source": [
    "high_degree_D = [node for node in G.nodes() if node in df.D.unique() and G.degree(node) > 1]\n",
    "nx.draw_networkx_nodes(G, layout, nodelist=high_degree_D, node_size=100, node_color='#fc8d62')"
   ]
  },
  {
   "cell_type": "code",
   "execution_count": null,
   "metadata": {},
   "outputs": [],
   "source": [
    "S_dict = dict(zip(S, S))\n",
    "nx.draw_networkx_labels(G, layout, labels=S_dict)\n",
    "\n",
    "# 4. Turn off the axis because I know you don't want it\n",
    "plt.axis('off')\n",
    "\n",
    "plt.title(\"keyword-keyword cooccurance\")\n",
    "\n",
    "# 5. Tell matplotlib to show it\n",
    "plt.show()"
   ]
  },
  {
   "cell_type": "code",
   "execution_count": null,
   "metadata": {},
   "outputs": [],
   "source": [
    "plt.figure(figsize=(12, 12))\n",
    "\n",
    "# 2. Create a layout for our nodes \n",
    "layout = nx.spring_layout(G,iterations=50)\n",
    "\n",
    "# 3. Draw the parts we want\n",
    "nx.draw_networkx_edges(G, layout, edge_color='#AAAAAA')\n",
    "\n",
    "S = [node for node in G.nodes() if node in df.S.unique()]\n",
    "size = [G.degree(node) * 80 for node in G.nodes() if node in df.S.unique()]\n",
    "nx.draw_networkx_nodes(G, layout, nodelist=S, node_size=size, node_color='lightblue')\n",
    "\n",
    "D = [node for node in G.nodes() if node in df.D.unique()]\n",
    "nx.draw_networkx_nodes(G, layout, nodelist=D, node_size=100, node_color='#AAAAAA')\n",
    "\n",
    "high_degree_D = [node for node in G.nodes() if node in df.D.unique() and G.degree(node) > 1]\n",
    "nx.draw_networkx_nodes(G, layout, nodelist=high_degree_D, node_size=100, node_color='#fc8d62')\n",
    "\n",
    "S_dict = dict(zip(S, S))\n",
    "nx.draw_networkx_labels(G, layout, labels=S_dict)\n",
    "\n",
    "# 4. Turn off the axis because I know you don't want it\n",
    "plt.axis('off')\n",
    "\n",
    "plt.title(\"keyword-keyword cooccurance\")\n",
    "\n",
    "# 5. Tell matplotlib to show it\n",
    "plt.show()"
   ]
  },
  {
   "cell_type": "code",
   "execution_count": null,
   "metadata": {},
   "outputs": [],
   "source": [
    "G.nodes()"
   ]
  },
  {
   "cell_type": "code",
   "execution_count": null,
   "metadata": {},
   "outputs": [],
   "source": [
    "degrees = list(nx.degree(G))"
   ]
  },
  {
   "cell_type": "code",
   "execution_count": null,
   "metadata": {},
   "outputs": [],
   "source": [
    "pd.DataFrame([list(d) for d in degrees], columns=['ID', 'degree']).sort_values('degree', ascending=False).head(40)"
   ]
  },
  {
   "cell_type": "code",
   "execution_count": null,
   "metadata": {},
   "outputs": [],
   "source": [
    "for (u, v, d) in G.edges(data='art_year'):\n",
    "    if d < 1982:\n",
    "        print(u, v, d)"
   ]
  },
  {
   "cell_type": "code",
   "execution_count": null,
   "metadata": {},
   "outputs": [],
   "source": [
    "list(nx.connected_components(G))"
   ]
  },
  {
   "cell_type": "code",
   "execution_count": null,
   "metadata": {},
   "outputs": [],
   "source": [
    "nx.degree(G)"
   ]
  },
  {
   "cell_type": "code",
   "execution_count": null,
   "metadata": {},
   "outputs": [],
   "source": [
    "df.columns= [\"s\", \"d\", \"year\",\"id\"]"
   ]
  },
  {
   "cell_type": "code",
   "execution_count": null,
   "metadata": {},
   "outputs": [],
   "source": [
    "print(df.year.min())"
   ]
  },
  {
   "cell_type": "code",
   "execution_count": null,
   "metadata": {},
   "outputs": [],
   "source": [
    "df = pd.read_csv('dataset/apnea-keyword,year,title,5')"
   ]
  },
  {
   "cell_type": "code",
   "execution_count": null,
   "metadata": {},
   "outputs": [],
   "source": []
  },
  {
   "cell_type": "code",
   "execution_count": null,
   "metadata": {},
   "outputs": [],
   "source": []
  },
  {
   "cell_type": "code",
   "execution_count": null,
   "metadata": {},
   "outputs": [],
   "source": []
  }
 ],
 "metadata": {
  "kernelspec": {
   "display_name": "Python 3",
   "language": "python",
   "name": "python3"
  },
  "language_info": {
   "codemirror_mode": {
    "name": "ipython",
    "version": 3
   },
   "file_extension": ".py",
   "mimetype": "text/x-python",
   "name": "python",
   "nbconvert_exporter": "python",
   "pygments_lexer": "ipython3",
   "version": "3.7.0"
  }
 },
 "nbformat": 4,
 "nbformat_minor": 2
}
